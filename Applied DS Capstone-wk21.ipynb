{
 "cells": [
  {
   "cell_type": "markdown",
   "metadata": {},
   "source": [
    "# Applied Data Science Capstone Project\n",
    "Using historical data to analyse and estimate road accident severity."
   ]
  },
  {
   "cell_type": "code",
   "execution_count": 89,
   "metadata": {},
   "outputs": [],
   "source": [
    "import pandas as pd\n",
    "import numpy as np\n",
    "import itertools\n",
    "import matplotlib.pyplot as plt\n",
    "from matplotlib.ticker import NullFormatter\n",
    "import matplotlib.ticker as ticker\n",
    "from sklearn import preprocessing\n",
    "import seaborn as sns\n",
    "%matplotlib inline"
   ]
  },
  {
   "cell_type": "code",
   "execution_count": 90,
   "metadata": {},
   "outputs": [
    {
     "name": "stderr",
     "output_type": "stream",
     "text": [
      "C:\\Anaconda\\Anaconda3\\lib\\site-packages\\IPython\\core\\interactiveshell.py:3146: DtypeWarning: Columns (33) have mixed types.Specify dtype option on import or set low_memory=False.\n",
      "  interactivity=interactivity, compiler=compiler, result=result)\n"
     ]
    },
    {
     "data": {
      "text/html": [
       "<div>\n",
       "<style scoped>\n",
       "    .dataframe tbody tr th:only-of-type {\n",
       "        vertical-align: middle;\n",
       "    }\n",
       "\n",
       "    .dataframe tbody tr th {\n",
       "        vertical-align: top;\n",
       "    }\n",
       "\n",
       "    .dataframe thead th {\n",
       "        text-align: right;\n",
       "    }\n",
       "</style>\n",
       "<table border=\"1\" class=\"dataframe\">\n",
       "  <thead>\n",
       "    <tr style=\"text-align: right;\">\n",
       "      <th></th>\n",
       "      <th>SEVERITYCODE</th>\n",
       "      <th>X</th>\n",
       "      <th>Y</th>\n",
       "      <th>OBJECTID</th>\n",
       "      <th>INCKEY</th>\n",
       "      <th>COLDETKEY</th>\n",
       "      <th>REPORTNO</th>\n",
       "      <th>STATUS</th>\n",
       "      <th>ADDRTYPE</th>\n",
       "      <th>INTKEY</th>\n",
       "      <th>...</th>\n",
       "      <th>ROADCOND</th>\n",
       "      <th>LIGHTCOND</th>\n",
       "      <th>PEDROWNOTGRNT</th>\n",
       "      <th>SDOTCOLNUM</th>\n",
       "      <th>SPEEDING</th>\n",
       "      <th>ST_COLCODE</th>\n",
       "      <th>ST_COLDESC</th>\n",
       "      <th>SEGLANEKEY</th>\n",
       "      <th>CROSSWALKKEY</th>\n",
       "      <th>HITPARKEDCAR</th>\n",
       "    </tr>\n",
       "  </thead>\n",
       "  <tbody>\n",
       "    <tr>\n",
       "      <th>0</th>\n",
       "      <td>2</td>\n",
       "      <td>-122.323148</td>\n",
       "      <td>47.703140</td>\n",
       "      <td>1</td>\n",
       "      <td>1307</td>\n",
       "      <td>1307</td>\n",
       "      <td>3502005</td>\n",
       "      <td>Matched</td>\n",
       "      <td>Intersection</td>\n",
       "      <td>37475.0</td>\n",
       "      <td>...</td>\n",
       "      <td>Wet</td>\n",
       "      <td>Daylight</td>\n",
       "      <td>NaN</td>\n",
       "      <td>NaN</td>\n",
       "      <td>NaN</td>\n",
       "      <td>10</td>\n",
       "      <td>Entering at angle</td>\n",
       "      <td>0</td>\n",
       "      <td>0</td>\n",
       "      <td>N</td>\n",
       "    </tr>\n",
       "    <tr>\n",
       "      <th>1</th>\n",
       "      <td>1</td>\n",
       "      <td>-122.347294</td>\n",
       "      <td>47.647172</td>\n",
       "      <td>2</td>\n",
       "      <td>52200</td>\n",
       "      <td>52200</td>\n",
       "      <td>2607959</td>\n",
       "      <td>Matched</td>\n",
       "      <td>Block</td>\n",
       "      <td>NaN</td>\n",
       "      <td>...</td>\n",
       "      <td>Wet</td>\n",
       "      <td>Dark - Street Lights On</td>\n",
       "      <td>NaN</td>\n",
       "      <td>6354039.0</td>\n",
       "      <td>NaN</td>\n",
       "      <td>11</td>\n",
       "      <td>From same direction - both going straight - bo...</td>\n",
       "      <td>0</td>\n",
       "      <td>0</td>\n",
       "      <td>N</td>\n",
       "    </tr>\n",
       "    <tr>\n",
       "      <th>2</th>\n",
       "      <td>1</td>\n",
       "      <td>-122.334540</td>\n",
       "      <td>47.607871</td>\n",
       "      <td>3</td>\n",
       "      <td>26700</td>\n",
       "      <td>26700</td>\n",
       "      <td>1482393</td>\n",
       "      <td>Matched</td>\n",
       "      <td>Block</td>\n",
       "      <td>NaN</td>\n",
       "      <td>...</td>\n",
       "      <td>Dry</td>\n",
       "      <td>Daylight</td>\n",
       "      <td>NaN</td>\n",
       "      <td>4323031.0</td>\n",
       "      <td>NaN</td>\n",
       "      <td>32</td>\n",
       "      <td>One parked--one moving</td>\n",
       "      <td>0</td>\n",
       "      <td>0</td>\n",
       "      <td>N</td>\n",
       "    </tr>\n",
       "    <tr>\n",
       "      <th>3</th>\n",
       "      <td>1</td>\n",
       "      <td>-122.334803</td>\n",
       "      <td>47.604803</td>\n",
       "      <td>4</td>\n",
       "      <td>1144</td>\n",
       "      <td>1144</td>\n",
       "      <td>3503937</td>\n",
       "      <td>Matched</td>\n",
       "      <td>Block</td>\n",
       "      <td>NaN</td>\n",
       "      <td>...</td>\n",
       "      <td>Dry</td>\n",
       "      <td>Daylight</td>\n",
       "      <td>NaN</td>\n",
       "      <td>NaN</td>\n",
       "      <td>NaN</td>\n",
       "      <td>23</td>\n",
       "      <td>From same direction - all others</td>\n",
       "      <td>0</td>\n",
       "      <td>0</td>\n",
       "      <td>N</td>\n",
       "    </tr>\n",
       "    <tr>\n",
       "      <th>4</th>\n",
       "      <td>2</td>\n",
       "      <td>-122.306426</td>\n",
       "      <td>47.545739</td>\n",
       "      <td>5</td>\n",
       "      <td>17700</td>\n",
       "      <td>17700</td>\n",
       "      <td>1807429</td>\n",
       "      <td>Matched</td>\n",
       "      <td>Intersection</td>\n",
       "      <td>34387.0</td>\n",
       "      <td>...</td>\n",
       "      <td>Wet</td>\n",
       "      <td>Daylight</td>\n",
       "      <td>NaN</td>\n",
       "      <td>4028032.0</td>\n",
       "      <td>NaN</td>\n",
       "      <td>10</td>\n",
       "      <td>Entering at angle</td>\n",
       "      <td>0</td>\n",
       "      <td>0</td>\n",
       "      <td>N</td>\n",
       "    </tr>\n",
       "  </tbody>\n",
       "</table>\n",
       "<p>5 rows × 38 columns</p>\n",
       "</div>"
      ],
      "text/plain": [
       "   SEVERITYCODE           X          Y  OBJECTID  INCKEY  COLDETKEY REPORTNO  \\\n",
       "0             2 -122.323148  47.703140         1    1307       1307  3502005   \n",
       "1             1 -122.347294  47.647172         2   52200      52200  2607959   \n",
       "2             1 -122.334540  47.607871         3   26700      26700  1482393   \n",
       "3             1 -122.334803  47.604803         4    1144       1144  3503937   \n",
       "4             2 -122.306426  47.545739         5   17700      17700  1807429   \n",
       "\n",
       "    STATUS      ADDRTYPE   INTKEY  ... ROADCOND                LIGHTCOND  \\\n",
       "0  Matched  Intersection  37475.0  ...      Wet                 Daylight   \n",
       "1  Matched         Block      NaN  ...      Wet  Dark - Street Lights On   \n",
       "2  Matched         Block      NaN  ...      Dry                 Daylight   \n",
       "3  Matched         Block      NaN  ...      Dry                 Daylight   \n",
       "4  Matched  Intersection  34387.0  ...      Wet                 Daylight   \n",
       "\n",
       "  PEDROWNOTGRNT  SDOTCOLNUM SPEEDING ST_COLCODE  \\\n",
       "0           NaN         NaN      NaN         10   \n",
       "1           NaN   6354039.0      NaN         11   \n",
       "2           NaN   4323031.0      NaN         32   \n",
       "3           NaN         NaN      NaN         23   \n",
       "4           NaN   4028032.0      NaN         10   \n",
       "\n",
       "                                          ST_COLDESC  SEGLANEKEY  \\\n",
       "0                                  Entering at angle           0   \n",
       "1  From same direction - both going straight - bo...           0   \n",
       "2                             One parked--one moving           0   \n",
       "3                   From same direction - all others           0   \n",
       "4                                  Entering at angle           0   \n",
       "\n",
       "   CROSSWALKKEY  HITPARKEDCAR  \n",
       "0             0             N  \n",
       "1             0             N  \n",
       "2             0             N  \n",
       "3             0             N  \n",
       "4             0             N  \n",
       "\n",
       "[5 rows x 38 columns]"
      ]
     },
     "execution_count": 90,
     "metadata": {},
     "output_type": "execute_result"
    }
   ],
   "source": [
    "filename = 'Data-Collisions.csv'\n",
    "collisions_loaded = pd.read_csv(filename)\n",
    "collisions_loaded.head()"
   ]
  },
  {
   "cell_type": "code",
   "execution_count": 91,
   "metadata": {},
   "outputs": [
    {
     "data": {
      "text/plain": [
       "Index(['SEVERITYCODE', 'X', 'Y', 'OBJECTID', 'INCKEY', 'COLDETKEY', 'REPORTNO',\n",
       "       'STATUS', 'ADDRTYPE', 'INTKEY', 'LOCATION', 'EXCEPTRSNCODE',\n",
       "       'EXCEPTRSNDESC', 'SEVERITYCODE.1', 'SEVERITYDESC', 'COLLISIONTYPE',\n",
       "       'PERSONCOUNT', 'PEDCOUNT', 'PEDCYLCOUNT', 'VEHCOUNT', 'INCDATE',\n",
       "       'INCDTTM', 'JUNCTIONTYPE', 'SDOT_COLCODE', 'SDOT_COLDESC',\n",
       "       'INATTENTIONIND', 'UNDERINFL', 'WEATHER', 'ROADCOND', 'LIGHTCOND',\n",
       "       'PEDROWNOTGRNT', 'SDOTCOLNUM', 'SPEEDING', 'ST_COLCODE', 'ST_COLDESC',\n",
       "       'SEGLANEKEY', 'CROSSWALKKEY', 'HITPARKEDCAR'],\n",
       "      dtype='object')"
      ]
     },
     "execution_count": 91,
     "metadata": {},
     "output_type": "execute_result"
    }
   ],
   "source": [
    "collisions_loaded.columns"
   ]
  },
  {
   "cell_type": "markdown",
   "metadata": {},
   "source": [
    "### Copy loaded data for convenience"
   ]
  },
  {
   "cell_type": "code",
   "execution_count": 92,
   "metadata": {},
   "outputs": [
    {
     "data": {
      "text/plain": [
       "(194673, 38)"
      ]
     },
     "execution_count": 92,
     "metadata": {},
     "output_type": "execute_result"
    }
   ],
   "source": [
    "collisions_df = collisions_loaded.copy()\n",
    "collisions_df.shape"
   ]
  },
  {
   "cell_type": "markdown",
   "metadata": {},
   "source": [
    "## Clean Data"
   ]
  },
  {
   "cell_type": "code",
   "execution_count": 93,
   "metadata": {},
   "outputs": [
    {
     "name": "stdout",
     "output_type": "stream",
     "text": [
      "Loaded data dimensions (shape) (194673, 38)\n"
     ]
    },
    {
     "data": {
      "text/plain": [
       "SEVERITYCODE        int64\n",
       "X                 float64\n",
       "Y                 float64\n",
       "OBJECTID            int64\n",
       "INCKEY              int64\n",
       "COLDETKEY           int64\n",
       "REPORTNO           object\n",
       "STATUS             object\n",
       "ADDRTYPE           object\n",
       "INTKEY            float64\n",
       "LOCATION           object\n",
       "EXCEPTRSNCODE      object\n",
       "EXCEPTRSNDESC      object\n",
       "SEVERITYCODE.1      int64\n",
       "SEVERITYDESC       object\n",
       "COLLISIONTYPE      object\n",
       "PERSONCOUNT         int64\n",
       "PEDCOUNT            int64\n",
       "PEDCYLCOUNT         int64\n",
       "VEHCOUNT            int64\n",
       "INCDATE            object\n",
       "INCDTTM            object\n",
       "JUNCTIONTYPE       object\n",
       "SDOT_COLCODE        int64\n",
       "SDOT_COLDESC       object\n",
       "INATTENTIONIND     object\n",
       "UNDERINFL          object\n",
       "WEATHER            object\n",
       "ROADCOND           object\n",
       "LIGHTCOND          object\n",
       "PEDROWNOTGRNT      object\n",
       "SDOTCOLNUM        float64\n",
       "SPEEDING           object\n",
       "ST_COLCODE         object\n",
       "ST_COLDESC         object\n",
       "SEGLANEKEY          int64\n",
       "CROSSWALKKEY        int64\n",
       "HITPARKEDCAR       object\n",
       "dtype: object"
      ]
     },
     "execution_count": 93,
     "metadata": {},
     "output_type": "execute_result"
    }
   ],
   "source": [
    "print('Loaded data dimensions (shape)', collisions_df.shape)\n",
    "collisions_df.dtypes"
   ]
  },
  {
   "cell_type": "markdown",
   "metadata": {},
   "source": [
    "### Item: SEVERITYCODE\n",
    "This code corresponds to the severity of the collision. Only two codes are represented in the data ***(1=property damage and 2=injury)***. This code can be used as the target labels for the purpose of machine learning (ML). The redundundant SEVERITYCODE.1 should be dropped.\n",
    "<p/>\n",
    "\n",
    "### Item: X, Y\n",
    "These are coordinates, ***where X=longitude (magnitudes<180) and Y=latitude (magnitudes<90)*** - these can be renamed used instead of the **LOCATION**, which is a description of the general location of the collision. So LOCATION should be dropped.\n",
    "<p/>\n",
    "\n",
    "### Initial List of Reduncant Items: (***based on insights drawn from the metadata document***)\n",
    "OBJECTID, INCKEY, COLDETKEY, REPORTNO, INTKEY, EXCEPTRSNCODE, EXCEPTRSNDESC, SEVERITYDESC (***deferred***), INCDATE (***prefer INCDTTM***), SDOT_COLDESC, ST_COLDESC"
   ]
  },
  {
   "cell_type": "code",
   "execution_count": 94,
   "metadata": {},
   "outputs": [],
   "source": [
    "colns_to_drop = ['SEVERITYCODE.1', 'LOCATION', 'OBJECTID', 'INCKEY', 'COLDETKEY', 'REPORTNO', 'INTKEY', 'EXCEPTRSNCODE',\\\n",
    "                 'EXCEPTRSNDESC', 'SEVERITYDESC', 'INCDATE', 'SDOT_COLDESC', 'ST_COLDESC']\n",
    "collisions_df.drop(columns=colns_to_drop, inplace=True)"
   ]
  },
  {
   "cell_type": "code",
   "execution_count": 95,
   "metadata": {},
   "outputs": [
    {
     "data": {
      "text/html": [
       "<div>\n",
       "<style scoped>\n",
       "    .dataframe tbody tr th:only-of-type {\n",
       "        vertical-align: middle;\n",
       "    }\n",
       "\n",
       "    .dataframe tbody tr th {\n",
       "        vertical-align: top;\n",
       "    }\n",
       "\n",
       "    .dataframe thead th {\n",
       "        text-align: right;\n",
       "    }\n",
       "</style>\n",
       "<table border=\"1\" class=\"dataframe\">\n",
       "  <thead>\n",
       "    <tr style=\"text-align: right;\">\n",
       "      <th></th>\n",
       "      <th>SEVERITYCODE</th>\n",
       "      <th>longitude</th>\n",
       "      <th>latitude</th>\n",
       "      <th>STATUS</th>\n",
       "      <th>ADDRTYPE</th>\n",
       "      <th>COLLISIONTYPE</th>\n",
       "      <th>PERSONCOUNT</th>\n",
       "      <th>PEDCOUNT</th>\n",
       "      <th>PEDCYLCOUNT</th>\n",
       "      <th>VEHCOUNT</th>\n",
       "      <th>...</th>\n",
       "      <th>WEATHER</th>\n",
       "      <th>ROADCOND</th>\n",
       "      <th>LIGHTCOND</th>\n",
       "      <th>PEDROWNOTGRNT</th>\n",
       "      <th>SDOTCOLNUM</th>\n",
       "      <th>SPEEDING</th>\n",
       "      <th>ST_COLCODE</th>\n",
       "      <th>SEGLANEKEY</th>\n",
       "      <th>CROSSWALKKEY</th>\n",
       "      <th>HITPARKEDCAR</th>\n",
       "    </tr>\n",
       "  </thead>\n",
       "  <tbody>\n",
       "    <tr>\n",
       "      <th>0</th>\n",
       "      <td>2</td>\n",
       "      <td>-122.323148</td>\n",
       "      <td>47.703140</td>\n",
       "      <td>Matched</td>\n",
       "      <td>Intersection</td>\n",
       "      <td>Angles</td>\n",
       "      <td>2</td>\n",
       "      <td>0</td>\n",
       "      <td>0</td>\n",
       "      <td>2</td>\n",
       "      <td>...</td>\n",
       "      <td>Overcast</td>\n",
       "      <td>Wet</td>\n",
       "      <td>Daylight</td>\n",
       "      <td>NaN</td>\n",
       "      <td>NaN</td>\n",
       "      <td>NaN</td>\n",
       "      <td>10</td>\n",
       "      <td>0</td>\n",
       "      <td>0</td>\n",
       "      <td>N</td>\n",
       "    </tr>\n",
       "    <tr>\n",
       "      <th>1</th>\n",
       "      <td>1</td>\n",
       "      <td>-122.347294</td>\n",
       "      <td>47.647172</td>\n",
       "      <td>Matched</td>\n",
       "      <td>Block</td>\n",
       "      <td>Sideswipe</td>\n",
       "      <td>2</td>\n",
       "      <td>0</td>\n",
       "      <td>0</td>\n",
       "      <td>2</td>\n",
       "      <td>...</td>\n",
       "      <td>Raining</td>\n",
       "      <td>Wet</td>\n",
       "      <td>Dark - Street Lights On</td>\n",
       "      <td>NaN</td>\n",
       "      <td>6354039.0</td>\n",
       "      <td>NaN</td>\n",
       "      <td>11</td>\n",
       "      <td>0</td>\n",
       "      <td>0</td>\n",
       "      <td>N</td>\n",
       "    </tr>\n",
       "    <tr>\n",
       "      <th>2</th>\n",
       "      <td>1</td>\n",
       "      <td>-122.334540</td>\n",
       "      <td>47.607871</td>\n",
       "      <td>Matched</td>\n",
       "      <td>Block</td>\n",
       "      <td>Parked Car</td>\n",
       "      <td>4</td>\n",
       "      <td>0</td>\n",
       "      <td>0</td>\n",
       "      <td>3</td>\n",
       "      <td>...</td>\n",
       "      <td>Overcast</td>\n",
       "      <td>Dry</td>\n",
       "      <td>Daylight</td>\n",
       "      <td>NaN</td>\n",
       "      <td>4323031.0</td>\n",
       "      <td>NaN</td>\n",
       "      <td>32</td>\n",
       "      <td>0</td>\n",
       "      <td>0</td>\n",
       "      <td>N</td>\n",
       "    </tr>\n",
       "    <tr>\n",
       "      <th>3</th>\n",
       "      <td>1</td>\n",
       "      <td>-122.334803</td>\n",
       "      <td>47.604803</td>\n",
       "      <td>Matched</td>\n",
       "      <td>Block</td>\n",
       "      <td>Other</td>\n",
       "      <td>3</td>\n",
       "      <td>0</td>\n",
       "      <td>0</td>\n",
       "      <td>3</td>\n",
       "      <td>...</td>\n",
       "      <td>Clear</td>\n",
       "      <td>Dry</td>\n",
       "      <td>Daylight</td>\n",
       "      <td>NaN</td>\n",
       "      <td>NaN</td>\n",
       "      <td>NaN</td>\n",
       "      <td>23</td>\n",
       "      <td>0</td>\n",
       "      <td>0</td>\n",
       "      <td>N</td>\n",
       "    </tr>\n",
       "    <tr>\n",
       "      <th>4</th>\n",
       "      <td>2</td>\n",
       "      <td>-122.306426</td>\n",
       "      <td>47.545739</td>\n",
       "      <td>Matched</td>\n",
       "      <td>Intersection</td>\n",
       "      <td>Angles</td>\n",
       "      <td>2</td>\n",
       "      <td>0</td>\n",
       "      <td>0</td>\n",
       "      <td>2</td>\n",
       "      <td>...</td>\n",
       "      <td>Raining</td>\n",
       "      <td>Wet</td>\n",
       "      <td>Daylight</td>\n",
       "      <td>NaN</td>\n",
       "      <td>4028032.0</td>\n",
       "      <td>NaN</td>\n",
       "      <td>10</td>\n",
       "      <td>0</td>\n",
       "      <td>0</td>\n",
       "      <td>N</td>\n",
       "    </tr>\n",
       "    <tr>\n",
       "      <th>...</th>\n",
       "      <td>...</td>\n",
       "      <td>...</td>\n",
       "      <td>...</td>\n",
       "      <td>...</td>\n",
       "      <td>...</td>\n",
       "      <td>...</td>\n",
       "      <td>...</td>\n",
       "      <td>...</td>\n",
       "      <td>...</td>\n",
       "      <td>...</td>\n",
       "      <td>...</td>\n",
       "      <td>...</td>\n",
       "      <td>...</td>\n",
       "      <td>...</td>\n",
       "      <td>...</td>\n",
       "      <td>...</td>\n",
       "      <td>...</td>\n",
       "      <td>...</td>\n",
       "      <td>...</td>\n",
       "      <td>...</td>\n",
       "      <td>...</td>\n",
       "    </tr>\n",
       "    <tr>\n",
       "      <th>194668</th>\n",
       "      <td>2</td>\n",
       "      <td>-122.290826</td>\n",
       "      <td>47.565408</td>\n",
       "      <td>Matched</td>\n",
       "      <td>Block</td>\n",
       "      <td>Head On</td>\n",
       "      <td>3</td>\n",
       "      <td>0</td>\n",
       "      <td>0</td>\n",
       "      <td>2</td>\n",
       "      <td>...</td>\n",
       "      <td>Clear</td>\n",
       "      <td>Dry</td>\n",
       "      <td>Daylight</td>\n",
       "      <td>NaN</td>\n",
       "      <td>NaN</td>\n",
       "      <td>NaN</td>\n",
       "      <td>24</td>\n",
       "      <td>0</td>\n",
       "      <td>0</td>\n",
       "      <td>N</td>\n",
       "    </tr>\n",
       "    <tr>\n",
       "      <th>194669</th>\n",
       "      <td>1</td>\n",
       "      <td>-122.344526</td>\n",
       "      <td>47.690924</td>\n",
       "      <td>Matched</td>\n",
       "      <td>Block</td>\n",
       "      <td>Rear Ended</td>\n",
       "      <td>2</td>\n",
       "      <td>0</td>\n",
       "      <td>0</td>\n",
       "      <td>2</td>\n",
       "      <td>...</td>\n",
       "      <td>Raining</td>\n",
       "      <td>Wet</td>\n",
       "      <td>Daylight</td>\n",
       "      <td>NaN</td>\n",
       "      <td>NaN</td>\n",
       "      <td>NaN</td>\n",
       "      <td>13</td>\n",
       "      <td>0</td>\n",
       "      <td>0</td>\n",
       "      <td>N</td>\n",
       "    </tr>\n",
       "    <tr>\n",
       "      <th>194670</th>\n",
       "      <td>2</td>\n",
       "      <td>-122.306689</td>\n",
       "      <td>47.683047</td>\n",
       "      <td>Matched</td>\n",
       "      <td>Intersection</td>\n",
       "      <td>Left Turn</td>\n",
       "      <td>3</td>\n",
       "      <td>0</td>\n",
       "      <td>0</td>\n",
       "      <td>2</td>\n",
       "      <td>...</td>\n",
       "      <td>Clear</td>\n",
       "      <td>Dry</td>\n",
       "      <td>Daylight</td>\n",
       "      <td>NaN</td>\n",
       "      <td>NaN</td>\n",
       "      <td>NaN</td>\n",
       "      <td>28</td>\n",
       "      <td>0</td>\n",
       "      <td>0</td>\n",
       "      <td>N</td>\n",
       "    </tr>\n",
       "    <tr>\n",
       "      <th>194671</th>\n",
       "      <td>2</td>\n",
       "      <td>-122.355317</td>\n",
       "      <td>47.678734</td>\n",
       "      <td>Matched</td>\n",
       "      <td>Intersection</td>\n",
       "      <td>Cycles</td>\n",
       "      <td>2</td>\n",
       "      <td>0</td>\n",
       "      <td>1</td>\n",
       "      <td>1</td>\n",
       "      <td>...</td>\n",
       "      <td>Clear</td>\n",
       "      <td>Dry</td>\n",
       "      <td>Dusk</td>\n",
       "      <td>NaN</td>\n",
       "      <td>NaN</td>\n",
       "      <td>NaN</td>\n",
       "      <td>5</td>\n",
       "      <td>4308</td>\n",
       "      <td>0</td>\n",
       "      <td>N</td>\n",
       "    </tr>\n",
       "    <tr>\n",
       "      <th>194672</th>\n",
       "      <td>1</td>\n",
       "      <td>-122.289360</td>\n",
       "      <td>47.611017</td>\n",
       "      <td>Matched</td>\n",
       "      <td>Block</td>\n",
       "      <td>Rear Ended</td>\n",
       "      <td>2</td>\n",
       "      <td>0</td>\n",
       "      <td>0</td>\n",
       "      <td>2</td>\n",
       "      <td>...</td>\n",
       "      <td>Clear</td>\n",
       "      <td>Wet</td>\n",
       "      <td>Daylight</td>\n",
       "      <td>NaN</td>\n",
       "      <td>NaN</td>\n",
       "      <td>NaN</td>\n",
       "      <td>14</td>\n",
       "      <td>0</td>\n",
       "      <td>0</td>\n",
       "      <td>N</td>\n",
       "    </tr>\n",
       "  </tbody>\n",
       "</table>\n",
       "<p>194673 rows × 25 columns</p>\n",
       "</div>"
      ],
      "text/plain": [
       "        SEVERITYCODE   longitude   latitude   STATUS      ADDRTYPE  \\\n",
       "0                  2 -122.323148  47.703140  Matched  Intersection   \n",
       "1                  1 -122.347294  47.647172  Matched         Block   \n",
       "2                  1 -122.334540  47.607871  Matched         Block   \n",
       "3                  1 -122.334803  47.604803  Matched         Block   \n",
       "4                  2 -122.306426  47.545739  Matched  Intersection   \n",
       "...              ...         ...        ...      ...           ...   \n",
       "194668             2 -122.290826  47.565408  Matched         Block   \n",
       "194669             1 -122.344526  47.690924  Matched         Block   \n",
       "194670             2 -122.306689  47.683047  Matched  Intersection   \n",
       "194671             2 -122.355317  47.678734  Matched  Intersection   \n",
       "194672             1 -122.289360  47.611017  Matched         Block   \n",
       "\n",
       "       COLLISIONTYPE  PERSONCOUNT  PEDCOUNT  PEDCYLCOUNT  VEHCOUNT  ...  \\\n",
       "0             Angles            2         0            0         2  ...   \n",
       "1          Sideswipe            2         0            0         2  ...   \n",
       "2         Parked Car            4         0            0         3  ...   \n",
       "3              Other            3         0            0         3  ...   \n",
       "4             Angles            2         0            0         2  ...   \n",
       "...              ...          ...       ...          ...       ...  ...   \n",
       "194668       Head On            3         0            0         2  ...   \n",
       "194669    Rear Ended            2         0            0         2  ...   \n",
       "194670     Left Turn            3         0            0         2  ...   \n",
       "194671        Cycles            2         0            1         1  ...   \n",
       "194672    Rear Ended            2         0            0         2  ...   \n",
       "\n",
       "         WEATHER ROADCOND                LIGHTCOND PEDROWNOTGRNT SDOTCOLNUM  \\\n",
       "0       Overcast      Wet                 Daylight           NaN        NaN   \n",
       "1        Raining      Wet  Dark - Street Lights On           NaN  6354039.0   \n",
       "2       Overcast      Dry                 Daylight           NaN  4323031.0   \n",
       "3          Clear      Dry                 Daylight           NaN        NaN   \n",
       "4        Raining      Wet                 Daylight           NaN  4028032.0   \n",
       "...          ...      ...                      ...           ...        ...   \n",
       "194668     Clear      Dry                 Daylight           NaN        NaN   \n",
       "194669   Raining      Wet                 Daylight           NaN        NaN   \n",
       "194670     Clear      Dry                 Daylight           NaN        NaN   \n",
       "194671     Clear      Dry                     Dusk           NaN        NaN   \n",
       "194672     Clear      Wet                 Daylight           NaN        NaN   \n",
       "\n",
       "       SPEEDING ST_COLCODE SEGLANEKEY CROSSWALKKEY  HITPARKEDCAR  \n",
       "0           NaN         10          0            0             N  \n",
       "1           NaN         11          0            0             N  \n",
       "2           NaN         32          0            0             N  \n",
       "3           NaN         23          0            0             N  \n",
       "4           NaN         10          0            0             N  \n",
       "...         ...        ...        ...          ...           ...  \n",
       "194668      NaN         24          0            0             N  \n",
       "194669      NaN         13          0            0             N  \n",
       "194670      NaN         28          0            0             N  \n",
       "194671      NaN          5       4308            0             N  \n",
       "194672      NaN         14          0            0             N  \n",
       "\n",
       "[194673 rows x 25 columns]"
      ]
     },
     "execution_count": 95,
     "metadata": {},
     "output_type": "execute_result"
    }
   ],
   "source": [
    "collisions_df.rename(columns={'X': 'longitude', 'Y': 'latitude'}, inplace=True)\n",
    "collisions_df"
   ]
  },
  {
   "cell_type": "markdown",
   "metadata": {},
   "source": [
    "# Business Understanding\n",
    "The objective is to leverage the accident data set provided to predict the different accidents' severity (the target label). The data set provides only two classes of severity (property damage=1, injury=2) as indicated by the SEVERITYCODE column. This is therefore, a binary classification problem.<p/>\n",
    "Clearly, there are implications for predicting the severity class of each collision (either injury or property damage). The assumption is that an injury from a collision will indicate that the any medical assistance team will need to come prepared to possibly safe lifes or at least improve the chances of survival. The emergency team must come prepared to improve survival rates - and they may need to ask preparatory questions in preparation as they approach the collision location, etc. Therefore, false negatives (for the injury class) could have major implications. A false positive simply means that the emergency team would come prepared for injury that in all likelihood does did not actually occur - the cost implications for this scenary presumably are much lower and can be considered manageable.<p/>\n",
    "On the other hand, the issue of property damage may not have such life-threatening implications compared to collision injury."
   ]
  },
  {
   "cell_type": "markdown",
   "metadata": {},
   "source": [
    "### Revisit the column data types"
   ]
  },
  {
   "cell_type": "code",
   "execution_count": 96,
   "metadata": {},
   "outputs": [
    {
     "data": {
      "text/plain": [
       "SEVERITYCODE        int64\n",
       "longitude         float64\n",
       "latitude          float64\n",
       "STATUS             object\n",
       "ADDRTYPE           object\n",
       "COLLISIONTYPE      object\n",
       "PERSONCOUNT         int64\n",
       "PEDCOUNT            int64\n",
       "PEDCYLCOUNT         int64\n",
       "VEHCOUNT            int64\n",
       "INCDTTM            object\n",
       "JUNCTIONTYPE       object\n",
       "SDOT_COLCODE        int64\n",
       "INATTENTIONIND     object\n",
       "UNDERINFL          object\n",
       "WEATHER            object\n",
       "ROADCOND           object\n",
       "LIGHTCOND          object\n",
       "PEDROWNOTGRNT      object\n",
       "SDOTCOLNUM        float64\n",
       "SPEEDING           object\n",
       "ST_COLCODE         object\n",
       "SEGLANEKEY          int64\n",
       "CROSSWALKKEY        int64\n",
       "HITPARKEDCAR       object\n",
       "dtype: object"
      ]
     },
     "execution_count": 96,
     "metadata": {},
     "output_type": "execute_result"
    }
   ],
   "source": [
    "collisions_df.dtypes"
   ]
  },
  {
   "cell_type": "markdown",
   "metadata": {},
   "source": [
    "<hr color= \"red\"/> "
   ]
  },
  {
   "cell_type": "markdown",
   "metadata": {},
   "source": [
    "### Data Visualization and Pre-processing\n",
    "Based on the target labels, let’s see how many of each class are in the data set (is it balanced or unbalanced)"
   ]
  },
  {
   "cell_type": "code",
   "execution_count": 97,
   "metadata": {},
   "outputs": [
    {
     "data": {
      "text/plain": [
       "1    136485\n",
       "2     58188\n",
       "Name: SEVERITYCODE, dtype: int64"
      ]
     },
     "execution_count": 97,
     "metadata": {},
     "output_type": "execute_result"
    }
   ],
   "source": [
    "collisions_df['SEVERITYCODE'].value_counts()"
   ]
  },
  {
   "cell_type": "markdown",
   "metadata": {},
   "source": [
    "**Summary:**<br/>\n",
    "    136485 collisions are property damage (1) and 58188 (injury) ==> the class distribution is unbalanced. ***The classifier performance will be better evaluated with the F1-Score metric instead of accuracy, as it is the harmonic mean of the recall and precision***.<p/>\n",
    "    According to the following article, <a href=\"https://medium.com/analytics-vidhya/accuracy-vs-f1-score-6258237beca2\">Accuracy vs. F1-Score</a> by Purva Huilgol, there are critical differences between accuracy and F1-Score:<br/>\n",
    "    -- Accuracy is used when the True Positives and True negatives are more important while F1-score is used when the False Negatives and False Positives are crucial<br/>\n",
    "    -- Accuracy can be used when the class distribution is similar while F1-score is a better metric when there are imbalanced classes as in the above case<br/>\n",
    "    -- In most real-life classification problems, imbalanced class distribution exists and thus F1-score is a better metric to evaluate our model on<br/>"
   ]
  },
  {
   "cell_type": "markdown",
   "metadata": {},
   "source": [
    "Plot some columns to get a better understanding of the data set:"
   ]
  },
  {
   "cell_type": "markdown",
   "metadata": {},
   "source": [
    "### Convert to date time object "
   ]
  },
  {
   "cell_type": "code",
   "execution_count": 98,
   "metadata": {},
   "outputs": [
    {
     "data": {
      "text/plain": [
       "0   2013-03-27 14:54:00\n",
       "1   2006-12-20 18:55:00\n",
       "2   2004-11-18 10:20:00\n",
       "3   2013-03-29 09:26:00\n",
       "4   2004-01-28 08:04:00\n",
       "Name: INCDTTM, dtype: datetime64[ns]"
      ]
     },
     "execution_count": 98,
     "metadata": {},
     "output_type": "execute_result"
    }
   ],
   "source": [
    "collisions_df['INCDTTM'] = pd.to_datetime(collisions_df['INCDTTM'])\n",
    "collisions_df['INCDTTM'].head()"
   ]
  },
  {
   "cell_type": "markdown",
   "metadata": {},
   "source": [
    "### Lets look at the hour of the day that collisions occur"
   ]
  },
  {
   "cell_type": "code",
   "execution_count": 99,
   "metadata": {},
   "outputs": [
    {
     "data": {
      "image/png": "[encoded data removed]",
      "text/plain": [
       "<Figure size 432x216 with 2 Axes>"
      ]
     },
     "metadata": {
      "needs_background": "light"
     },
     "output_type": "display_data"
    }
   ],
   "source": [
    "collisions_df['hourofday'] = collisions_df['INCDTTM'].dt.hour\n",
    "bins = np.linspace(collisions_df.hourofday.min(), collisions_df.hourofday.max(), 24)\n",
    "g = sns.FacetGrid(collisions_df, col=\"STATUS\", hue=\"SEVERITYCODE\", palette=\"Set1\", col_wrap=2)\n",
    "g.map(plt.hist, 'hourofday', bins=bins, ec=\"k\")\n",
    "g.axes[-1].legend()\n",
    "plt.show()"
   ]
  },
  {
   "cell_type": "markdown",
   "metadata": {},
   "source": [
    "It appears that there is an unusual volume of collisions in the first hour of the day. So we can use feature binarization to set a threshold value less than hour 12 or morning hours. But more generally, the collisions and injuries increase during the day through the afternoon - so it depends on the time of the day."
   ]
  },
  {
   "cell_type": "code",
   "execution_count": 100,
   "metadata": {},
   "outputs": [
    {
     "data": {
      "text/html": [
       "<div>\n",
       "<style scoped>\n",
       "    .dataframe tbody tr th:only-of-type {\n",
       "        vertical-align: middle;\n",
       "    }\n",
       "\n",
       "    .dataframe tbody tr th {\n",
       "        vertical-align: top;\n",
       "    }\n",
       "\n",
       "    .dataframe thead th {\n",
       "        text-align: right;\n",
       "    }\n",
       "</style>\n",
       "<table border=\"1\" class=\"dataframe\">\n",
       "  <thead>\n",
       "    <tr style=\"text-align: right;\">\n",
       "      <th></th>\n",
       "      <th>INCDTTM</th>\n",
       "      <th>hourofday</th>\n",
       "      <th>morning</th>\n",
       "    </tr>\n",
       "  </thead>\n",
       "  <tbody>\n",
       "    <tr>\n",
       "      <th>0</th>\n",
       "      <td>2013-03-27 14:54:00</td>\n",
       "      <td>14</td>\n",
       "      <td>1</td>\n",
       "    </tr>\n",
       "    <tr>\n",
       "      <th>1</th>\n",
       "      <td>2006-12-20 18:55:00</td>\n",
       "      <td>18</td>\n",
       "      <td>1</td>\n",
       "    </tr>\n",
       "    <tr>\n",
       "      <th>2</th>\n",
       "      <td>2004-11-18 10:20:00</td>\n",
       "      <td>10</td>\n",
       "      <td>0</td>\n",
       "    </tr>\n",
       "    <tr>\n",
       "      <th>3</th>\n",
       "      <td>2013-03-29 09:26:00</td>\n",
       "      <td>9</td>\n",
       "      <td>0</td>\n",
       "    </tr>\n",
       "    <tr>\n",
       "      <th>4</th>\n",
       "      <td>2004-01-28 08:04:00</td>\n",
       "      <td>8</td>\n",
       "      <td>0</td>\n",
       "    </tr>\n",
       "  </tbody>\n",
       "</table>\n",
       "</div>"
      ],
      "text/plain": [
       "              INCDTTM  hourofday  morning\n",
       "0 2013-03-27 14:54:00         14        1\n",
       "1 2006-12-20 18:55:00         18        1\n",
       "2 2004-11-18 10:20:00         10        0\n",
       "3 2013-03-29 09:26:00          9        0\n",
       "4 2004-01-28 08:04:00          8        0"
      ]
     },
     "execution_count": 100,
     "metadata": {},
     "output_type": "execute_result"
    }
   ],
   "source": [
    "morning_threshold = 12\n",
    "collisions_df['morning'] = collisions_df['hourofday'].apply(lambda x: 1 if (x>morning_threshold)  else 0)\n",
    "collisions_df[['INCDTTM', 'hourofday', 'morning']].head()"
   ]
  },
  {
   "cell_type": "markdown",
   "metadata": {},
   "source": [
    "<hr color= \"red\"/> "
   ]
  },
  {
   "cell_type": "markdown",
   "metadata": {},
   "source": [
    "## Convert Categorical features to numerical values"
   ]
  },
  {
   "cell_type": "markdown",
   "metadata": {},
   "source": [
    "Lets look at collision status:\n",
    "*Matched possibly refers to matched pairs or collisions involving two vehicles, see this study in the <a href=\"https://academic.oup.com/aje/article/167/5/546/211795\">American Journal of Epidemiology</a>.*"
   ]
  },
  {
   "cell_type": "code",
   "execution_count": 101,
   "metadata": {},
   "outputs": [
    {
     "data": {
      "text/plain": [
       "STATUS     SEVERITYCODE\n",
       "Matched    1               0.698824\n",
       "           2               0.301176\n",
       "Unmatched  1               0.789441\n",
       "           2               0.210559\n",
       "Name: SEVERITYCODE, dtype: float64"
      ]
     },
     "execution_count": 101,
     "metadata": {},
     "output_type": "execute_result"
    }
   ],
   "source": [
    "collisions_df.groupby(['STATUS'])['SEVERITYCODE'].value_counts(normalize=True)"
   ]
  },
  {
   "cell_type": "markdown",
   "metadata": {},
   "source": [
    "30% of matched collisions result in injury compared to 21% of unmatched collisions - not a huge difference but significant"
   ]
  },
  {
   "cell_type": "markdown",
   "metadata": {},
   "source": [
    "Lets convert matched to 0 and unmatched to 1:"
   ]
  },
  {
   "cell_type": "code",
   "execution_count": 102,
   "metadata": {},
   "outputs": [],
   "source": [
    "collisions_df['STATUS'].replace(to_replace=['Matched','Unmatched'], value=[0, 1],inplace=True)"
   ]
  },
  {
   "cell_type": "markdown",
   "metadata": {},
   "source": [
    "Lets look at inattention: *(reasonable default seems to be 'N')*"
   ]
  },
  {
   "cell_type": "code",
   "execution_count": 103,
   "metadata": {},
   "outputs": [],
   "source": [
    "# first replace all missing data with 'N' - seems a reasonable default\n",
    "collisions_df['INATTENTIONIND'].fillna('N', inplace=True)\n",
    "collisions_df['INATTENTIONIND'].replace(to_replace=['N','Y'], value=[0, 1],inplace=True)"
   ]
  },
  {
   "cell_type": "code",
   "execution_count": 104,
   "metadata": {},
   "outputs": [
    {
     "data": {
      "text/plain": [
       "INATTENTIONIND  SEVERITYCODE\n",
       "0               1               0.710126\n",
       "                2               0.289874\n",
       "1               1               0.651166\n",
       "                2               0.348834\n",
       "Name: SEVERITYCODE, dtype: float64"
      ]
     },
     "execution_count": 104,
     "metadata": {},
     "output_type": "execute_result"
    }
   ],
   "source": [
    "collisions_df.groupby(['INATTENTIONIND'])['SEVERITYCODE'].value_counts(normalize=True)"
   ]
  },
  {
   "cell_type": "markdown",
   "metadata": {},
   "source": [
    "In 35% of collisions inattention = Y result in injury, compared to 29% where inattention = N.<br/>"
   ]
  },
  {
   "cell_type": "markdown",
   "metadata": {},
   "source": [
    "Lets look at under the influence: *(0=N, 1=Y)*"
   ]
  },
  {
   "cell_type": "code",
   "execution_count": 105,
   "metadata": {},
   "outputs": [],
   "source": [
    "# first replace all missing data with 'N' or 0 - seems a reasonable default\n",
    "collisions_df['UNDERINFL'].fillna('N', inplace=True)\n",
    "collisions_df['UNDERINFL'].replace(to_replace=['0', '1','N','Y'], value=[0, 1, 0, 1],inplace=True)\n",
    "collisions_df['UNDERINFL'] = collisions_df['UNDERINFL'].astype(int)"
   ]
  },
  {
   "cell_type": "code",
   "execution_count": 106,
   "metadata": {},
   "outputs": [
    {
     "data": {
      "text/plain": [
       "UNDERINFL  SEVERITYCODE\n",
       "0          1               0.705603\n",
       "           2               0.294397\n",
       "1          1               0.609473\n",
       "           2               0.390527\n",
       "Name: SEVERITYCODE, dtype: float64"
      ]
     },
     "execution_count": 106,
     "metadata": {},
     "output_type": "execute_result"
    }
   ],
   "source": [
    "collisions_df.groupby(['UNDERINFL'])['SEVERITYCODE'].value_counts(normalize=True)"
   ]
  },
  {
   "cell_type": "markdown",
   "metadata": {},
   "source": [
    "In 39% of collisions with driver under the influence resulted in injury, compared to 29% with driver not under the influence.<br/>"
   ]
  },
  {
   "cell_type": "markdown",
   "metadata": {},
   "source": [
    "Lets look at speeding: *(0=N, 1=Y)*"
   ]
  },
  {
   "cell_type": "code",
   "execution_count": 107,
   "metadata": {},
   "outputs": [],
   "source": [
    "# first replace all missing data with 'N' or 0 - seems a reasonable default\n",
    "collisions_df['SPEEDING'].fillna('N', inplace=True)\n",
    "collisions_df['SPEEDING'].replace(to_replace=['N','Y'], value=[0, 1],inplace=True)\n",
    "collisions_df['SPEEDING'] = collisions_df['SPEEDING'].astype(int)"
   ]
  },
  {
   "cell_type": "code",
   "execution_count": 108,
   "metadata": {},
   "outputs": [
    {
     "data": {
      "text/plain": [
       "SPEEDING  SEVERITYCODE\n",
       "0         1               0.705099\n",
       "          2               0.294901\n",
       "1         1               0.621665\n",
       "          2               0.378335\n",
       "Name: SEVERITYCODE, dtype: float64"
      ]
     },
     "execution_count": 108,
     "metadata": {},
     "output_type": "execute_result"
    }
   ],
   "source": [
    "collisions_df.groupby(['SPEEDING'])['SEVERITYCODE'].value_counts(normalize=True)"
   ]
  },
  {
   "cell_type": "markdown",
   "metadata": {},
   "source": [
    "In 38% of collisions with driver speeding resulted in injury, compared to 29% with driver not speeding.<br/>"
   ]
  },
  {
   "cell_type": "markdown",
   "metadata": {},
   "source": [
    "<hr color= \"red\"/> "
   ]
  },
  {
   "cell_type": "markdown",
   "metadata": {},
   "source": [
    "At this point, check the status of the dataframe:"
   ]
  },
  {
   "cell_type": "code",
   "execution_count": 109,
   "metadata": {},
   "outputs": [
    {
     "data": {
      "text/html": [
       "<div>\n",
       "<style scoped>\n",
       "    .dataframe tbody tr th:only-of-type {\n",
       "        vertical-align: middle;\n",
       "    }\n",
       "\n",
       "    .dataframe tbody tr th {\n",
       "        vertical-align: top;\n",
       "    }\n",
       "\n",
       "    .dataframe thead th {\n",
       "        text-align: right;\n",
       "    }\n",
       "</style>\n",
       "<table border=\"1\" class=\"dataframe\">\n",
       "  <thead>\n",
       "    <tr style=\"text-align: right;\">\n",
       "      <th></th>\n",
       "      <th>SEVERITYCODE</th>\n",
       "      <th>longitude</th>\n",
       "      <th>latitude</th>\n",
       "      <th>STATUS</th>\n",
       "      <th>ADDRTYPE</th>\n",
       "      <th>COLLISIONTYPE</th>\n",
       "      <th>PERSONCOUNT</th>\n",
       "      <th>PEDCOUNT</th>\n",
       "      <th>PEDCYLCOUNT</th>\n",
       "      <th>VEHCOUNT</th>\n",
       "      <th>...</th>\n",
       "      <th>LIGHTCOND</th>\n",
       "      <th>PEDROWNOTGRNT</th>\n",
       "      <th>SDOTCOLNUM</th>\n",
       "      <th>SPEEDING</th>\n",
       "      <th>ST_COLCODE</th>\n",
       "      <th>SEGLANEKEY</th>\n",
       "      <th>CROSSWALKKEY</th>\n",
       "      <th>HITPARKEDCAR</th>\n",
       "      <th>hourofday</th>\n",
       "      <th>morning</th>\n",
       "    </tr>\n",
       "  </thead>\n",
       "  <tbody>\n",
       "    <tr>\n",
       "      <th>0</th>\n",
       "      <td>2</td>\n",
       "      <td>-122.323148</td>\n",
       "      <td>47.703140</td>\n",
       "      <td>0</td>\n",
       "      <td>Intersection</td>\n",
       "      <td>Angles</td>\n",
       "      <td>2</td>\n",
       "      <td>0</td>\n",
       "      <td>0</td>\n",
       "      <td>2</td>\n",
       "      <td>...</td>\n",
       "      <td>Daylight</td>\n",
       "      <td>NaN</td>\n",
       "      <td>NaN</td>\n",
       "      <td>0</td>\n",
       "      <td>10</td>\n",
       "      <td>0</td>\n",
       "      <td>0</td>\n",
       "      <td>N</td>\n",
       "      <td>14</td>\n",
       "      <td>1</td>\n",
       "    </tr>\n",
       "    <tr>\n",
       "      <th>1</th>\n",
       "      <td>1</td>\n",
       "      <td>-122.347294</td>\n",
       "      <td>47.647172</td>\n",
       "      <td>0</td>\n",
       "      <td>Block</td>\n",
       "      <td>Sideswipe</td>\n",
       "      <td>2</td>\n",
       "      <td>0</td>\n",
       "      <td>0</td>\n",
       "      <td>2</td>\n",
       "      <td>...</td>\n",
       "      <td>Dark - Street Lights On</td>\n",
       "      <td>NaN</td>\n",
       "      <td>6354039.0</td>\n",
       "      <td>0</td>\n",
       "      <td>11</td>\n",
       "      <td>0</td>\n",
       "      <td>0</td>\n",
       "      <td>N</td>\n",
       "      <td>18</td>\n",
       "      <td>1</td>\n",
       "    </tr>\n",
       "    <tr>\n",
       "      <th>2</th>\n",
       "      <td>1</td>\n",
       "      <td>-122.334540</td>\n",
       "      <td>47.607871</td>\n",
       "      <td>0</td>\n",
       "      <td>Block</td>\n",
       "      <td>Parked Car</td>\n",
       "      <td>4</td>\n",
       "      <td>0</td>\n",
       "      <td>0</td>\n",
       "      <td>3</td>\n",
       "      <td>...</td>\n",
       "      <td>Daylight</td>\n",
       "      <td>NaN</td>\n",
       "      <td>4323031.0</td>\n",
       "      <td>0</td>\n",
       "      <td>32</td>\n",
       "      <td>0</td>\n",
       "      <td>0</td>\n",
       "      <td>N</td>\n",
       "      <td>10</td>\n",
       "      <td>0</td>\n",
       "    </tr>\n",
       "    <tr>\n",
       "      <th>3</th>\n",
       "      <td>1</td>\n",
       "      <td>-122.334803</td>\n",
       "      <td>47.604803</td>\n",
       "      <td>0</td>\n",
       "      <td>Block</td>\n",
       "      <td>Other</td>\n",
       "      <td>3</td>\n",
       "      <td>0</td>\n",
       "      <td>0</td>\n",
       "      <td>3</td>\n",
       "      <td>...</td>\n",
       "      <td>Daylight</td>\n",
       "      <td>NaN</td>\n",
       "      <td>NaN</td>\n",
       "      <td>0</td>\n",
       "      <td>23</td>\n",
       "      <td>0</td>\n",
       "      <td>0</td>\n",
       "      <td>N</td>\n",
       "      <td>9</td>\n",
       "      <td>0</td>\n",
       "    </tr>\n",
       "    <tr>\n",
       "      <th>4</th>\n",
       "      <td>2</td>\n",
       "      <td>-122.306426</td>\n",
       "      <td>47.545739</td>\n",
       "      <td>0</td>\n",
       "      <td>Intersection</td>\n",
       "      <td>Angles</td>\n",
       "      <td>2</td>\n",
       "      <td>0</td>\n",
       "      <td>0</td>\n",
       "      <td>2</td>\n",
       "      <td>...</td>\n",
       "      <td>Daylight</td>\n",
       "      <td>NaN</td>\n",
       "      <td>4028032.0</td>\n",
       "      <td>0</td>\n",
       "      <td>10</td>\n",
       "      <td>0</td>\n",
       "      <td>0</td>\n",
       "      <td>N</td>\n",
       "      <td>8</td>\n",
       "      <td>0</td>\n",
       "    </tr>\n",
       "  </tbody>\n",
       "</table>\n",
       "<p>5 rows × 27 columns</p>\n",
       "</div>"
      ],
      "text/plain": [
       "   SEVERITYCODE   longitude   latitude  STATUS      ADDRTYPE COLLISIONTYPE  \\\n",
       "0             2 -122.323148  47.703140       0  Intersection        Angles   \n",
       "1             1 -122.347294  47.647172       0         Block     Sideswipe   \n",
       "2             1 -122.334540  47.607871       0         Block    Parked Car   \n",
       "3             1 -122.334803  47.604803       0         Block         Other   \n",
       "4             2 -122.306426  47.545739       0  Intersection        Angles   \n",
       "\n",
       "   PERSONCOUNT  PEDCOUNT  PEDCYLCOUNT  VEHCOUNT  ...                LIGHTCOND  \\\n",
       "0            2         0            0         2  ...                 Daylight   \n",
       "1            2         0            0         2  ...  Dark - Street Lights On   \n",
       "2            4         0            0         3  ...                 Daylight   \n",
       "3            3         0            0         3  ...                 Daylight   \n",
       "4            2         0            0         2  ...                 Daylight   \n",
       "\n",
       "  PEDROWNOTGRNT  SDOTCOLNUM  SPEEDING  ST_COLCODE SEGLANEKEY CROSSWALKKEY  \\\n",
       "0           NaN         NaN         0          10          0            0   \n",
       "1           NaN   6354039.0         0          11          0            0   \n",
       "2           NaN   4323031.0         0          32          0            0   \n",
       "3           NaN         NaN         0          23          0            0   \n",
       "4           NaN   4028032.0         0          10          0            0   \n",
       "\n",
       "  HITPARKEDCAR hourofday  morning  \n",
       "0            N        14        1  \n",
       "1            N        18        1  \n",
       "2            N        10        0  \n",
       "3            N         9        0  \n",
       "4            N         8        0  \n",
       "\n",
       "[5 rows x 27 columns]"
      ]
     },
     "execution_count": 109,
     "metadata": {},
     "output_type": "execute_result"
    }
   ],
   "source": [
    "collisions_df.head()"
   ]
  },
  {
   "cell_type": "markdown",
   "metadata": {},
   "source": [
    "<hr color= \"red\"/> "
   ]
  },
  {
   "cell_type": "markdown",
   "metadata": {},
   "source": [
    "## One Hot Encoding  \n",
    "#### Lets start with collision type"
   ]
  },
  {
   "cell_type": "code",
   "execution_count": 110,
   "metadata": {},
   "outputs": [
    {
     "data": {
      "text/plain": [
       "array({'Cycles', 'Angles', 'Head On', 'Sideswipe', 'Right Turn', 'Rear Ended', 'Left Turn', 'Other', 'Parked Car', 'Pedestrian'},\n",
       "      dtype=object)"
      ]
     },
     "execution_count": 110,
     "metadata": {},
     "output_type": "execute_result"
    }
   ],
   "source": [
    "# make sure all NaN are converted to 'Other'\n",
    "collisions_df['COLLISIONTYPE'].fillna('Other', inplace=True)\n",
    "np.array(set(collisions_df['COLLISIONTYPE'].values))"
   ]
  },
  {
   "cell_type": "code",
   "execution_count": 111,
   "metadata": {},
   "outputs": [
    {
     "data": {
      "text/plain": [
       "COLLISIONTYPE  SEVERITYCODE\n",
       "Angles         1               21050\n",
       "               2               13624\n",
       "Cycles         2                4744\n",
       "               1                 671\n",
       "Head On        1                1152\n",
       "               2                 872\n",
       "Left Turn      1                8292\n",
       "               2                5411\n",
       "Other          1               21454\n",
       "               2                7153\n",
       "Parked Car     1               45325\n",
       "               2                2662\n",
       "Pedestrian     2                5936\n",
       "               1                 672\n",
       "Rear Ended     1               19419\n",
       "               2               14671\n",
       "Right Turn     1                2347\n",
       "               2                 609\n",
       "Sideswipe      1               16103\n",
       "               2                2506\n",
       "Name: SEVERITYCODE, dtype: int64"
      ]
     },
     "execution_count": 111,
     "metadata": {},
     "output_type": "execute_result"
    }
   ],
   "source": [
    "collisions_df.groupby(['COLLISIONTYPE'])['SEVERITYCODE'].value_counts(normalize=False)\n",
    "#collisions_df.groupby(['COLLISIONTYPE'])['SEVERITYCODE'].value_counts(normalize=True)"
   ]
  },
  {
   "cell_type": "markdown",
   "metadata": {},
   "source": [
    "Lets look at the weather:"
   ]
  },
  {
   "cell_type": "code",
   "execution_count": 112,
   "metadata": {},
   "outputs": [
    {
     "data": {
      "text/plain": [
       "array({'Blowing Sand/Dirt', 'Unknown', 'Raining', 'Overcast', 'Severe Crosswind', 'Partly Cloudy', 'Fog/Smog/Smoke', 'Snowing', 'Other', 'Sleet/Hail/Freezing Rain', 'Clear'},\n",
       "      dtype=object)"
      ]
     },
     "execution_count": 112,
     "metadata": {},
     "output_type": "execute_result"
    }
   ],
   "source": [
    "# make sure all NaN are converted to 'Other'\n",
    "collisions_df['WEATHER'].fillna('Other', inplace=True)\n",
    "np.array(set(collisions_df['WEATHER'].values))"
   ]
  },
  {
   "cell_type": "code",
   "execution_count": 113,
   "metadata": {},
   "outputs": [
    {
     "data": {
      "text/plain": [
       "WEATHER                   SEVERITYCODE\n",
       "Blowing Sand/Dirt         1                  41\n",
       "                          2                  15\n",
       "Clear                     1               75295\n",
       "                          2               35840\n",
       "Fog/Smog/Smoke            1                 382\n",
       "                          2                 187\n",
       "Other                     1                4713\n",
       "                          2                1200\n",
       "Overcast                  1               18969\n",
       "                          2                8745\n",
       "Partly Cloudy             2                   3\n",
       "                          1                   2\n",
       "Raining                   1               21969\n",
       "                          2               11176\n",
       "Severe Crosswind          1                  18\n",
       "                          2                   7\n",
       "Sleet/Hail/Freezing Rain  1                  85\n",
       "                          2                  28\n",
       "Snowing                   1                 736\n",
       "                          2                 171\n",
       "Unknown                   1               14275\n",
       "                          2                 816\n",
       "Name: SEVERITYCODE, dtype: int64"
      ]
     },
     "execution_count": 113,
     "metadata": {},
     "output_type": "execute_result"
    }
   ],
   "source": [
    "collisions_df.groupby(['WEATHER'])['SEVERITYCODE'].value_counts(normalize=False)"
   ]
  },
  {
   "cell_type": "markdown",
   "metadata": {},
   "source": [
    "Lets look at road conditions:"
   ]
  },
  {
   "cell_type": "code",
   "execution_count": 114,
   "metadata": {},
   "outputs": [
    {
     "data": {
      "text/plain": [
       "array({'Sand/Mud/Dirt', 'Unknown', 'Standing Water', 'Ice', 'Snow/Slush', 'Dry', 'Wet', 'Other', 'Oil'},\n",
       "      dtype=object)"
      ]
     },
     "execution_count": 114,
     "metadata": {},
     "output_type": "execute_result"
    }
   ],
   "source": [
    "# make sure all NaN are converted to 'Other'\n",
    "collisions_df['ROADCOND'].fillna('Other', inplace=True)\n",
    "np.array(set(collisions_df['ROADCOND'].values))"
   ]
  },
  {
   "cell_type": "code",
   "execution_count": 115,
   "metadata": {},
   "outputs": [
    {
     "data": {
      "text/plain": [
       "ROADCOND        SEVERITYCODE\n",
       "Dry             1               84446\n",
       "                2               40064\n",
       "Ice             1                 936\n",
       "                2                 273\n",
       "Oil             1                  40\n",
       "                2                  24\n",
       "Other           1                4041\n",
       "                2                1103\n",
       "Sand/Mud/Dirt   1                  52\n",
       "                2                  23\n",
       "Snow/Slush      1                 837\n",
       "                2                 167\n",
       "Standing Water  1                  85\n",
       "                2                  30\n",
       "Unknown         1               14329\n",
       "                2                 749\n",
       "Wet             1               31719\n",
       "                2               15755\n",
       "Name: SEVERITYCODE, dtype: int64"
      ]
     },
     "execution_count": 115,
     "metadata": {},
     "output_type": "execute_result"
    }
   ],
   "source": [
    "collisions_df.groupby(['ROADCOND'])['SEVERITYCODE'].value_counts(normalize=False)"
   ]
  },
  {
   "cell_type": "markdown",
   "metadata": {},
   "source": [
    "Lets look at light conditions:"
   ]
  },
  {
   "cell_type": "code",
   "execution_count": 116,
   "metadata": {},
   "outputs": [
    {
     "data": {
      "text/plain": [
       "array({'Unknown', 'Dark - Unknown Lighting', 'Dawn', 'Dark - Street Lights Off', 'Other', 'Dusk', 'Dark - No Street Lights', 'Dark - Street Lights On', 'Daylight'},\n",
       "      dtype=object)"
      ]
     },
     "execution_count": 116,
     "metadata": {},
     "output_type": "execute_result"
    }
   ],
   "source": [
    "# make sure all NaN are converted to 'Other'\n",
    "collisions_df['LIGHTCOND'].fillna('Other', inplace=True)\n",
    "np.array(set(collisions_df['LIGHTCOND'].values))"
   ]
  },
  {
   "cell_type": "code",
   "execution_count": 117,
   "metadata": {},
   "outputs": [
    {
     "data": {
      "text/plain": [
       "LIGHTCOND                 SEVERITYCODE\n",
       "Dark - No Street Lights   1                1203\n",
       "                          2                 334\n",
       "Dark - Street Lights Off  1                 883\n",
       "                          2                 316\n",
       "Dark - Street Lights On   1               34032\n",
       "                          2               14475\n",
       "Dark - Unknown Lighting   1                   7\n",
       "                          2                   4\n",
       "Dawn                      1                1678\n",
       "                          2                 824\n",
       "Daylight                  1               77593\n",
       "                          2               38544\n",
       "Dusk                      1                3958\n",
       "                          2                1944\n",
       "Other                     1                4263\n",
       "                          2                1142\n",
       "Unknown                   1               12868\n",
       "                          2                 605\n",
       "Name: SEVERITYCODE, dtype: int64"
      ]
     },
     "execution_count": 117,
     "metadata": {},
     "output_type": "execute_result"
    }
   ],
   "source": [
    "collisions_df.groupby(['LIGHTCOND'])['SEVERITYCODE'].value_counts(normalize=False)"
   ]
  },
  {
   "cell_type": "markdown",
   "metadata": {},
   "source": [
    "<hr color= \"red\"/> "
   ]
  },
  {
   "cell_type": "markdown",
   "metadata": {},
   "source": [
    "# Combining Latitude/Longitude\n",
    "Combining latitude/longitude position into single feature using the <a href=\"https://datascience.stackexchange.com/questions/49553/combining-latitude-longitude-position-into-single-feature\">Haversine formula</a>"
   ]
  },
  {
   "cell_type": "code",
   "execution_count": 118,
   "metadata": {},
   "outputs": [],
   "source": [
    "from math import radians, cos, sin, asin, sqrt\n",
    "\n",
    "def location(lat, lng, degrees=True):\n",
    "    \"\"\"\n",
    "    'Single-point' Haversine: Calculates the great circle distance\n",
    "    between a point on Earth and the (0, 0) lat-long coordinate\n",
    "    \"\"\"\n",
    "    r = 6371 # Earth's radius (km). Have r = 3956 if you want miles\n",
    "\n",
    "    # Convert decimal degrees to radians\n",
    "    if degrees:\n",
    "        lat, lng = map(radians, [lat, lng])\n",
    "\n",
    "    # 'Single-point' Haversine formula\n",
    "    a = sin(lat/2)**2 + cos(lat) * sin(lng/2)**2\n",
    "    d = 2 * r * asin(sqrt(a)) \n",
    "\n",
    "    return d"
   ]
  },
  {
   "cell_type": "markdown",
   "metadata": {},
   "source": [
    "Use the location function defined to calculate a single location for each pair of latitude/longitude:"
   ]
  },
  {
   "cell_type": "code",
   "execution_count": 119,
   "metadata": {},
   "outputs": [
    {
     "data": {
      "text/plain": [
       "0    12352.644223\n",
       "1    12356.919651\n",
       "2    12357.905534\n",
       "3    12358.067920\n",
       "4    12358.918252\n",
       "Name: location, dtype: float64"
      ]
     },
     "execution_count": 119,
     "metadata": {},
     "output_type": "execute_result"
    }
   ],
   "source": [
    "collisions_df['location'] = [location(x, y) for x, y in zip(collisions_df.latitude, collisions_df.longitude)]\n",
    "collisions_df['location'].head()"
   ]
  },
  {
   "cell_type": "markdown",
   "metadata": {},
   "source": [
    "Lets look at the locations that collisions occur:"
   ]
  },
  {
   "cell_type": "code",
   "execution_count": 120,
   "metadata": {},
   "outputs": [
    {
     "name": "stdout",
     "output_type": "stream",
     "text": [
      "Bins:  [12348.67136849 12350.64503458 12352.61870067 12354.59236676\n",
      " 12356.56603286 12358.53969895 12360.51336504 12362.48703113\n",
      " 12364.46069722 12366.43436331]\n"
     ]
    },
    {
     "data": {
      "image/png": "[encoded data removed]",
      "text/plain": [
       "<Figure size 432x216 with 2 Axes>"
      ]
     },
     "metadata": {
      "needs_background": "light"
     },
     "output_type": "display_data"
    }
   ],
   "source": [
    "bins = np.linspace(collisions_df.location.min(), collisions_df.location.max(), 10)\n",
    "print('Bins: ', bins)\n",
    "g = sns.FacetGrid(collisions_df, col=\"STATUS\", hue=\"SEVERITYCODE\", palette=\"Set1\", col_wrap=2)\n",
    "g.map(plt.hist, 'location', bins=bins, ec=\"k\")\n",
    "g.axes[-1].legend()\n",
    "plt.show()"
   ]
  },
  {
   "cell_type": "markdown",
   "metadata": {},
   "source": [
    "**Summary:** It seems that most of the collisions occure within approximately one standard deviation from a mean point (hot spot).<br/>\n",
    "We can use feature binarization to set a threshold value about one standard deviation from the hot spot (mean). The bins could be representative of location brackets or locality."
   ]
  },
  {
   "cell_type": "markdown",
   "metadata": {},
   "source": [
    "#### First, explore the location partitions or bins or localities:"
   ]
  },
  {
   "cell_type": "code",
   "execution_count": 121,
   "metadata": {},
   "outputs": [
    {
     "data": {
      "text/plain": [
       "0    3\n",
       "1    5\n",
       "2    5\n",
       "3    5\n",
       "4    6\n",
       "Name: locality, dtype: int64"
      ]
     },
     "execution_count": 121,
     "metadata": {},
     "output_type": "execute_result"
    }
   ],
   "source": [
    "collisions_df['locality'] = collisions_df['location'].apply(lambda x: np.digitize(x, bins))\n",
    "collisions_df['locality'].head()"
   ]
  },
  {
   "cell_type": "markdown",
   "metadata": {},
   "source": [
    "#### Then explore idea of the hot spot as well:"
   ]
  },
  {
   "cell_type": "code",
   "execution_count": 122,
   "metadata": {},
   "outputs": [
    {
     "name": "stdout",
     "output_type": "stream",
     "text": [
      "The hot spot is estimated at location [mean = 12357.08123630904 ,std = 3.0681291833829416 ]\n"
     ]
    }
   ],
   "source": [
    "hot_spot = collisions_df.location.mean()\n",
    "loc_std = collisions_df.location.std()\n",
    "print('The hot spot is estimated at location [mean =', hot_spot, ',std =', loc_std,']')"
   ]
  },
  {
   "cell_type": "code",
   "execution_count": 123,
   "metadata": {},
   "outputs": [],
   "source": [
    "# binarize location --> point is either within the standard deviation window or not\n",
    "thres_mult = 1 # i.e. thres_mult * standard deviations from the hot spot\n",
    "lower_bound = hot_spot - thres_mult*loc_std\n",
    "upper_bound = hot_spot + thres_mult*loc_std\n",
    "collisions_df['location'] = collisions_df['location'].apply(lambda x: 1 if (x>lower_bound and x<upper_bound) else 0)\n",
    "#collisions_df['location'].head()"
   ]
  },
  {
   "cell_type": "markdown",
   "metadata": {},
   "source": [
    "<hr color= \"red\"/> "
   ]
  },
  {
   "cell_type": "markdown",
   "metadata": {},
   "source": [
    "Lets look at the total number of people involved in collision (PERSONCOUNT):"
   ]
  },
  {
   "cell_type": "code",
   "execution_count": 124,
   "metadata": {},
   "outputs": [
    {
     "data": {
      "image/png": "[encoded data removed]",
      "text/plain": [
       "<Figure size 432x216 with 2 Axes>"
      ]
     },
     "metadata": {
      "needs_background": "light"
     },
     "output_type": "display_data"
    }
   ],
   "source": [
    "bins = np.linspace(collisions_df.PERSONCOUNT.min(), collisions_df.PERSONCOUNT.max(), 40)\n",
    "#print('Bins: ', bins)\n",
    "g = sns.FacetGrid(collisions_df, col=\"STATUS\", hue=\"SEVERITYCODE\", palette=\"Set1\", col_wrap=2)\n",
    "g.map(plt.hist, 'PERSONCOUNT', bins=bins, ec=\"k\")\n",
    "g.axes[-1].legend()\n",
    "plt.show()"
   ]
  },
  {
   "cell_type": "markdown",
   "metadata": {},
   "source": [
    "**Summary:** It seems that most of the collisions involving <10 people are associated with most injuries occur.<br/>\n",
    "We can use feature binarization to set a threshold value of 10."
   ]
  },
  {
   "cell_type": "code",
   "execution_count": 125,
   "metadata": {},
   "outputs": [],
   "source": [
    "count_threshold = 10\n",
    "collisions_df['PERSONCOUNT'] = collisions_df['PERSONCOUNT'].apply(lambda x: x if (x<count_threshold)  else 0)\n",
    "#collisions_df[['PERSONCOUNT']].head()"
   ]
  },
  {
   "cell_type": "code",
   "execution_count": 126,
   "metadata": {},
   "outputs": [
    {
     "data": {
      "text/plain": [
       "PERSONCOUNT  SEVERITYCODE\n",
       "0            1                3960\n",
       "             2                1949\n",
       "1            1                9858\n",
       "             2                3296\n",
       "2            1               86420\n",
       "             2               27811\n",
       "3            1               22092\n",
       "             2               13461\n",
       "4            1                8365\n",
       "             2                6295\n",
       "5            1                3615\n",
       "             2                2969\n",
       "6            2                1357\n",
       "             1                1345\n",
       "7            2                 637\n",
       "             1                 494\n",
       "8            2                 284\n",
       "             1                 249\n",
       "9            2                 129\n",
       "             1                  87\n",
       "Name: SEVERITYCODE, dtype: int64"
      ]
     },
     "execution_count": 126,
     "metadata": {},
     "output_type": "execute_result"
    }
   ],
   "source": [
    "collisions_df.groupby(['PERSONCOUNT'])['SEVERITYCODE'].value_counts(normalize=False)"
   ]
  },
  {
   "cell_type": "markdown",
   "metadata": {},
   "source": [
    "In 27% of collisions with <4 people resulted in injury, compared to 45% with 4 or more people.<br/>"
   ]
  },
  {
   "cell_type": "markdown",
   "metadata": {},
   "source": [
    "Lets look at the total number of pedestrians involved in collision (PEDCOUNT):"
   ]
  },
  {
   "cell_type": "code",
   "execution_count": 127,
   "metadata": {},
   "outputs": [
    {
     "data": {
      "image/png": "[encoded data removed]",
      "text/plain": [
       "<Figure size 432x216 with 2 Axes>"
      ]
     },
     "metadata": {
      "needs_background": "light"
     },
     "output_type": "display_data"
    }
   ],
   "source": [
    "bins = np.linspace(collisions_df.PEDCOUNT.min(), collisions_df.PEDCOUNT.max(), 6)\n",
    "#print('Bins: ', bins)\n",
    "g = sns.FacetGrid(collisions_df, col=\"STATUS\", hue=\"SEVERITYCODE\", palette=\"Set1\", col_wrap=2)\n",
    "g.map(plt.hist, 'PEDCOUNT', bins=bins, ec=\"k\")\n",
    "g.axes[-1].legend()\n",
    "plt.show()"
   ]
  },
  {
   "cell_type": "markdown",
   "metadata": {},
   "source": [
    "**Summary:** It seems that most of the collisions with <2 pedestrians is where most injuries occur.<br/>\n",
    "We can use feature binarization to set a threshold value of 2. We must ignore all those with zero pedestrians."
   ]
  },
  {
   "cell_type": "code",
   "execution_count": 128,
   "metadata": {},
   "outputs": [],
   "source": [
    "count_threshold = 2\n",
    "# ignore all with zero pedestrians\n",
    "collisions_df['PEDCOUNT'] = collisions_df['PEDCOUNT'].apply(lambda x: 1 if (x<count_threshold and x>0)  else 0)\n",
    "#collisions_df[['PEDCOUNT']].tail(20)"
   ]
  },
  {
   "cell_type": "code",
   "execution_count": 129,
   "metadata": {},
   "outputs": [
    {
     "data": {
      "text/plain": [
       "PEDCOUNT  SEVERITYCODE\n",
       "0         1               135807\n",
       "          2                52181\n",
       "1         2                 6007\n",
       "          1                  678\n",
       "Name: SEVERITYCODE, dtype: int64"
      ]
     },
     "execution_count": 129,
     "metadata": {},
     "output_type": "execute_result"
    }
   ],
   "source": [
    "collisions_df.groupby(['PEDCOUNT'])['SEVERITYCODE'].value_counts(normalize=False)"
   ]
  },
  {
   "cell_type": "markdown",
   "metadata": {},
   "source": [
    "In 10% of collisions involving pedestrians resulted in injury, compared to 27% without.<br/>"
   ]
  },
  {
   "cell_type": "markdown",
   "metadata": {},
   "source": [
    "Lets look at the total number of bicycles involved in collision (PEDCYLCOUNT):"
   ]
  },
  {
   "cell_type": "code",
   "execution_count": 130,
   "metadata": {},
   "outputs": [],
   "source": [
    "# either a bicycle was involved or not\n",
    "collisions_df['PEDCYLCOUNT'] = collisions_df['PEDCYLCOUNT'].apply(lambda x: 1 if (x>0)  else 0)"
   ]
  },
  {
   "cell_type": "markdown",
   "metadata": {},
   "source": [
    "Lets look at the total number of vehicles involved in collision (VEHCOUNT):"
   ]
  },
  {
   "cell_type": "code",
   "execution_count": 131,
   "metadata": {},
   "outputs": [
    {
     "data": {
      "image/png": "[encoded data removed]",
      "text/plain": [
       "<Figure size 432x216 with 2 Axes>"
      ]
     },
     "metadata": {
      "needs_background": "light"
     },
     "output_type": "display_data"
    }
   ],
   "source": [
    "bins = np.linspace(collisions_df.VEHCOUNT.min(), collisions_df.VEHCOUNT.max(), 12)\n",
    "#print('Bins: ', bins)\n",
    "g = sns.FacetGrid(collisions_df, col=\"STATUS\", hue=\"SEVERITYCODE\", palette=\"Set1\", col_wrap=2)\n",
    "g.map(plt.hist, 'VEHCOUNT', bins=bins, ec=\"k\")\n",
    "g.axes[-1].legend()\n",
    "plt.show()"
   ]
  },
  {
   "cell_type": "code",
   "execution_count": 132,
   "metadata": {},
   "outputs": [],
   "source": [
    "# either two vehicles were involved or not\n",
    "collisions_df['VEHCOUNT'] = collisions_df['VEHCOUNT'].apply(lambda x: x if (x < 5)  else 0)"
   ]
  },
  {
   "cell_type": "code",
   "execution_count": 133,
   "metadata": {},
   "outputs": [
    {
     "data": {
      "text/plain": [
       "VEHCOUNT  SEVERITYCODE\n",
       "0         1                 4253\n",
       "          2                 1586\n",
       "1         2                14105\n",
       "          1                11643\n",
       "2         1               111701\n",
       "          2                35949\n",
       "3         1                 7540\n",
       "          2                 5470\n",
       "4         1                 1348\n",
       "          2                 1078\n",
       "Name: SEVERITYCODE, dtype: int64"
      ]
     },
     "execution_count": 133,
     "metadata": {},
     "output_type": "execute_result"
    }
   ],
   "source": [
    "collisions_df.groupby(['VEHCOUNT'])['SEVERITYCODE'].value_counts(normalize=False)"
   ]
  },
  {
   "cell_type": "markdown",
   "metadata": {},
   "source": [
    "The vast majority of collisions involved two vehicles, with 24% of collisions involving 2 vehicles resulting in injury, compared to 47% otherwise.<br/>"
   ]
  },
  {
   "cell_type": "markdown",
   "metadata": {},
   "source": [
    "Lets look at the state collision code associated with the collision (SDOT_COLCODE):"
   ]
  },
  {
   "cell_type": "code",
   "execution_count": 134,
   "metadata": {},
   "outputs": [
    {
     "data": {
      "image/png": "[encoded data removed]",
      "text/plain": [
       "<Figure size 432x216 with 2 Axes>"
      ]
     },
     "metadata": {
      "needs_background": "light"
     },
     "output_type": "display_data"
    }
   ],
   "source": [
    "bins = np.linspace(collisions_df.SDOT_COLCODE.min(), collisions_df.SDOT_COLCODE.max(), 15)\n",
    "#print('Bins: ', bins)\n",
    "g = sns.FacetGrid(collisions_df, col=\"STATUS\", hue=\"SEVERITYCODE\", palette=\"Set1\", col_wrap=2)\n",
    "g.map(plt.hist, 'SDOT_COLCODE', bins=bins, ec=\"k\")\n",
    "g.axes[-1].legend()\n",
    "plt.show()"
   ]
  },
  {
   "cell_type": "markdown",
   "metadata": {},
   "source": [
    "It appears that most collisions are associated with codes between 10 and 15 and most injuries match that range (entering at an angle etc.)."
   ]
  },
  {
   "cell_type": "code",
   "execution_count": 135,
   "metadata": {},
   "outputs": [],
   "source": [
    "# either two vehicles were involved or not\n",
    "collisions_df['SDOT_COLCODE'] = collisions_df['SDOT_COLCODE'].apply(lambda x: x if (x >= 10 and x<=30)  else 0)"
   ]
  },
  {
   "cell_type": "code",
   "execution_count": 136,
   "metadata": {},
   "outputs": [
    {
     "data": {
      "text/plain": [
       "SDOT_COLCODE  SEVERITYCODE\n",
       "0             1                9652\n",
       "              2                2401\n",
       "11            1               60871\n",
       "              2               24338\n",
       "12            1                1413\n",
       "              2                  27\n",
       "13            1                5653\n",
       "              2                 199\n",
       "14            1               36551\n",
       "              2               17748\n",
       "15            1                1529\n",
       "              2                  75\n",
       "16            1                9236\n",
       "              2                 692\n",
       "18            2                2734\n",
       "              1                 370\n",
       "21            2                 140\n",
       "              1                  41\n",
       "22            2                  16\n",
       "              1                   1\n",
       "23            2                  93\n",
       "              1                  31\n",
       "24            2                5853\n",
       "              1                 665\n",
       "25            1                  82\n",
       "              2                  20\n",
       "26            1                3568\n",
       "              2                1173\n",
       "27            1                 130\n",
       "              2                  36\n",
       "28            1                6574\n",
       "              2                2282\n",
       "29            2                 361\n",
       "              1                 118\n",
       "Name: SEVERITYCODE, dtype: int64"
      ]
     },
     "execution_count": 136,
     "metadata": {},
     "output_type": "execute_result"
    }
   ],
   "source": [
    "collisions_df.groupby(['SDOT_COLCODE'])['SEVERITYCODE'].value_counts(normalize=False)"
   ]
  },
  {
   "cell_type": "markdown",
   "metadata": {},
   "source": [
    "*The other related code, SDOTCOLNUM, a number given to the collision by SDOT, appears to provide a reduncdant code and appears to be an over-specification of the same factors address by a variety of other factors already included. This code can reasonably be ignored.*"
   ]
  },
  {
   "cell_type": "markdown",
   "metadata": {},
   "source": [
    "<hr color= \"red\"/> "
   ]
  },
  {
   "cell_type": "markdown",
   "metadata": {},
   "source": [
    "### Summarize Collisions Data Set Columns"
   ]
  },
  {
   "cell_type": "code",
   "execution_count": 137,
   "metadata": {},
   "outputs": [
    {
     "data": {
      "text/plain": [
       "Index(['SEVERITYCODE', 'longitude', 'latitude', 'STATUS', 'ADDRTYPE',\n",
       "       'COLLISIONTYPE', 'PERSONCOUNT', 'PEDCOUNT', 'PEDCYLCOUNT', 'VEHCOUNT',\n",
       "       'INCDTTM', 'JUNCTIONTYPE', 'SDOT_COLCODE', 'INATTENTIONIND',\n",
       "       'UNDERINFL', 'WEATHER', 'ROADCOND', 'LIGHTCOND', 'PEDROWNOTGRNT',\n",
       "       'SDOTCOLNUM', 'SPEEDING', 'ST_COLCODE', 'SEGLANEKEY', 'CROSSWALKKEY',\n",
       "       'HITPARKEDCAR', 'hourofday', 'morning', 'location', 'locality'],\n",
       "      dtype='object')"
      ]
     },
     "execution_count": 137,
     "metadata": {},
     "output_type": "execute_result"
    }
   ],
   "source": [
    "collisions_df.columns"
   ]
  },
  {
   "cell_type": "markdown",
   "metadata": {},
   "source": [
    "## Create features set from the prepared data set"
   ]
  },
  {
   "cell_type": "code",
   "execution_count": 138,
   "metadata": {},
   "outputs": [
    {
     "data": {
      "text/html": [
       "<div>\n",
       "<style scoped>\n",
       "    .dataframe tbody tr th:only-of-type {\n",
       "        vertical-align: middle;\n",
       "    }\n",
       "\n",
       "    .dataframe tbody tr th {\n",
       "        vertical-align: top;\n",
       "    }\n",
       "\n",
       "    .dataframe thead th {\n",
       "        text-align: right;\n",
       "    }\n",
       "</style>\n",
       "<table border=\"1\" class=\"dataframe\">\n",
       "  <thead>\n",
       "    <tr style=\"text-align: right;\">\n",
       "      <th></th>\n",
       "      <th>location</th>\n",
       "      <th>locality</th>\n",
       "      <th>STATUS</th>\n",
       "      <th>COLLISIONTYPE</th>\n",
       "      <th>PERSONCOUNT</th>\n",
       "      <th>PEDCOUNT</th>\n",
       "      <th>PEDCYLCOUNT</th>\n",
       "      <th>VEHCOUNT</th>\n",
       "      <th>hourofday</th>\n",
       "      <th>SDOT_COLCODE</th>\n",
       "      <th>INATTENTIONIND</th>\n",
       "      <th>UNDERINFL</th>\n",
       "      <th>WEATHER</th>\n",
       "      <th>ROADCOND</th>\n",
       "      <th>LIGHTCOND</th>\n",
       "      <th>SPEEDING</th>\n",
       "      <th>morning</th>\n",
       "    </tr>\n",
       "  </thead>\n",
       "  <tbody>\n",
       "    <tr>\n",
       "      <th>0</th>\n",
       "      <td>0</td>\n",
       "      <td>3</td>\n",
       "      <td>0</td>\n",
       "      <td>Angles</td>\n",
       "      <td>2</td>\n",
       "      <td>0</td>\n",
       "      <td>0</td>\n",
       "      <td>2</td>\n",
       "      <td>14</td>\n",
       "      <td>11</td>\n",
       "      <td>0</td>\n",
       "      <td>0</td>\n",
       "      <td>Overcast</td>\n",
       "      <td>Wet</td>\n",
       "      <td>Daylight</td>\n",
       "      <td>0</td>\n",
       "      <td>1</td>\n",
       "    </tr>\n",
       "    <tr>\n",
       "      <th>1</th>\n",
       "      <td>1</td>\n",
       "      <td>5</td>\n",
       "      <td>0</td>\n",
       "      <td>Sideswipe</td>\n",
       "      <td>2</td>\n",
       "      <td>0</td>\n",
       "      <td>0</td>\n",
       "      <td>2</td>\n",
       "      <td>18</td>\n",
       "      <td>16</td>\n",
       "      <td>0</td>\n",
       "      <td>0</td>\n",
       "      <td>Raining</td>\n",
       "      <td>Wet</td>\n",
       "      <td>Dark - Street Lights On</td>\n",
       "      <td>0</td>\n",
       "      <td>1</td>\n",
       "    </tr>\n",
       "    <tr>\n",
       "      <th>2</th>\n",
       "      <td>1</td>\n",
       "      <td>5</td>\n",
       "      <td>0</td>\n",
       "      <td>Parked Car</td>\n",
       "      <td>4</td>\n",
       "      <td>0</td>\n",
       "      <td>0</td>\n",
       "      <td>3</td>\n",
       "      <td>10</td>\n",
       "      <td>14</td>\n",
       "      <td>0</td>\n",
       "      <td>0</td>\n",
       "      <td>Overcast</td>\n",
       "      <td>Dry</td>\n",
       "      <td>Daylight</td>\n",
       "      <td>0</td>\n",
       "      <td>0</td>\n",
       "    </tr>\n",
       "    <tr>\n",
       "      <th>3</th>\n",
       "      <td>1</td>\n",
       "      <td>5</td>\n",
       "      <td>0</td>\n",
       "      <td>Other</td>\n",
       "      <td>3</td>\n",
       "      <td>0</td>\n",
       "      <td>0</td>\n",
       "      <td>3</td>\n",
       "      <td>9</td>\n",
       "      <td>11</td>\n",
       "      <td>0</td>\n",
       "      <td>0</td>\n",
       "      <td>Clear</td>\n",
       "      <td>Dry</td>\n",
       "      <td>Daylight</td>\n",
       "      <td>0</td>\n",
       "      <td>0</td>\n",
       "    </tr>\n",
       "    <tr>\n",
       "      <th>4</th>\n",
       "      <td>1</td>\n",
       "      <td>6</td>\n",
       "      <td>0</td>\n",
       "      <td>Angles</td>\n",
       "      <td>2</td>\n",
       "      <td>0</td>\n",
       "      <td>0</td>\n",
       "      <td>2</td>\n",
       "      <td>8</td>\n",
       "      <td>11</td>\n",
       "      <td>0</td>\n",
       "      <td>0</td>\n",
       "      <td>Raining</td>\n",
       "      <td>Wet</td>\n",
       "      <td>Daylight</td>\n",
       "      <td>0</td>\n",
       "      <td>0</td>\n",
       "    </tr>\n",
       "  </tbody>\n",
       "</table>\n",
       "</div>"
      ],
      "text/plain": [
       "   location  locality  STATUS COLLISIONTYPE  PERSONCOUNT  PEDCOUNT  \\\n",
       "0         0         3       0        Angles            2         0   \n",
       "1         1         5       0     Sideswipe            2         0   \n",
       "2         1         5       0    Parked Car            4         0   \n",
       "3         1         5       0         Other            3         0   \n",
       "4         1         6       0        Angles            2         0   \n",
       "\n",
       "   PEDCYLCOUNT  VEHCOUNT  hourofday  SDOT_COLCODE  INATTENTIONIND  UNDERINFL  \\\n",
       "0            0         2         14            11               0          0   \n",
       "1            0         2         18            16               0          0   \n",
       "2            0         3         10            14               0          0   \n",
       "3            0         3          9            11               0          0   \n",
       "4            0         2          8            11               0          0   \n",
       "\n",
       "    WEATHER ROADCOND                LIGHTCOND  SPEEDING  morning  \n",
       "0  Overcast      Wet                 Daylight         0        1  \n",
       "1   Raining      Wet  Dark - Street Lights On         0        1  \n",
       "2  Overcast      Dry                 Daylight         0        0  \n",
       "3     Clear      Dry                 Daylight         0        0  \n",
       "4   Raining      Wet                 Daylight         0        0  "
      ]
     },
     "execution_count": 138,
     "metadata": {},
     "output_type": "execute_result"
    }
   ],
   "source": [
    "Features = collisions_df[['location','locality', 'STATUS','COLLISIONTYPE','PERSONCOUNT', 'PEDCOUNT', 'PEDCYLCOUNT', 'VEHCOUNT', \\\n",
    "                          'hourofday', 'SDOT_COLCODE', 'INATTENTIONIND', 'UNDERINFL', 'WEATHER', 'ROADCOND', 'LIGHTCOND', \\\n",
    "                          'SPEEDING', 'morning']]\n",
    "Features.head()"
   ]
  },
  {
   "cell_type": "markdown",
   "metadata": {},
   "source": [
    "#### We use the one hot encoding technique to conver categorical varables, such as collision type, to binary variables and append them to the features Data Frame "
   ]
  },
  {
   "cell_type": "code",
   "execution_count": 139,
   "metadata": {},
   "outputs": [
    {
     "data": {
      "text/html": [
       "<div>\n",
       "<style scoped>\n",
       "    .dataframe tbody tr th:only-of-type {\n",
       "        vertical-align: middle;\n",
       "    }\n",
       "\n",
       "    .dataframe tbody tr th {\n",
       "        vertical-align: top;\n",
       "    }\n",
       "\n",
       "    .dataframe thead th {\n",
       "        text-align: right;\n",
       "    }\n",
       "</style>\n",
       "<table border=\"1\" class=\"dataframe\">\n",
       "  <thead>\n",
       "    <tr style=\"text-align: right;\">\n",
       "      <th></th>\n",
       "      <th>location</th>\n",
       "      <th>locality</th>\n",
       "      <th>STATUS</th>\n",
       "      <th>PERSONCOUNT</th>\n",
       "      <th>PEDCOUNT</th>\n",
       "      <th>PEDCYLCOUNT</th>\n",
       "      <th>VEHCOUNT</th>\n",
       "      <th>hourofday</th>\n",
       "      <th>SDOT_COLCODE</th>\n",
       "      <th>INATTENTIONIND</th>\n",
       "      <th>...</th>\n",
       "      <th>ROADCOND_Wet</th>\n",
       "      <th>LIGHTCOND_Dark - No Street Lights</th>\n",
       "      <th>LIGHTCOND_Dark - Street Lights Off</th>\n",
       "      <th>LIGHTCOND_Dark - Street Lights On</th>\n",
       "      <th>LIGHTCOND_Dark - Unknown Lighting</th>\n",
       "      <th>LIGHTCOND_Dawn</th>\n",
       "      <th>LIGHTCOND_Daylight</th>\n",
       "      <th>LIGHTCOND_Dusk</th>\n",
       "      <th>LIGHTCOND_Other</th>\n",
       "      <th>LIGHTCOND_Unknown</th>\n",
       "    </tr>\n",
       "  </thead>\n",
       "  <tbody>\n",
       "    <tr>\n",
       "      <th>0</th>\n",
       "      <td>0</td>\n",
       "      <td>3</td>\n",
       "      <td>0</td>\n",
       "      <td>2</td>\n",
       "      <td>0</td>\n",
       "      <td>0</td>\n",
       "      <td>2</td>\n",
       "      <td>14</td>\n",
       "      <td>11</td>\n",
       "      <td>0</td>\n",
       "      <td>...</td>\n",
       "      <td>1</td>\n",
       "      <td>0</td>\n",
       "      <td>0</td>\n",
       "      <td>0</td>\n",
       "      <td>0</td>\n",
       "      <td>0</td>\n",
       "      <td>1</td>\n",
       "      <td>0</td>\n",
       "      <td>0</td>\n",
       "      <td>0</td>\n",
       "    </tr>\n",
       "    <tr>\n",
       "      <th>1</th>\n",
       "      <td>1</td>\n",
       "      <td>5</td>\n",
       "      <td>0</td>\n",
       "      <td>2</td>\n",
       "      <td>0</td>\n",
       "      <td>0</td>\n",
       "      <td>2</td>\n",
       "      <td>18</td>\n",
       "      <td>16</td>\n",
       "      <td>0</td>\n",
       "      <td>...</td>\n",
       "      <td>1</td>\n",
       "      <td>0</td>\n",
       "      <td>0</td>\n",
       "      <td>1</td>\n",
       "      <td>0</td>\n",
       "      <td>0</td>\n",
       "      <td>0</td>\n",
       "      <td>0</td>\n",
       "      <td>0</td>\n",
       "      <td>0</td>\n",
       "    </tr>\n",
       "    <tr>\n",
       "      <th>2</th>\n",
       "      <td>1</td>\n",
       "      <td>5</td>\n",
       "      <td>0</td>\n",
       "      <td>4</td>\n",
       "      <td>0</td>\n",
       "      <td>0</td>\n",
       "      <td>3</td>\n",
       "      <td>10</td>\n",
       "      <td>14</td>\n",
       "      <td>0</td>\n",
       "      <td>...</td>\n",
       "      <td>0</td>\n",
       "      <td>0</td>\n",
       "      <td>0</td>\n",
       "      <td>0</td>\n",
       "      <td>0</td>\n",
       "      <td>0</td>\n",
       "      <td>1</td>\n",
       "      <td>0</td>\n",
       "      <td>0</td>\n",
       "      <td>0</td>\n",
       "    </tr>\n",
       "    <tr>\n",
       "      <th>3</th>\n",
       "      <td>1</td>\n",
       "      <td>5</td>\n",
       "      <td>0</td>\n",
       "      <td>3</td>\n",
       "      <td>0</td>\n",
       "      <td>0</td>\n",
       "      <td>3</td>\n",
       "      <td>9</td>\n",
       "      <td>11</td>\n",
       "      <td>0</td>\n",
       "      <td>...</td>\n",
       "      <td>0</td>\n",
       "      <td>0</td>\n",
       "      <td>0</td>\n",
       "      <td>0</td>\n",
       "      <td>0</td>\n",
       "      <td>0</td>\n",
       "      <td>1</td>\n",
       "      <td>0</td>\n",
       "      <td>0</td>\n",
       "      <td>0</td>\n",
       "    </tr>\n",
       "    <tr>\n",
       "      <th>4</th>\n",
       "      <td>1</td>\n",
       "      <td>6</td>\n",
       "      <td>0</td>\n",
       "      <td>2</td>\n",
       "      <td>0</td>\n",
       "      <td>0</td>\n",
       "      <td>2</td>\n",
       "      <td>8</td>\n",
       "      <td>11</td>\n",
       "      <td>0</td>\n",
       "      <td>...</td>\n",
       "      <td>1</td>\n",
       "      <td>0</td>\n",
       "      <td>0</td>\n",
       "      <td>0</td>\n",
       "      <td>0</td>\n",
       "      <td>0</td>\n",
       "      <td>1</td>\n",
       "      <td>0</td>\n",
       "      <td>0</td>\n",
       "      <td>0</td>\n",
       "    </tr>\n",
       "  </tbody>\n",
       "</table>\n",
       "<p>5 rows × 52 columns</p>\n",
       "</div>"
      ],
      "text/plain": [
       "   location  locality  STATUS  PERSONCOUNT  PEDCOUNT  PEDCYLCOUNT  VEHCOUNT  \\\n",
       "0         0         3       0            2         0            0         2   \n",
       "1         1         5       0            2         0            0         2   \n",
       "2         1         5       0            4         0            0         3   \n",
       "3         1         5       0            3         0            0         3   \n",
       "4         1         6       0            2         0            0         2   \n",
       "\n",
       "   hourofday  SDOT_COLCODE  INATTENTIONIND  ...  ROADCOND_Wet  \\\n",
       "0         14            11               0  ...             1   \n",
       "1         18            16               0  ...             1   \n",
       "2         10            14               0  ...             0   \n",
       "3          9            11               0  ...             0   \n",
       "4          8            11               0  ...             1   \n",
       "\n",
       "   LIGHTCOND_Dark - No Street Lights  LIGHTCOND_Dark - Street Lights Off  \\\n",
       "0                                  0                                   0   \n",
       "1                                  0                                   0   \n",
       "2                                  0                                   0   \n",
       "3                                  0                                   0   \n",
       "4                                  0                                   0   \n",
       "\n",
       "   LIGHTCOND_Dark - Street Lights On  LIGHTCOND_Dark - Unknown Lighting  \\\n",
       "0                                  0                                  0   \n",
       "1                                  1                                  0   \n",
       "2                                  0                                  0   \n",
       "3                                  0                                  0   \n",
       "4                                  0                                  0   \n",
       "\n",
       "   LIGHTCOND_Dawn  LIGHTCOND_Daylight  LIGHTCOND_Dusk  LIGHTCOND_Other  \\\n",
       "0               0                   1               0                0   \n",
       "1               0                   0               0                0   \n",
       "2               0                   1               0                0   \n",
       "3               0                   1               0                0   \n",
       "4               0                   1               0                0   \n",
       "\n",
       "   LIGHTCOND_Unknown  \n",
       "0                  0  \n",
       "1                  0  \n",
       "2                  0  \n",
       "3                  0  \n",
       "4                  0  \n",
       "\n",
       "[5 rows x 52 columns]"
      ]
     },
     "execution_count": 139,
     "metadata": {},
     "output_type": "execute_result"
    }
   ],
   "source": [
    "Features = pd.concat([Features, pd.get_dummies(collisions_df[['COLLISIONTYPE', 'WEATHER', 'ROADCOND', 'LIGHTCOND']])], axis=1)\n",
    "Features.drop(['COLLISIONTYPE', 'WEATHER', 'ROADCOND', 'LIGHTCOND'], axis = 1, inplace=True)\n",
    "Features.head()"
   ]
  },
  {
   "cell_type": "code",
   "execution_count": 140,
   "metadata": {},
   "outputs": [
    {
     "data": {
      "text/plain": [
       "Index(['location', 'locality', 'STATUS', 'PERSONCOUNT', 'PEDCOUNT',\n",
       "       'PEDCYLCOUNT', 'VEHCOUNT', 'hourofday', 'SDOT_COLCODE',\n",
       "       'INATTENTIONIND', 'UNDERINFL', 'SPEEDING', 'morning',\n",
       "       'COLLISIONTYPE_Angles', 'COLLISIONTYPE_Cycles', 'COLLISIONTYPE_Head On',\n",
       "       'COLLISIONTYPE_Left Turn', 'COLLISIONTYPE_Other',\n",
       "       'COLLISIONTYPE_Parked Car', 'COLLISIONTYPE_Pedestrian',\n",
       "       'COLLISIONTYPE_Rear Ended', 'COLLISIONTYPE_Right Turn',\n",
       "       'COLLISIONTYPE_Sideswipe', 'WEATHER_Blowing Sand/Dirt', 'WEATHER_Clear',\n",
       "       'WEATHER_Fog/Smog/Smoke', 'WEATHER_Other', 'WEATHER_Overcast',\n",
       "       'WEATHER_Partly Cloudy', 'WEATHER_Raining', 'WEATHER_Severe Crosswind',\n",
       "       'WEATHER_Sleet/Hail/Freezing Rain', 'WEATHER_Snowing',\n",
       "       'WEATHER_Unknown', 'ROADCOND_Dry', 'ROADCOND_Ice', 'ROADCOND_Oil',\n",
       "       'ROADCOND_Other', 'ROADCOND_Sand/Mud/Dirt', 'ROADCOND_Snow/Slush',\n",
       "       'ROADCOND_Standing Water', 'ROADCOND_Unknown', 'ROADCOND_Wet',\n",
       "       'LIGHTCOND_Dark - No Street Lights',\n",
       "       'LIGHTCOND_Dark - Street Lights Off',\n",
       "       'LIGHTCOND_Dark - Street Lights On',\n",
       "       'LIGHTCOND_Dark - Unknown Lighting', 'LIGHTCOND_Dawn',\n",
       "       'LIGHTCOND_Daylight', 'LIGHTCOND_Dusk', 'LIGHTCOND_Other',\n",
       "       'LIGHTCOND_Unknown'],\n",
       "      dtype='object')"
      ]
     },
     "execution_count": 140,
     "metadata": {},
     "output_type": "execute_result"
    }
   ],
   "source": [
    "Features.columns"
   ]
  },
  {
   "cell_type": "code",
   "execution_count": 141,
   "metadata": {},
   "outputs": [
    {
     "data": {
      "text/plain": [
       "(194673, 52)"
      ]
     },
     "execution_count": 141,
     "metadata": {},
     "output_type": "execute_result"
    }
   ],
   "source": [
    "Features.shape"
   ]
  },
  {
   "cell_type": "markdown",
   "metadata": {},
   "source": [
    "<hr color= \"red\"/> "
   ]
  },
  {
   "cell_type": "markdown",
   "metadata": {},
   "source": [
    "### Classification Features selection"
   ]
  },
  {
   "cell_type": "markdown",
   "metadata": {},
   "source": [
    "Now, we define the classification feature sets, X:"
   ]
  },
  {
   "cell_type": "code",
   "execution_count": 142,
   "metadata": {},
   "outputs": [],
   "source": [
    "# remove all the unknown or other conditions as they add very little interpretational or meaningful value\n",
    "# further refinement based on the earlier analysis done above\n",
    "full_short_listed = ['location', 'locality', 'STATUS', 'PERSONCOUNT', 'PEDCOUNT', 'PEDCYLCOUNT', 'VEHCOUNT', 'SDOT_COLCODE', \\\n",
    "                     'INATTENTIONIND', 'UNDERINFL', 'SPEEDING', 'morning', 'COLLISIONTYPE_Angles', 'COLLISIONTYPE_Cycles', \\\n",
    "                     'COLLISIONTYPE_Head On', 'COLLISIONTYPE_Left Turn', 'COLLISIONTYPE_Parked Car', 'COLLISIONTYPE_Pedestrian', \\\n",
    "                     'COLLISIONTYPE_Rear Ended', 'COLLISIONTYPE_Right Turn', 'COLLISIONTYPE_Sideswipe', 'WEATHER_Blowing Sand/Dirt', \\\n",
    "                     'WEATHER_Clear', 'WEATHER_Fog/Smog/Smoke', 'WEATHER_Overcast', 'WEATHER_Partly Cloudy', 'WEATHER_Raining', \\\n",
    "                     'WEATHER_Severe Crosswind', 'WEATHER_Sleet/Hail/Freezing Rain', 'WEATHER_Snowing', 'ROADCOND_Dry', 'ROADCOND_Ice', \\\n",
    "                     'ROADCOND_Oil', 'ROADCOND_Sand/Mud/Dirt', 'ROADCOND_Snow/Slush', 'ROADCOND_Standing Water', 'ROADCOND_Wet', \\\n",
    "                     'LIGHTCOND_Dark - No Street Lights', 'LIGHTCOND_Dark - Street Lights Off', 'LIGHTCOND_Dark - Street Lights On', \\\n",
    "                     'LIGHTCOND_Dawn', 'LIGHTCOND_Daylight', 'LIGHTCOND_Dusk']\n",
    "short_listed1 = ['location', 'locality', 'STATUS', 'PERSONCOUNT', 'PEDCOUNT', 'PEDCYLCOUNT', 'VEHCOUNT', 'SDOT_COLCODE', 'INATTENTIONIND', \\\n",
    "                'UNDERINFL', 'SPEEDING', 'morning', 'COLLISIONTYPE_Angles', 'COLLISIONTYPE_Cycles', 'COLLISIONTYPE_Head On', \\\n",
    "                'COLLISIONTYPE_Left Turn', 'COLLISIONTYPE_Parked Car', 'COLLISIONTYPE_Pedestrian', 'COLLISIONTYPE_Rear Ended', \\\n",
    "                'COLLISIONTYPE_Right Turn', 'COLLISIONTYPE_Sideswipe', 'WEATHER_Blowing Sand/Dirt', 'WEATHER_Clear', \\\n",
    "                'WEATHER_Fog/Smog/Smoke', 'WEATHER_Overcast', 'WEATHER_Partly Cloudy', 'WEATHER_Raining', \\\n",
    "                'WEATHER_Severe Crosswind', 'WEATHER_Sleet/Hail/Freezing Rain', 'WEATHER_Snowing', \\\n",
    "                'ROADCOND_Dry', 'ROADCOND_Ice', 'ROADCOND_Oil', 'ROADCOND_Sand/Mud/Dirt', 'ROADCOND_Snow/Slush', \\\n",
    "                'ROADCOND_Standing Water', 'ROADCOND_Wet', 'LIGHTCOND_Dark - No Street Lights', \\\n",
    "                'LIGHTCOND_Dark - Street Lights Off', 'LIGHTCOND_Dark - Street Lights On', 'LIGHTCOND_Dawn', \\\n",
    "                'LIGHTCOND_Daylight', 'LIGHTCOND_Dusk']\n",
    "short_listed_opt = ['UNDERINFL', 'SPEEDING', 'morning', 'WEATHER_Snowing'] # KNN = 0.6959460847767572 accuracy\n",
    "# make sure to update the following with the correct short_listed features\n",
    "short_listed_opt = short_listed1 # stores the optimal short list of features (<=30)"
   ]
  },
  {
   "cell_type": "markdown",
   "metadata": {},
   "source": [
    "### Complete Prepared Dataset:\n",
    "Hold the entire dataset as a whole but it will be broken into training & evaluation set and a testing set that is only used at the end"
   ]
  },
  {
   "cell_type": "code",
   "execution_count": 143,
   "metadata": {},
   "outputs": [
    {
     "data": {
      "text/plain": [
       "(194673, 43)"
      ]
     },
     "execution_count": 143,
     "metadata": {},
     "output_type": "execute_result"
    }
   ],
   "source": [
    "X_whole = Features[short_listed_opt]\n",
    "X_whole.shape"
   ]
  },
  {
   "cell_type": "markdown",
   "metadata": {},
   "source": [
    "**Observation:** The initial subset has 41 features. This is a very high number of features and it is expected that further rationalization will have to be made after the first run to reduce the number of features."
   ]
  },
  {
   "cell_type": "markdown",
   "metadata": {},
   "source": [
    "Lets prepare the target labels:<br/>\n",
    "*We are keen to correctly predict if a collision will result in injury (with greater implications) --> so, to simplify, we binarize the severity since the data set only contains data for 1=property damage or 2=injury*"
   ]
  },
  {
   "cell_type": "code",
   "execution_count": 144,
   "metadata": {},
   "outputs": [
    {
     "data": {
      "text/plain": [
       "(194673,)"
      ]
     },
     "execution_count": 144,
     "metadata": {},
     "output_type": "execute_result"
    }
   ],
   "source": [
    "# So, after this, 1=injury and 0=property damage\n",
    "y_whole = collisions_df['SEVERITYCODE'].apply(lambda x: 1 if (x==2) else 0).values\n",
    "y_whole.shape"
   ]
  },
  {
   "cell_type": "markdown",
   "metadata": {},
   "source": [
    "## Data Normalization\n",
    "Normalize the features - in this case, scale is not a huge problem but we do it for completeness."
   ]
  },
  {
   "cell_type": "code",
   "execution_count": 145,
   "metadata": {},
   "outputs": [
    {
     "data": {
      "text/plain": [
       "array([[-1.50437693, -1.07451352, -0.16046824, -0.36068   , -0.18857566,\n",
       "        -0.17025536,  0.16777055, -0.39858379, -0.42518348, -0.2217116 ,\n",
       "        -0.22440165,  1.01068516,  2.14811072, -0.16915004, -0.10249953,\n",
       "        -0.27517219, -0.57196238, -0.18744809, -0.46074827, -0.12417149,\n",
       "        -0.32510694, -0.01696304, -1.15340914, -0.05414257,  2.45445634,\n",
       "        -0.00506801, -0.45298634, -0.011333  , -0.02409974, -0.06841713,\n",
       "        -1.33213439, -0.07905204, -0.01813462, -0.01963186, -0.07200071,\n",
       "        -0.02431221,  1.76085874, -0.08920831, -0.07872239, -0.576075  ,\n",
       "        -0.1141037 ,  0.82233559, -0.17682024]])"
      ]
     },
     "execution_count": 145,
     "metadata": {},
     "output_type": "execute_result"
    }
   ],
   "source": [
    "from sklearn.preprocessing import StandardScaler\n",
    "X_whole_scaled = StandardScaler().fit_transform(X_whole)\n",
    "X_whole_scaled[0:1]"
   ]
  },
  {
   "cell_type": "code",
   "execution_count": null,
   "metadata": {},
   "outputs": [],
   "source": []
  },
  {
   "cell_type": "markdown",
   "metadata": {},
   "source": [
    "### Split complete dataset into 1) Training & Evaluation 2) Testing:"
   ]
  },
  {
   "cell_type": "code",
   "execution_count": 146,
   "metadata": {},
   "outputs": [
    {
     "name": "stdout",
     "output_type": "stream",
     "text": [
      "Train set (Training & Evaluation): (175205, 43) (175205,)\n",
      "Test set (Final Testing): (19468, 43) (19468,)\n"
     ]
    }
   ],
   "source": [
    "from sklearn.model_selection import train_test_split\n",
    "test_prop = 0.10 # retain proportion of the data for the final testing phase\n",
    "X_whole_train, X_whole_test, y_whole_train, y_whole_test = train_test_split(X_whole_scaled, y_whole, test_size=test_prop, random_state=0)\n",
    "print ('Train set (Training & Evaluation):', X_whole_train.shape,  y_whole_train.shape)\n",
    "print ('Test set (Final Testing):', X_whole_test.shape,  y_whole_test.shape)"
   ]
  },
  {
   "cell_type": "markdown",
   "metadata": {},
   "source": [
    "***Note the portion specifically for training and evaluation going forward:***"
   ]
  },
  {
   "cell_type": "code",
   "execution_count": 147,
   "metadata": {},
   "outputs": [],
   "source": [
    "X = X_whole_train\n",
    "y = y_whole_train"
   ]
  },
  {
   "cell_type": "markdown",
   "metadata": {},
   "source": [
    "### Training & Evaluation Dataset:\n",
    "Now split the Training & Evaluation dataset for training and evaluation as usual."
   ]
  },
  {
   "cell_type": "code",
   "execution_count": 148,
   "metadata": {},
   "outputs": [
    {
     "name": "stdout",
     "output_type": "stream",
     "text": [
      "Train set: (140164, 43) (140164,)\n",
      "Test set: (35041, 43) (35041,)\n"
     ]
    }
   ],
   "source": [
    "test_prop = 0.20 # retain proportion of the data for the evaluation after training\n",
    "X_train, X_test, y_train, y_test = train_test_split(X, y, test_size=test_prop, random_state=0)\n",
    "print ('Train set:', X_train.shape,  y_train.shape)\n",
    "print ('Test set:', X_test.shape,  y_test.shape)"
   ]
  },
  {
   "cell_type": "markdown",
   "metadata": {},
   "source": [
    "### Determine the most important or impactful features using Decision Tree Classifier:"
   ]
  },
  {
   "cell_type": "markdown",
   "metadata": {},
   "source": [
    "*First import all necessary libraries:*"
   ]
  },
  {
   "cell_type": "code",
   "execution_count": 149,
   "metadata": {},
   "outputs": [],
   "source": [
    "from sklearn.neighbors import KNeighborsClassifier\n",
    "from sklearn.tree import DecisionTreeClassifier\n",
    "from sklearn.svm import LinearSVC\n",
    "from sklearn.linear_model import LogisticRegression\n",
    "from sklearn.metrics import f1_score\n",
    "from sklearn.metrics import SCORERS\n",
    "from sklearn.model_selection import cross_val_score\n",
    "from sklearn.decomposition import SparsePCA\n",
    "from sklearn.ensemble import GradientBoostingClassifier"
   ]
  },
  {
   "cell_type": "markdown",
   "metadata": {},
   "source": [
    "### Feature Selection & Dimensionality Reduction\n",
    "The feature selection is done using a DecisionTree algorithm and dimensionality reduction is done with <a href=\"https://web.stanford.edu/~hastie/Papers/spc_jcgs.pdf\">SparsePCA</a>."
   ]
  },
  {
   "cell_type": "code",
   "execution_count": 150,
   "metadata": {},
   "outputs": [
    {
     "name": "stdout",
     "output_type": "stream",
     "text": [
      "Feature selection model accuracy(f1):  0.45656137874242697\n",
      "Feature importances: [2.47226467e-02 1.23157736e-01 4.98548026e-04 9.23360625e-02\n",
      " 7.58423611e-02 6.03187694e-02 2.21330238e-02 5.33820379e-02\n",
      " 2.83189607e-02 1.81768946e-02 1.69488883e-02 4.65007392e-02\n",
      " 3.71482074e-03 3.36774469e-04 3.24696598e-03 5.10878776e-03\n",
      " 2.06013589e-01 2.44608789e-03 2.69680907e-03 4.19595082e-03\n",
      " 3.90814434e-02 4.05033693e-04 2.06017618e-02 2.84264916e-03\n",
      " 2.20432970e-02 8.28184294e-05 1.63736082e-02 2.01977746e-04\n",
      " 7.41583124e-04 2.18731453e-03 1.59281055e-02 3.43125460e-03\n",
      " 4.85840736e-04 2.24215532e-04 1.97679117e-03 9.19406910e-04\n",
      " 1.51609931e-02 4.31519849e-03 3.86424609e-03 2.02945818e-02\n",
      " 6.04345190e-03 2.19840325e-02 1.07139406e-02]\n"
     ]
    }
   ],
   "source": [
    "tree_depths = 40 # relatively high to explore as many conttributing features in the decision as possible\n",
    "# Train and predict with a feature selection model\n",
    "selection_model = DecisionTreeClassifier(criterion=\"entropy\", max_depth = tree_depths).fit(X_train, y_train)\n",
    "selection_yhat = selection_model.predict(X_test)\n",
    "selection_accuracy = f1_score(y_test, selection_yhat) # indicative accuracy score only using preferred metric (F1-Score)\n",
    "print('Feature selection model accuracy(f1): ', selection_accuracy)\n",
    "print('Feature importances:', selection_model.feature_importances_)"
   ]
  },
  {
   "cell_type": "code",
   "execution_count": 151,
   "metadata": {},
   "outputs": [
    {
     "name": "stdout",
     "output_type": "stream",
     "text": [
      "Top feature COLLISIONTYPE_Parked Car is at index 16\n"
     ]
    },
    {
     "data": {
      "text/plain": [
       "array(['COLLISIONTYPE_Parked Car', 'locality', 'PERSONCOUNT', 'PEDCOUNT',\n",
       "       'PEDCYLCOUNT', 'SDOT_COLCODE', 'morning',\n",
       "       'COLLISIONTYPE_Sideswipe', 'INATTENTIONIND', 'location',\n",
       "       'VEHCOUNT', 'WEATHER_Overcast', 'LIGHTCOND_Daylight',\n",
       "       'WEATHER_Clear', 'LIGHTCOND_Dark - Street Lights On', 'UNDERINFL',\n",
       "       'SPEEDING', 'WEATHER_Raining', 'ROADCOND_Dry', 'ROADCOND_Wet',\n",
       "       'LIGHTCOND_Dusk', 'LIGHTCOND_Dawn', 'COLLISIONTYPE_Left Turn',\n",
       "       'LIGHTCOND_Dark - No Street Lights', 'COLLISIONTYPE_Right Turn',\n",
       "       'LIGHTCOND_Dark - Street Lights Off', 'COLLISIONTYPE_Angles',\n",
       "       'ROADCOND_Ice', 'COLLISIONTYPE_Head On', 'WEATHER_Fog/Smog/Smoke',\n",
       "       'COLLISIONTYPE_Rear Ended', 'COLLISIONTYPE_Pedestrian',\n",
       "       'WEATHER_Snowing', 'ROADCOND_Snow/Slush',\n",
       "       'ROADCOND_Standing Water', 'WEATHER_Sleet/Hail/Freezing Rain',\n",
       "       'STATUS', 'ROADCOND_Oil', 'WEATHER_Blowing Sand/Dirt',\n",
       "       'COLLISIONTYPE_Cycles', 'ROADCOND_Sand/Mud/Dirt',\n",
       "       'WEATHER_Severe Crosswind', 'WEATHER_Partly Cloudy'], dtype='<U34')"
      ]
     },
     "execution_count": 151,
     "metadata": {},
     "output_type": "execute_result"
    }
   ],
   "source": [
    "feature_importances = selection_model.feature_importances_\n",
    "top_feature_index = np.argmax(feature_importances)\n",
    "print('Top feature', short_listed_opt[top_feature_index], 'is at index', top_feature_index)\n",
    "indices = np.argsort(feature_importances)[::-1] # in descending order\n",
    "# prepare sorted features\n",
    "sorted_features = np.array([short_listed_opt[feat] for feat in indices])\n",
    "sorted_features"
   ]
  },
  {
   "cell_type": "markdown",
   "metadata": {},
   "source": [
    "#### Plot the feature importances:"
   ]
  },
  {
   "cell_type": "code",
   "execution_count": 152,
   "metadata": {},
   "outputs": [],
   "source": [
    "def plot_feature_importances(sorted_importances, feature_names):\n",
    "    c_features = len(feature_names)\n",
    "    plt.barh(range(c_features), sorted_importances)\n",
    "    plt.xlabel(\"Feature importance\")\n",
    "    plt.ylabel(\"Feature name\")\n",
    "    plt.yticks(np.arange(c_features), feature_names)"
   ]
  },
  {
   "cell_type": "code",
   "execution_count": 153,
   "metadata": {},
   "outputs": [
    {
     "name": "stdout",
     "output_type": "stream",
     "text": [
      "Features.size: 43\n"
     ]
    },
    {
     "data": {
      "image/png": "[encoded data removed]",
      "text/plain": [
       "<Figure size 640x960 with 1 Axes>"
      ]
     },
     "metadata": {
      "needs_background": "light"
     },
     "output_type": "display_data"
    }
   ],
   "source": [
    "print('Features.size:', len(short_listed_opt))\n",
    "plt.figure(figsize=(8, 12), dpi=80)\n",
    "plot_feature_importances(feature_importances[indices], sorted_features)\n",
    "plt.show()"
   ]
  },
  {
   "cell_type": "markdown",
   "metadata": {},
   "source": [
    "#### List the sorted features according to their importances:"
   ]
  },
  {
   "cell_type": "code",
   "execution_count": 154,
   "metadata": {},
   "outputs": [],
   "source": [
    "importances_df = pd.DataFrame(data=feature_importances[indices], index=sorted_features, columns=['Importance'])\n",
    "#print('Feature importances: {}'.format(feature_importances[indices]))\n",
    "\n",
    "num_features_selected = 30 # based on the importances plotted\n",
    "#importances_df.iloc[:num_features_selected]"
   ]
  },
  {
   "cell_type": "markdown",
   "metadata": {},
   "source": [
    "#### Note the number of features selected:"
   ]
  },
  {
   "cell_type": "code",
   "execution_count": 155,
   "metadata": {},
   "outputs": [
    {
     "data": {
      "text/plain": [
       "Index(['COLLISIONTYPE_Parked Car', 'locality', 'PERSONCOUNT', 'PEDCOUNT',\n",
       "       'PEDCYLCOUNT', 'SDOT_COLCODE', 'morning', 'COLLISIONTYPE_Sideswipe',\n",
       "       'INATTENTIONIND', 'location', 'VEHCOUNT', 'WEATHER_Overcast',\n",
       "       'LIGHTCOND_Daylight', 'WEATHER_Clear',\n",
       "       'LIGHTCOND_Dark - Street Lights On', 'UNDERINFL', 'SPEEDING',\n",
       "       'WEATHER_Raining', 'ROADCOND_Dry', 'ROADCOND_Wet', 'LIGHTCOND_Dusk',\n",
       "       'LIGHTCOND_Dawn', 'COLLISIONTYPE_Left Turn',\n",
       "       'LIGHTCOND_Dark - No Street Lights', 'COLLISIONTYPE_Right Turn',\n",
       "       'LIGHTCOND_Dark - Street Lights Off', 'COLLISIONTYPE_Angles',\n",
       "       'ROADCOND_Ice', 'COLLISIONTYPE_Head On', 'WEATHER_Fog/Smog/Smoke'],\n",
       "      dtype='object')"
      ]
     },
     "execution_count": 155,
     "metadata": {},
     "output_type": "execute_result"
    }
   ],
   "source": [
    "selected_features = importances_df.iloc[:num_features_selected]\n",
    "selected_features.index"
   ]
  },
  {
   "cell_type": "markdown",
   "metadata": {},
   "source": [
    "### Attempt dimentionality reduction using PCA:"
   ]
  },
  {
   "cell_type": "code",
   "execution_count": 156,
   "metadata": {},
   "outputs": [
    {
     "data": {
      "text/plain": [
       "array([[-1.43980172, -4.07547717],\n",
       "       [ 1.63966607,  0.42677844],\n",
       "       [ 2.78268484, -2.78833877],\n",
       "       [-2.44497544,  0.94456722],\n",
       "       [-0.47763298, -0.09397115]])"
      ]
     },
     "execution_count": 156,
     "metadata": {},
     "output_type": "execute_result"
    }
   ],
   "source": [
    "n_components = 2 # keep numbers of features low or lower\n",
    "pca = SparsePCA(n_components=n_components)\n",
    "X_pca = pca.fit_transform(X)\n",
    "X = X_pca # may comment this out if ...\n",
    "X[0:5]"
   ]
  },
  {
   "cell_type": "markdown",
   "metadata": {},
   "source": [
    "#### Plot the outcome of dimensionality reduction"
   ]
  },
  {
   "cell_type": "code",
   "execution_count": 157,
   "metadata": {},
   "outputs": [
    {
     "data": {
      "image/png": "[encoded data removed]",
      "text/plain": [
       "<Figure size 432x432 with 1 Axes>"
      ]
     },
     "metadata": {
      "needs_background": "light"
     },
     "output_type": "display_data"
    }
   ],
   "source": [
    "colors = ['lime', 'purple']\n",
    "target_names = ['injury', 'property damage']\n",
    "plt.figure(figsize=(6, 6))\n",
    "#plot the top two latent features\n",
    "for color, i, target_name in zip(colors, [0, 1], target_names):\n",
    "    plt.scatter(X_pca[y == i, 0], X_pca[y == i, 1], color=color, lw=2, label=target_name)\n",
    "\n",
    "plt.title('PCA - Collisions')\n",
    "plt.legend(loc='best', shadow=False, scatterpoints=1)\n",
    "plt.axis([-1, 2, -1.6, 1.6])\n",
    "plt.show()"
   ]
  },
  {
   "cell_type": "markdown",
   "metadata": {},
   "source": [
    "# Classification"
   ]
  },
  {
   "cell_type": "markdown",
   "metadata": {},
   "source": [
    "A training set is used to build a accurate model, based on a set of classifiers. A test set is used to evaluate the accuracy of classifiers. Thereafter, the best classifier model is selected.\n",
    "\n",
    "The following candidate classifier algorithms are evaluated:\n",
    "- K Nearest Neighbor(KNN) (*typically, simple and expected to do a good jobs*)\n",
    "- Decision Tree (DT)\n",
    "- Gradient Boosted Decision Trees (GBDT) (*using an ensemble of classifiers*)"
   ]
  },
  {
   "cell_type": "markdown",
   "metadata": {},
   "source": [
    "### Prepare the Training and Test Sets"
   ]
  },
  {
   "cell_type": "code",
   "execution_count": 158,
   "metadata": {},
   "outputs": [
    {
     "name": "stdout",
     "output_type": "stream",
     "text": [
      "Train set (training models): (131403, 2) (131403,)\n",
      "Test set (evaluating models): (43802, 2) (43802,)\n"
     ]
    }
   ],
   "source": [
    "test_prop = 0.25 # proportion of data set reserved for evaluation or testing\n",
    "X_train, X_test, y_train, y_test = train_test_split(X, y, test_size=test_prop, random_state=0)\n",
    "print ('Train set (training models):', X_train.shape,  y_train.shape)\n",
    "print ('Test set (evaluating models):', X_test.shape,  y_test.shape)"
   ]
  },
  {
   "cell_type": "markdown",
   "metadata": {},
   "source": [
    "### Set up how the models will be evaluated (using cross-validation):"
   ]
  },
  {
   "cell_type": "markdown",
   "metadata": {},
   "source": [
    "For Evaluating the Models:<br/>\n",
    "*First, review the list of possible evaluation scorers*"
   ]
  },
  {
   "cell_type": "code",
   "execution_count": 159,
   "metadata": {},
   "outputs": [
    {
     "data": {
      "text/plain": [
       "dict_keys(['explained_variance', 'r2', 'max_error', 'neg_median_absolute_error', 'neg_mean_absolute_error', 'neg_mean_squared_error', 'neg_mean_squared_log_error', 'neg_root_mean_squared_error', 'neg_mean_poisson_deviance', 'neg_mean_gamma_deviance', 'accuracy', 'roc_auc', 'roc_auc_ovr', 'roc_auc_ovo', 'roc_auc_ovr_weighted', 'roc_auc_ovo_weighted', 'balanced_accuracy', 'average_precision', 'neg_log_loss', 'neg_brier_score', 'adjusted_rand_score', 'homogeneity_score', 'completeness_score', 'v_measure_score', 'mutual_info_score', 'adjusted_mutual_info_score', 'normalized_mutual_info_score', 'fowlkes_mallows_score', 'precision', 'precision_macro', 'precision_micro', 'precision_samples', 'precision_weighted', 'recall', 'recall_macro', 'recall_micro', 'recall_samples', 'recall_weighted', 'f1', 'f1_macro', 'f1_micro', 'f1_samples', 'f1_weighted', 'jaccard', 'jaccard_macro', 'jaccard_micro', 'jaccard_samples', 'jaccard_weighted'])"
      ]
     },
     "execution_count": 159,
     "metadata": {},
     "output_type": "execute_result"
    }
   ],
   "source": [
    "SCORERS.keys()"
   ]
  },
  {
   "cell_type": "markdown",
   "metadata": {},
   "source": [
    "# K Nearest Neighbor (KNN)"
   ]
  },
  {
   "cell_type": "code",
   "execution_count": 160,
   "metadata": {},
   "outputs": [
    {
     "name": "stdout",
     "output_type": "stream",
     "text": [
      "The best accuracy was 0.7307657184603443 with k= 4\n"
     ]
    },
    {
     "data": {
      "image/png": "[encoded data removed]",
      "text/plain": [
       "<Figure size 432x288 with 1 Axes>"
      ]
     },
     "metadata": {
      "needs_background": "light"
     },
     "output_type": "display_data"
    }
   ],
   "source": [
    "# Calculate the accuracy of KNN for different Ks\n",
    "Ks = 6\n",
    "mean_acc = np.zeros((Ks-1))\n",
    "std_acc = np.zeros((Ks-1))\n",
    "for n in range(1,Ks):\n",
    "    #Train Model and Predict  \n",
    "    neigh = KNeighborsClassifier(n_neighbors = n).fit(X_train,y_train)\n",
    "    yhat=neigh.predict(X_test)\n",
    "    mean_acc[n-1] = np.mean(y_test == yhat)\n",
    "    std_acc[n-1]=np.std(yhat==y_test)/np.sqrt(yhat.shape[0])\n",
    "print( \"The best accuracy was\", mean_acc.max(), \"with k=\", mean_acc.argmax()+1) \n",
    "# Plot model accuracy for different number of Neighbors\n",
    "plt.plot(range(1,Ks),mean_acc,'g')\n",
    "plt.fill_between(range(1,Ks),mean_acc - 1 * std_acc,mean_acc + 1 * std_acc, alpha=0.10)\n",
    "plt.legend(('Accuracy ', '+/- 3xstd'))\n",
    "plt.ylabel('Accuracy ')\n",
    "plt.xlabel('Number of Nabors (K)')\n",
    "plt.tight_layout()\n",
    "plt.show()"
   ]
  },
  {
   "cell_type": "code",
   "execution_count": 161,
   "metadata": {},
   "outputs": [
    {
     "data": {
      "text/plain": [
       "KNeighborsClassifier(n_neighbors=4)"
      ]
     },
     "execution_count": 161,
     "metadata": {},
     "output_type": "execute_result"
    }
   ],
   "source": [
    "# Finally, train Model using the best k\n",
    "k = 4 # optimal k from above\n",
    "knn_model = KNeighborsClassifier(n_neighbors = k)\n",
    "knn_model"
   ]
  },
  {
   "cell_type": "code",
   "execution_count": 162,
   "metadata": {},
   "outputs": [
    {
     "name": "stdout",
     "output_type": "stream",
     "text": [
      "Cross-validation (accuracy) [0.73020176 0.73008761 0.72683428 0.73374048 0.73014469]\n",
      "Cross-validation (AUC) 0.6993688146331705\n",
      "Cross-validation (recall) 0.3148275857174402\n",
      "Cross-validation (precision) 0.6744714064437822\n",
      "Cross-validation (f1) 0.7011842859619299\n"
     ]
    }
   ],
   "source": [
    "# Evaluate model: accuracy is the default scoring metric\n",
    "print('Cross-validation (accuracy)', cross_val_score(knn_model, X, y, cv=5))\n",
    "# use AUC as scoring metric\n",
    "print('Cross-validation (AUC)', np.average(cross_val_score(knn_model, X, y, cv=5, scoring = 'roc_auc')))\n",
    "# use recall as scoring metric\n",
    "print('Cross-validation (recall)', np.average(cross_val_score(knn_model, X, y, cv=5, scoring = 'recall')))\n",
    "# use precision as scoring metric\n",
    "print('Cross-validation (precision)', np.average(cross_val_score(knn_model, X, y, cv=5, scoring = 'precision_macro')))\n",
    "# use f1 as scoring metric\n",
    "print('Cross-validation (f1)', np.average(cross_val_score(knn_model, X, y, cv=5, scoring = 'f1_weighted')))"
   ]
  },
  {
   "cell_type": "markdown",
   "metadata": {},
   "source": [
    "# Decision Tree (DT)"
   ]
  },
  {
   "cell_type": "code",
   "execution_count": 163,
   "metadata": {},
   "outputs": [
    {
     "name": "stdout",
     "output_type": "stream",
     "text": [
      "The best accuracy was 0.7499429249805944 with max_depth= 5\n"
     ]
    },
    {
     "data": {
      "image/png": "[encoded data removed]",
      "text/plain": [
       "<Figure size 432x288 with 1 Axes>"
      ]
     },
     "metadata": {
      "needs_background": "light"
     },
     "output_type": "display_data"
    }
   ],
   "source": [
    "# Calculate the accuracy of tree classifier for different depths\n",
    "tree_depths = 15\n",
    "mean_acc = np.zeros((tree_depths-1))\n",
    "std_acc = np.zeros((tree_depths-1))\n",
    "for n in range(1,tree_depths):\n",
    "    #Train Model and Predict\n",
    "    tree_classifier = DecisionTreeClassifier(criterion=\"entropy\", max_depth = n)\n",
    "    tree_classifier.fit(X_train,y_train)\n",
    "    yhat=tree_classifier.predict(X_test)\n",
    "    mean_acc[n-1] = np.mean(y_test == yhat)\n",
    "    std_acc[n-1]=np.std(yhat==y_test)/np.sqrt(yhat.shape[0])\n",
    "print( \"The best accuracy was\", mean_acc.max(), \"with max_depth=\", mean_acc.argmax()+1) \n",
    "# Plot model accuracy for different tree depths\n",
    "plt.plot(range(1,tree_depths),mean_acc,'g')\n",
    "plt.fill_between(range(1,tree_depths),mean_acc - 1 * std_acc,mean_acc + 1 * std_acc, alpha=0.10)\n",
    "plt.legend(('Accuracy ', '+/- 3xstd'))\n",
    "plt.ylabel('Accuracy ')\n",
    "plt.xlabel('Tree depth (max_depth)')\n",
    "plt.tight_layout()\n",
    "plt.show()"
   ]
  },
  {
   "cell_type": "code",
   "execution_count": 164,
   "metadata": {},
   "outputs": [
    {
     "data": {
      "text/plain": [
       "DecisionTreeClassifier(criterion='entropy', max_depth=5)"
      ]
     },
     "execution_count": 164,
     "metadata": {},
     "output_type": "execute_result"
    }
   ],
   "source": [
    "# Train Model and Predict\n",
    "tree_depths = 5 # optimal depth from above\n",
    "tree_model = DecisionTreeClassifier(criterion=\"entropy\", max_depth = tree_depths)\n",
    "tree_model"
   ]
  },
  {
   "cell_type": "code",
   "execution_count": 165,
   "metadata": {},
   "outputs": [
    {
     "name": "stdout",
     "output_type": "stream",
     "text": [
      "Cross-validation (accuracy) 0.7496190177220969\n",
      "Cross-validation (AUC) 0.6936246003570281\n",
      "Cross-validation (recall) 0.20692100176507133\n",
      "Cross-validation (precision) 0.7870853164738971\n",
      "Cross-validation (f1) 0.6917709784678208\n"
     ]
    }
   ],
   "source": [
    "# Evaluate model: accuracy is the default scoring metric\n",
    "print('Cross-validation (accuracy)', np.average(cross_val_score(tree_model, X, y, cv=5)))\n",
    "# use AUC as scoring metric\n",
    "print('Cross-validation (AUC)', np.average(cross_val_score(tree_model, X, y, cv=5, scoring = 'roc_auc')))\n",
    "# use recall as scoring metric\n",
    "print('Cross-validation (recall)', np.average(cross_val_score(tree_model, X, y, cv=5, scoring = 'recall')))\n",
    "# use precision as scoring metric\n",
    "print('Cross-validation (precision)', np.average(cross_val_score(tree_model, X, y, cv=5, scoring = 'precision_macro')))\n",
    "# use f1 as scoring metric\n",
    "print('Cross-validation (f1)', np.average(cross_val_score(tree_model, X, y, cv=5, scoring = 'f1_weighted')))"
   ]
  },
  {
   "cell_type": "markdown",
   "metadata": {},
   "source": [
    "# Gradient Boosted Decision Trees (GBDT)"
   ]
  },
  {
   "cell_type": "code",
   "execution_count": 166,
   "metadata": {},
   "outputs": [
    {
     "name": "stdout",
     "output_type": "stream",
     "text": [
      "The best accuracy was 0.7511985754075157 with n_estimators = 75\n"
     ]
    },
    {
     "data": {
      "image/png": "[encoded data removed]",
      "text/plain": [
       "<Figure size 432x288 with 1 Axes>"
      ]
     },
     "metadata": {
      "needs_background": "light"
     },
     "output_type": "display_data"
    }
   ],
   "source": [
    "# Calculate the accuracy of SVM for different C, and degree, and gamma\n",
    "start = 25\n",
    "stop = 101\n",
    "step = 25 # based on the setup above\n",
    "n_estimators = range(start, stop, step) # e.g. [25, 50, 75, 100]\n",
    "max_depth = 5 # leveraging from DT analysis above\n",
    "learning_rate = 0.15\n",
    "random_state = 0 # ensure repeatable\n",
    "mean_acc = np.zeros(len(n_estimators))\n",
    "std_acc = np.zeros(len(n_estimators))\n",
    "for c, this_estimators in enumerate(n_estimators):\n",
    "    gb_classifier = GradientBoostingClassifier(n_estimators=this_estimators, max_depth=max_depth, \\\n",
    "                                                 learning_rate=learning_rate, random_state=random_state)\n",
    "    gb_classifier.fit(X_train, y_train)\n",
    "    yhat = gb_classifier.predict(X_test)\n",
    "    mean_acc[c] = np.mean(y_test == yhat)\n",
    "    std_acc[c] = np.std(yhat==y_test)/np.sqrt(yhat.shape[0])\n",
    "\n",
    "print( \"The best accuracy was\", mean_acc.max(), \"with n_estimators =\", n_estimators[mean_acc.argmax()]) \n",
    "# Plot model accuracy for different n_estimators\n",
    "plt.plot(range(start, stop, step), mean_acc,'g')\n",
    "plt.fill_between(range(start, stop, step), mean_acc - 1 * std_acc,mean_acc + 1 * std_acc, alpha=0.10)\n",
    "plt.legend(('Accuracy ', '+/- 3xstd'))\n",
    "plt.ylabel('Accuracy ')\n",
    "plt.xlabel('#Estimators (n_estimators)')\n",
    "plt.tight_layout()\n",
    "plt.show()"
   ]
  },
  {
   "cell_type": "code",
   "execution_count": 167,
   "metadata": {},
   "outputs": [
    {
     "data": {
      "text/plain": [
       "GradientBoostingClassifier(learning_rate=0.15, max_depth=5, n_estimators=75,\n",
       "                           random_state=0)"
      ]
     },
     "execution_count": 167,
     "metadata": {},
     "output_type": "execute_result"
    }
   ],
   "source": [
    "# Finally, train Model using the best parameters\n",
    "n_estimators = 75\n",
    "max_depth = 5 # leveraging from DT analysis above\n",
    "learning_rate = 0.15\n",
    "random_state = 0 # ensure repeatable\n",
    "gbdt_model = GradientBoostingClassifier(n_estimators=n_estimators, max_depth=max_depth, \\\n",
    "                                                 learning_rate=learning_rate, random_state=random_state)\n",
    "gbdt_model"
   ]
  },
  {
   "cell_type": "code",
   "execution_count": 168,
   "metadata": {},
   "outputs": [
    {
     "name": "stdout",
     "output_type": "stream",
     "text": [
      "Cross-validation (accuracy) 0.7509317692212801\n",
      "Cross-validation (AUC) 0.7282485918783411\n",
      "Cross-validation (recall) 0.22544642857142858\n",
      "Cross-validation (precision) 0.7716115022875856\n",
      "Cross-validation (f1) 0.6978998015456619\n"
     ]
    }
   ],
   "source": [
    "# Evaluate model: accuracy is the default scoring metric\n",
    "print('Cross-validation (accuracy)', np.average(cross_val_score(gbdt_model, X, y, cv=2)))\n",
    "# use AUC as scoring metric\n",
    "print('Cross-validation (AUC)', np.average(cross_val_score(gbdt_model, X, y, cv=2, scoring = 'roc_auc')))\n",
    "# use recall as scoring metric\n",
    "print('Cross-validation (recall)', np.average(cross_val_score(gbdt_model, X, y, cv=2, scoring = 'recall')))\n",
    "# use precision as scoring metric\n",
    "print('Cross-validation (precision)', np.average(cross_val_score(gbdt_model, X, y, cv=2, scoring = 'precision_macro')))\n",
    "# use f1 as scoring metric\n",
    "print('Cross-validation (f1)', np.average(cross_val_score(gbdt_model, X, y, cv=2, scoring = 'f1_weighted')))"
   ]
  },
  {
   "cell_type": "markdown",
   "metadata": {},
   "source": [
    "# Final Model Testing\n",
    "Test the classifiers using the final data set set aside earlier."
   ]
  },
  {
   "cell_type": "code",
   "execution_count": 169,
   "metadata": {},
   "outputs": [
    {
     "name": "stdout",
     "output_type": "stream",
     "text": [
      "Cross-validation (accuracy) 0.735309606445979\n",
      "Cross-validation (AUC) 0.7129095956600369\n",
      "Cross-validation (recall) 0.3191287972570468\n",
      "Cross-validation (precision) 0.6806764721877276\n",
      "Cross-validation (f1) 0.7066676110642588\n"
     ]
    }
   ],
   "source": [
    "# Evaluate model: accuracy is the default scoring metric\n",
    "print('Cross-validation (accuracy)', np.average(cross_val_score(knn_model, X_whole_test, y_whole_test, cv=5)))\n",
    "# use AUC as scoring metric\n",
    "print('Cross-validation (AUC)', np.average(cross_val_score(knn_model, X_whole_test, y_whole_test, cv=5, scoring = 'roc_auc')))\n",
    "# use recall as scoring metric\n",
    "print('Cross-validation (recall)', np.average(cross_val_score(knn_model, X_whole_test, y_whole_test, cv=5, scoring = 'recall')))\n",
    "# use precision as scoring metric\n",
    "print('Cross-validation (precision)', np.average(cross_val_score(knn_model, X_whole_test, y_whole_test, cv=5, scoring = 'precision_macro')))\n",
    "# use f1 as scoring metric\n",
    "print('Cross-validation (f1)', np.average(cross_val_score(knn_model, X_whole_test, y_whole_test, cv=5, scoring = 'f1_weighted')))"
   ]
  },
  {
   "cell_type": "code",
   "execution_count": 170,
   "metadata": {},
   "outputs": [
    {
     "name": "stdout",
     "output_type": "stream",
     "text": [
      "Cross-validation (accuracy) 0.7495890916637411\n",
      "Cross-validation (AUC) 0.7712404635682752\n",
      "Cross-validation (recall) 0.17550113664498412\n",
      "Cross-validation (precision) 0.8187274935110501\n",
      "Cross-validation (f1) 0.6833729842201449\n"
     ]
    }
   ],
   "source": [
    "# Evaluate model: accuracy is the default scoring metric\n",
    "print('Cross-validation (accuracy)', np.average(cross_val_score(tree_model, X_whole_test, y_whole_test, cv=5)))\n",
    "# use AUC as scoring metric\n",
    "print('Cross-validation (AUC)', np.average(cross_val_score(tree_model, X_whole_test, y_whole_test, cv=5, scoring = 'roc_auc')))\n",
    "# use recall as scoring metric\n",
    "print('Cross-validation (recall)', np.average(cross_val_score(tree_model, X_whole_test, y_whole_test, cv=5, scoring = 'recall')))\n",
    "# use precision as scoring metric\n",
    "print('Cross-validation (precision)', np.average(cross_val_score(tree_model, X_whole_test, y_whole_test, cv=5, scoring = 'precision_macro')))\n",
    "# use f1 as scoring metric\n",
    "print('Cross-validation (f1)', np.average(cross_val_score(tree_model, X_whole_test, y_whole_test, cv=5, scoring = 'f1_weighted')))"
   ]
  },
  {
   "cell_type": "code",
   "execution_count": 171,
   "metadata": {},
   "outputs": [
    {
     "name": "stdout",
     "output_type": "stream",
     "text": [
      "Cross-validation (accuracy) 0.7529792479967126\n",
      "Cross-validation (AUC) 0.791075154447672\n",
      "Cross-validation (recall) 0.34234234234234234\n",
      "Cross-validation (precision) 0.7153577718323298\n",
      "Cross-validation (f1) 0.7250612578245321\n"
     ]
    }
   ],
   "source": [
    "# Evaluate model: accuracy is the default scoring metric\n",
    "print('Cross-validation (accuracy)', np.average(cross_val_score(gbdt_model, X_whole_test, y_whole_test, cv=2)))\n",
    "# use AUC as scoring metric\n",
    "print('Cross-validation (AUC)', np.average(cross_val_score(gbdt_model, X_whole_test, y_whole_test, cv=2, scoring = 'roc_auc')))\n",
    "# use recall as scoring metric\n",
    "print('Cross-validation (recall)', np.average(cross_val_score(gbdt_model, X_whole_test, y_whole_test, cv=2, scoring = 'recall')))\n",
    "# use precision as scoring metric\n",
    "print('Cross-validation (precision)', np.average(cross_val_score(gbdt_model, X_whole_test, y_whole_test, cv=2, scoring = 'precision_macro')))\n",
    "# use f1 as scoring metric\n",
    "print('Cross-validation (f1)', np.average(cross_val_score(gbdt_model, X_whole_test, y_whole_test, cv=2, scoring = 'f1_weighted')))"
   ]
  },
  {
   "cell_type": "code",
   "execution_count": null,
   "metadata": {},
   "outputs": [],
   "source": []
  }
 ],
 "metadata": {
  "kernelspec": {
   "display_name": "Python 3",
   "language": "python",
   "name": "python3"
  },
  "language_info": {
   "codemirror_mode": {
    "name": "ipython",
    "version": 3
   },
   "file_extension": ".py",
   "mimetype": "text/x-python",
   "name": "python",
   "nbconvert_exporter": "python",
   "pygments_lexer": "ipython3",
   "version": "3.7.4"
  }
 },
 "nbformat": 4,
 "nbformat_minor": 4
}
