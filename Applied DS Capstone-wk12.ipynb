{
 "cells": [
  {
   "cell_type": "markdown",
   "metadata": {},
   "source": [
    "# Applied Data Science Capstone Project\n",
    "Using historical data to analyse and estimate road accident severity."
   ]
  },
  {
   "cell_type": "code",
   "execution_count": 1,
   "metadata": {},
   "outputs": [],
   "source": [
    "import pandas as pd\n",
    "import numpy as np\n",
    "import itertools\n",
    "import matplotlib.pyplot as plt\n",
    "from matplotlib.ticker import NullFormatter\n",
    "import matplotlib.ticker as ticker\n",
    "from sklearn import preprocessing\n",
    "import seaborn as sns\n",
    "from sklearn.neighbors import KNeighborsClassifier\n",
    "from sklearn.tree import DecisionTreeClassifier\n",
    "from sklearn.svm import LinearSVC\n",
    "from sklearn.linear_model import LogisticRegression\n",
    "from sklearn.metrics import f1_score\n",
    "from sklearn.metrics import SCORERS\n",
    "from sklearn.model_selection import cross_val_score\n",
    "from sklearn.decomposition import SparsePCA\n",
    "from sklearn.ensemble import GradientBoostingClassifier\n",
    "from sklearn.metrics import plot_confusion_matrix\n",
    "%matplotlib inline"
   ]
  },
  {
   "cell_type": "markdown",
   "metadata": {},
   "source": [
    "# Use Seatle Department of Transport Data\n",
    "This data was downloaded directly from the website (<a href=\"https://data.seattle.gov/Land-Base/Collisions/9kas-rb8d\"></a> as the sample shared in the course was missing critical attributes such as *'INJURIES'*.<p/>\n",
    "A preliminary cleaning of the data is done to prepare the data set that is somewhat similar to the sample in course."
   ]
  },
  {
   "cell_type": "code",
   "execution_count": 2,
   "metadata": {},
   "outputs": [
    {
     "name": "stdout",
     "output_type": "stream",
     "text": [
      "Shape: (221144, 40)\n"
     ]
    },
    {
     "data": {
      "text/html": [
       "<div>\n",
       "<style scoped>\n",
       "    .dataframe tbody tr th:only-of-type {\n",
       "        vertical-align: middle;\n",
       "    }\n",
       "\n",
       "    .dataframe tbody tr th {\n",
       "        vertical-align: top;\n",
       "    }\n",
       "\n",
       "    .dataframe thead th {\n",
       "        text-align: right;\n",
       "    }\n",
       "</style>\n",
       "<table border=\"1\" class=\"dataframe\">\n",
       "  <thead>\n",
       "    <tr style=\"text-align: right;\">\n",
       "      <th></th>\n",
       "      <th>X</th>\n",
       "      <th>Y</th>\n",
       "      <th>OBJECTID</th>\n",
       "      <th>INCKEY</th>\n",
       "      <th>COLDETKEY</th>\n",
       "      <th>REPORTNO</th>\n",
       "      <th>STATUS</th>\n",
       "      <th>ADDRTYPE</th>\n",
       "      <th>INTKEY</th>\n",
       "      <th>LOCATION</th>\n",
       "      <th>...</th>\n",
       "      <th>ROADCOND</th>\n",
       "      <th>LIGHTCOND</th>\n",
       "      <th>PEDROWNOTGRNT</th>\n",
       "      <th>SDOTCOLNUM</th>\n",
       "      <th>SPEEDING</th>\n",
       "      <th>ST_COLCODE</th>\n",
       "      <th>ST_COLDESC</th>\n",
       "      <th>SEGLANEKEY</th>\n",
       "      <th>CROSSWALKKEY</th>\n",
       "      <th>HITPARKEDCAR</th>\n",
       "    </tr>\n",
       "  </thead>\n",
       "  <tbody>\n",
       "    <tr>\n",
       "      <th>0</th>\n",
       "      <td>1280915.029</td>\n",
       "      <td>197717.5345</td>\n",
       "      <td>1</td>\n",
       "      <td>29800</td>\n",
       "      <td>29800</td>\n",
       "      <td>1177964</td>\n",
       "      <td>Unmatched</td>\n",
       "      <td>Block</td>\n",
       "      <td>NaN</td>\n",
       "      <td>BEACON ER AVE S BETWEEN S PORTLAND ST AND S CH...</td>\n",
       "      <td>...</td>\n",
       "      <td>NaN</td>\n",
       "      <td>NaN</td>\n",
       "      <td>NaN</td>\n",
       "      <td>4315006.0</td>\n",
       "      <td>NaN</td>\n",
       "      <td>NaN</td>\n",
       "      <td>NaN</td>\n",
       "      <td>0</td>\n",
       "      <td>0</td>\n",
       "      <td>N</td>\n",
       "    </tr>\n",
       "    <tr>\n",
       "      <th>1</th>\n",
       "      <td>NaN</td>\n",
       "      <td>NaN</td>\n",
       "      <td>2</td>\n",
       "      <td>115700</td>\n",
       "      <td>115700</td>\n",
       "      <td>10097005</td>\n",
       "      <td>Unmatched</td>\n",
       "      <td>NaN</td>\n",
       "      <td>NaN</td>\n",
       "      <td>NaN</td>\n",
       "      <td>...</td>\n",
       "      <td>NaN</td>\n",
       "      <td>NaN</td>\n",
       "      <td>NaN</td>\n",
       "      <td>10097005.0</td>\n",
       "      <td>NaN</td>\n",
       "      <td>NaN</td>\n",
       "      <td>NaN</td>\n",
       "      <td>0</td>\n",
       "      <td>0</td>\n",
       "      <td>N</td>\n",
       "    </tr>\n",
       "  </tbody>\n",
       "</table>\n",
       "<p>2 rows × 40 columns</p>\n",
       "</div>"
      ],
      "text/plain": [
       "             X            Y  OBJECTID  INCKEY  COLDETKEY  REPORTNO     STATUS  \\\n",
       "0  1280915.029  197717.5345         1   29800      29800   1177964  Unmatched   \n",
       "1          NaN          NaN         2  115700     115700  10097005  Unmatched   \n",
       "\n",
       "  ADDRTYPE  INTKEY                                           LOCATION  ...  \\\n",
       "0    Block     NaN  BEACON ER AVE S BETWEEN S PORTLAND ST AND S CH...  ...   \n",
       "1      NaN     NaN                                                NaN  ...   \n",
       "\n",
       "  ROADCOND LIGHTCOND PEDROWNOTGRNT  SDOTCOLNUM SPEEDING  ST_COLCODE  \\\n",
       "0      NaN       NaN           NaN   4315006.0      NaN         NaN   \n",
       "1      NaN       NaN           NaN  10097005.0      NaN         NaN   \n",
       "\n",
       "   ST_COLDESC  SEGLANEKEY  CROSSWALKKEY  HITPARKEDCAR  \n",
       "0         NaN           0             0             N  \n",
       "1         NaN           0             0             N  \n",
       "\n",
       "[2 rows x 40 columns]"
      ]
     },
     "execution_count": 2,
     "metadata": {},
     "output_type": "execute_result"
    }
   ],
   "source": [
    "filename = 'Collisions.csv'\n",
    "collisions_loaded = pd.read_csv(filename)\n",
    "print('Shape:', collisions_loaded.shape)\n",
    "collisions_loaded.head(2)"
   ]
  },
  {
   "cell_type": "code",
   "execution_count": 3,
   "metadata": {},
   "outputs": [
    {
     "data": {
      "text/plain": [
       "(213674, 40)"
      ]
     },
     "execution_count": 3,
     "metadata": {},
     "output_type": "execute_result"
    }
   ],
   "source": [
    "collisions_loaded = collisions_loaded.dropna(axis=0, subset=['X', 'Y', 'SEVERITYCODE'], how='any')\n",
    "collisions_loaded.shape"
   ]
  },
  {
   "cell_type": "code",
   "execution_count": 4,
   "metadata": {},
   "outputs": [],
   "source": [
    "# make collisions below 2 considered not severe and above severe\n",
    "collisions_loaded['SEVERITYCODE'] = collisions_loaded['SEVERITYCODE'].replace(['0', '1', '2', '2b', '3'], ['0', '0', '1', '1', '1'])\n",
    "collisions_loaded['SEVERITYCODE'] = collisions_loaded['SEVERITYCODE'].astype(int)"
   ]
  },
  {
   "cell_type": "code",
   "execution_count": 5,
   "metadata": {},
   "outputs": [
    {
     "data": {
      "text/plain": [
       "Index(['X', 'Y', 'OBJECTID', 'INCKEY', 'COLDETKEY', 'REPORTNO', 'STATUS',\n",
       "       'ADDRTYPE', 'INTKEY', 'LOCATION', 'EXCEPTRSNCODE', 'EXCEPTRSNDESC',\n",
       "       'SEVERITYCODE', 'SEVERITYDESC', 'COLLISIONTYPE', 'PERSONCOUNT',\n",
       "       'PEDCOUNT', 'PEDCYLCOUNT', 'VEHCOUNT', 'INJURIES', 'SERIOUSINJURIES',\n",
       "       'FATALITIES', 'INCDATE', 'INCDTTM', 'JUNCTIONTYPE', 'SDOT_COLCODE',\n",
       "       'SDOT_COLDESC', 'INATTENTIONIND', 'UNDERINFL', 'WEATHER', 'ROADCOND',\n",
       "       'LIGHTCOND', 'PEDROWNOTGRNT', 'SDOTCOLNUM', 'SPEEDING', 'ST_COLCODE',\n",
       "       'ST_COLDESC', 'SEGLANEKEY', 'CROSSWALKKEY', 'HITPARKEDCAR'],\n",
       "      dtype='object')"
      ]
     },
     "execution_count": 5,
     "metadata": {},
     "output_type": "execute_result"
    }
   ],
   "source": [
    "collisions_loaded.columns"
   ]
  },
  {
   "cell_type": "code",
   "execution_count": 6,
   "metadata": {},
   "outputs": [],
   "source": [
    "collisions_loaded.reset_index(inplace=True)\n",
    "collisions_loaded = collisions_loaded[['X', 'Y', 'OBJECTID', 'INCKEY', 'COLDETKEY', 'REPORTNO',\n",
    "       'STATUS', 'ADDRTYPE', 'INTKEY', 'LOCATION', 'EXCEPTRSNCODE',\n",
    "       'EXCEPTRSNDESC', 'SEVERITYCODE', 'SEVERITYDESC', 'COLLISIONTYPE',\n",
    "       'PERSONCOUNT', 'PEDCOUNT', 'PEDCYLCOUNT', 'VEHCOUNT', 'INJURIES',\n",
    "       'SERIOUSINJURIES', 'FATALITIES', 'INCDATE', 'INCDTTM', 'JUNCTIONTYPE',\n",
    "       'SDOT_COLCODE', 'SDOT_COLDESC', 'INATTENTIONIND', 'UNDERINFL',\n",
    "       'WEATHER', 'ROADCOND', 'LIGHTCOND', 'PEDROWNOTGRNT', 'SDOTCOLNUM',\n",
    "       'SPEEDING', 'ST_COLCODE', 'ST_COLDESC', 'SEGLANEKEY', 'CROSSWALKKEY',\n",
    "       'HITPARKEDCAR']]"
   ]
  },
  {
   "cell_type": "code",
   "execution_count": 7,
   "metadata": {},
   "outputs": [],
   "source": [
    "out_filename = 'Prepared-Collisions.csv'\n",
    "collisions_loaded.to_csv(out_filename)"
   ]
  },
  {
   "cell_type": "markdown",
   "metadata": {},
   "source": [
    "### Now, use the newly prepared dataset:"
   ]
  },
  {
   "cell_type": "code",
   "execution_count": 8,
   "metadata": {},
   "outputs": [
    {
     "name": "stderr",
     "output_type": "stream",
     "text": [
      "C:\\Anaconda\\Anaconda3\\lib\\site-packages\\IPython\\core\\interactiveshell.py:3146: DtypeWarning: Columns (12,36) have mixed types.Specify dtype option on import or set low_memory=False.\n",
      "  interactivity=interactivity, compiler=compiler, result=result)\n"
     ]
    },
    {
     "data": {
      "text/html": [
       "<div>\n",
       "<style scoped>\n",
       "    .dataframe tbody tr th:only-of-type {\n",
       "        vertical-align: middle;\n",
       "    }\n",
       "\n",
       "    .dataframe tbody tr th {\n",
       "        vertical-align: top;\n",
       "    }\n",
       "\n",
       "    .dataframe thead th {\n",
       "        text-align: right;\n",
       "    }\n",
       "</style>\n",
       "<table border=\"1\" class=\"dataframe\">\n",
       "  <thead>\n",
       "    <tr style=\"text-align: right;\">\n",
       "      <th></th>\n",
       "      <th>Unnamed: 0</th>\n",
       "      <th>X</th>\n",
       "      <th>Y</th>\n",
       "      <th>OBJECTID</th>\n",
       "      <th>INCKEY</th>\n",
       "      <th>COLDETKEY</th>\n",
       "      <th>REPORTNO</th>\n",
       "      <th>STATUS</th>\n",
       "      <th>ADDRTYPE</th>\n",
       "      <th>INTKEY</th>\n",
       "      <th>...</th>\n",
       "      <th>ROADCOND</th>\n",
       "      <th>LIGHTCOND</th>\n",
       "      <th>PEDROWNOTGRNT</th>\n",
       "      <th>SDOTCOLNUM</th>\n",
       "      <th>SPEEDING</th>\n",
       "      <th>ST_COLCODE</th>\n",
       "      <th>ST_COLDESC</th>\n",
       "      <th>SEGLANEKEY</th>\n",
       "      <th>CROSSWALKKEY</th>\n",
       "      <th>HITPARKEDCAR</th>\n",
       "    </tr>\n",
       "  </thead>\n",
       "  <tbody>\n",
       "    <tr>\n",
       "      <th>0</th>\n",
       "      <td>0</td>\n",
       "      <td>1280915.029</td>\n",
       "      <td>197717.5345</td>\n",
       "      <td>1</td>\n",
       "      <td>29800</td>\n",
       "      <td>29800</td>\n",
       "      <td>1177964</td>\n",
       "      <td>Unmatched</td>\n",
       "      <td>Block</td>\n",
       "      <td>NaN</td>\n",
       "      <td>...</td>\n",
       "      <td>NaN</td>\n",
       "      <td>NaN</td>\n",
       "      <td>NaN</td>\n",
       "      <td>4315006.0</td>\n",
       "      <td>NaN</td>\n",
       "      <td>NaN</td>\n",
       "      <td>NaN</td>\n",
       "      <td>0</td>\n",
       "      <td>0</td>\n",
       "      <td>N</td>\n",
       "    </tr>\n",
       "    <tr>\n",
       "      <th>1</th>\n",
       "      <td>1</td>\n",
       "      <td>1265803.499</td>\n",
       "      <td>269008.0502</td>\n",
       "      <td>3</td>\n",
       "      <td>1358</td>\n",
       "      <td>1358</td>\n",
       "      <td>3568600</td>\n",
       "      <td>Matched</td>\n",
       "      <td>Block</td>\n",
       "      <td>NaN</td>\n",
       "      <td>...</td>\n",
       "      <td>Dry</td>\n",
       "      <td>Daylight</td>\n",
       "      <td>NaN</td>\n",
       "      <td>NaN</td>\n",
       "      <td>NaN</td>\n",
       "      <td>28</td>\n",
       "      <td>From opposite direction - one left turn - one ...</td>\n",
       "      <td>0</td>\n",
       "      <td>0</td>\n",
       "      <td>N</td>\n",
       "    </tr>\n",
       "    <tr>\n",
       "      <th>2</th>\n",
       "      <td>2</td>\n",
       "      <td>1274388.698</td>\n",
       "      <td>229235.9509</td>\n",
       "      <td>4</td>\n",
       "      <td>70700</td>\n",
       "      <td>70700</td>\n",
       "      <td>2806057</td>\n",
       "      <td>Matched</td>\n",
       "      <td>Block</td>\n",
       "      <td>NaN</td>\n",
       "      <td>...</td>\n",
       "      <td>Dry</td>\n",
       "      <td>Other</td>\n",
       "      <td>NaN</td>\n",
       "      <td>7065007.0</td>\n",
       "      <td>NaN</td>\n",
       "      <td>32</td>\n",
       "      <td>One parked--one moving</td>\n",
       "      <td>0</td>\n",
       "      <td>0</td>\n",
       "      <td>N</td>\n",
       "    </tr>\n",
       "    <tr>\n",
       "      <th>3</th>\n",
       "      <td>3</td>\n",
       "      <td>1263093.464</td>\n",
       "      <td>200192.5349</td>\n",
       "      <td>5</td>\n",
       "      <td>53600</td>\n",
       "      <td>53600</td>\n",
       "      <td>2127310</td>\n",
       "      <td>Matched</td>\n",
       "      <td>Block</td>\n",
       "      <td>NaN</td>\n",
       "      <td>...</td>\n",
       "      <td>Dry</td>\n",
       "      <td>Daylight</td>\n",
       "      <td>NaN</td>\n",
       "      <td>6137017.0</td>\n",
       "      <td>NaN</td>\n",
       "      <td>14</td>\n",
       "      <td>From same direction - both going straight - on...</td>\n",
       "      <td>0</td>\n",
       "      <td>0</td>\n",
       "      <td>N</td>\n",
       "    </tr>\n",
       "    <tr>\n",
       "      <th>4</th>\n",
       "      <td>4</td>\n",
       "      <td>1256925.333</td>\n",
       "      <td>209863.6627</td>\n",
       "      <td>6</td>\n",
       "      <td>1197</td>\n",
       "      <td>1197</td>\n",
       "      <td>3553269</td>\n",
       "      <td>Matched</td>\n",
       "      <td>Intersection</td>\n",
       "      <td>31893.0</td>\n",
       "      <td>...</td>\n",
       "      <td>Dry</td>\n",
       "      <td>Daylight</td>\n",
       "      <td>NaN</td>\n",
       "      <td>NaN</td>\n",
       "      <td>NaN</td>\n",
       "      <td>10</td>\n",
       "      <td>Entering at angle</td>\n",
       "      <td>0</td>\n",
       "      <td>0</td>\n",
       "      <td>N</td>\n",
       "    </tr>\n",
       "  </tbody>\n",
       "</table>\n",
       "<p>5 rows × 41 columns</p>\n",
       "</div>"
      ],
      "text/plain": [
       "   Unnamed: 0            X            Y  OBJECTID  INCKEY  COLDETKEY REPORTNO  \\\n",
       "0           0  1280915.029  197717.5345         1   29800      29800  1177964   \n",
       "1           1  1265803.499  269008.0502         3    1358       1358  3568600   \n",
       "2           2  1274388.698  229235.9509         4   70700      70700  2806057   \n",
       "3           3  1263093.464  200192.5349         5   53600      53600  2127310   \n",
       "4           4  1256925.333  209863.6627         6    1197       1197  3553269   \n",
       "\n",
       "      STATUS      ADDRTYPE   INTKEY  ... ROADCOND LIGHTCOND PEDROWNOTGRNT  \\\n",
       "0  Unmatched         Block      NaN  ...      NaN       NaN           NaN   \n",
       "1    Matched         Block      NaN  ...      Dry  Daylight           NaN   \n",
       "2    Matched         Block      NaN  ...      Dry     Other           NaN   \n",
       "3    Matched         Block      NaN  ...      Dry  Daylight           NaN   \n",
       "4    Matched  Intersection  31893.0  ...      Dry  Daylight           NaN   \n",
       "\n",
       "   SDOTCOLNUM SPEEDING ST_COLCODE  \\\n",
       "0   4315006.0      NaN        NaN   \n",
       "1         NaN      NaN         28   \n",
       "2   7065007.0      NaN         32   \n",
       "3   6137017.0      NaN         14   \n",
       "4         NaN      NaN         10   \n",
       "\n",
       "                                          ST_COLDESC  SEGLANEKEY  \\\n",
       "0                                                NaN           0   \n",
       "1  From opposite direction - one left turn - one ...           0   \n",
       "2                             One parked--one moving           0   \n",
       "3  From same direction - both going straight - on...           0   \n",
       "4                                  Entering at angle           0   \n",
       "\n",
       "   CROSSWALKKEY  HITPARKEDCAR  \n",
       "0             0             N  \n",
       "1             0             N  \n",
       "2             0             N  \n",
       "3             0             N  \n",
       "4             0             N  \n",
       "\n",
       "[5 rows x 41 columns]"
      ]
     },
     "execution_count": 8,
     "metadata": {},
     "output_type": "execute_result"
    }
   ],
   "source": [
    "filename = 'Prepared-Collisions.csv'\n",
    "collisions_loaded = pd.read_csv(filename)\n",
    "collisions_loaded.head()"
   ]
  },
  {
   "cell_type": "code",
   "execution_count": 9,
   "metadata": {},
   "outputs": [
    {
     "data": {
      "text/plain": [
       "Index(['Unnamed: 0', 'X', 'Y', 'OBJECTID', 'INCKEY', 'COLDETKEY', 'REPORTNO',\n",
       "       'STATUS', 'ADDRTYPE', 'INTKEY', 'LOCATION', 'EXCEPTRSNCODE',\n",
       "       'EXCEPTRSNDESC', 'severity', 'SEVERITYDESC', 'COLLISIONTYPE',\n",
       "       'PERSONCOUNT', 'PEDCOUNT', 'PEDCYLCOUNT', 'VEHCOUNT', 'INJURIES',\n",
       "       'SERIOUSINJURIES', 'FATALITIES', 'INCDATE', 'INCDTTM', 'JUNCTIONTYPE',\n",
       "       'SDOT_COLCODE', 'SDOT_COLDESC', 'INATTENTIONIND', 'UNDERINFL',\n",
       "       'WEATHER', 'ROADCOND', 'LIGHTCOND', 'PEDROWNOTGRNT', 'SDOTCOLNUM',\n",
       "       'SPEEDING', 'ST_COLCODE', 'ST_COLDESC', 'SEGLANEKEY', 'CROSSWALKKEY',\n",
       "       'HITPARKEDCAR'],\n",
       "      dtype='object')"
      ]
     },
     "execution_count": 9,
     "metadata": {},
     "output_type": "execute_result"
    }
   ],
   "source": [
    "collisions_loaded.rename(columns={'SEVERITYCODE': 'severity'}, inplace=True)\n",
    "collisions_loaded['severity'] = collisions_loaded['severity'].astype(int)\n",
    "collisions_loaded.columns"
   ]
  },
  {
   "cell_type": "markdown",
   "metadata": {},
   "source": [
    "### Copy loaded data for convenience"
   ]
  },
  {
   "cell_type": "code",
   "execution_count": 10,
   "metadata": {},
   "outputs": [
    {
     "data": {
      "text/plain": [
       "(213674, 40)"
      ]
     },
     "execution_count": 10,
     "metadata": {},
     "output_type": "execute_result"
    }
   ],
   "source": [
    "collisions_df = collisions_loaded[['X', 'Y', 'OBJECTID', 'INCKEY', 'COLDETKEY', 'REPORTNO',\n",
    "       'STATUS', 'ADDRTYPE', 'INTKEY', 'LOCATION', 'EXCEPTRSNCODE',\n",
    "       'EXCEPTRSNDESC', 'severity', 'SEVERITYDESC', 'COLLISIONTYPE',\n",
    "       'PERSONCOUNT', 'PEDCOUNT', 'PEDCYLCOUNT', 'VEHCOUNT', 'INJURIES',\n",
    "       'SERIOUSINJURIES', 'FATALITIES', 'INCDATE', 'INCDTTM', 'JUNCTIONTYPE',\n",
    "       'SDOT_COLCODE', 'SDOT_COLDESC', 'INATTENTIONIND', 'UNDERINFL',\n",
    "       'WEATHER', 'ROADCOND', 'LIGHTCOND', 'PEDROWNOTGRNT', 'SDOTCOLNUM',\n",
    "       'SPEEDING', 'ST_COLCODE', 'ST_COLDESC', 'SEGLANEKEY', 'CROSSWALKKEY',\n",
    "       'HITPARKEDCAR']].copy()\n",
    "collisions_df.shape"
   ]
  },
  {
   "cell_type": "code",
   "execution_count": 11,
   "metadata": {},
   "outputs": [
    {
     "data": {
      "text/html": [
       "<div>\n",
       "<style scoped>\n",
       "    .dataframe tbody tr th:only-of-type {\n",
       "        vertical-align: middle;\n",
       "    }\n",
       "\n",
       "    .dataframe tbody tr th {\n",
       "        vertical-align: top;\n",
       "    }\n",
       "\n",
       "    .dataframe thead th {\n",
       "        text-align: right;\n",
       "    }\n",
       "</style>\n",
       "<table border=\"1\" class=\"dataframe\">\n",
       "  <thead>\n",
       "    <tr style=\"text-align: right;\">\n",
       "      <th></th>\n",
       "      <th>X</th>\n",
       "      <th>Y</th>\n",
       "      <th>OBJECTID</th>\n",
       "      <th>INCKEY</th>\n",
       "      <th>COLDETKEY</th>\n",
       "      <th>REPORTNO</th>\n",
       "      <th>STATUS</th>\n",
       "      <th>ADDRTYPE</th>\n",
       "      <th>INTKEY</th>\n",
       "      <th>LOCATION</th>\n",
       "      <th>...</th>\n",
       "      <th>ROADCOND</th>\n",
       "      <th>LIGHTCOND</th>\n",
       "      <th>PEDROWNOTGRNT</th>\n",
       "      <th>SDOTCOLNUM</th>\n",
       "      <th>SPEEDING</th>\n",
       "      <th>ST_COLCODE</th>\n",
       "      <th>ST_COLDESC</th>\n",
       "      <th>SEGLANEKEY</th>\n",
       "      <th>CROSSWALKKEY</th>\n",
       "      <th>HITPARKEDCAR</th>\n",
       "    </tr>\n",
       "  </thead>\n",
       "  <tbody>\n",
       "    <tr>\n",
       "      <th>0</th>\n",
       "      <td>1280915.029</td>\n",
       "      <td>197717.5345</td>\n",
       "      <td>1</td>\n",
       "      <td>29800</td>\n",
       "      <td>29800</td>\n",
       "      <td>1177964</td>\n",
       "      <td>Unmatched</td>\n",
       "      <td>Block</td>\n",
       "      <td>NaN</td>\n",
       "      <td>BEACON ER AVE S BETWEEN S PORTLAND ST AND S CH...</td>\n",
       "      <td>...</td>\n",
       "      <td>NaN</td>\n",
       "      <td>NaN</td>\n",
       "      <td>NaN</td>\n",
       "      <td>4315006.0</td>\n",
       "      <td>NaN</td>\n",
       "      <td>NaN</td>\n",
       "      <td>NaN</td>\n",
       "      <td>0</td>\n",
       "      <td>0</td>\n",
       "      <td>N</td>\n",
       "    </tr>\n",
       "    <tr>\n",
       "      <th>1</th>\n",
       "      <td>1265803.499</td>\n",
       "      <td>269008.0502</td>\n",
       "      <td>3</td>\n",
       "      <td>1358</td>\n",
       "      <td>1358</td>\n",
       "      <td>3568600</td>\n",
       "      <td>Matched</td>\n",
       "      <td>Block</td>\n",
       "      <td>NaN</td>\n",
       "      <td>GREENWOOD AVE N BETWEEN N 134TH ST AND N 136TH ST</td>\n",
       "      <td>...</td>\n",
       "      <td>Dry</td>\n",
       "      <td>Daylight</td>\n",
       "      <td>NaN</td>\n",
       "      <td>NaN</td>\n",
       "      <td>NaN</td>\n",
       "      <td>28</td>\n",
       "      <td>From opposite direction - one left turn - one ...</td>\n",
       "      <td>0</td>\n",
       "      <td>0</td>\n",
       "      <td>N</td>\n",
       "    </tr>\n",
       "  </tbody>\n",
       "</table>\n",
       "<p>2 rows × 40 columns</p>\n",
       "</div>"
      ],
      "text/plain": [
       "             X            Y  OBJECTID  INCKEY  COLDETKEY REPORTNO     STATUS  \\\n",
       "0  1280915.029  197717.5345         1   29800      29800  1177964  Unmatched   \n",
       "1  1265803.499  269008.0502         3    1358       1358  3568600    Matched   \n",
       "\n",
       "  ADDRTYPE  INTKEY                                           LOCATION  ...  \\\n",
       "0    Block     NaN  BEACON ER AVE S BETWEEN S PORTLAND ST AND S CH...  ...   \n",
       "1    Block     NaN  GREENWOOD AVE N BETWEEN N 134TH ST AND N 136TH ST  ...   \n",
       "\n",
       "  ROADCOND LIGHTCOND  PEDROWNOTGRNT SDOTCOLNUM SPEEDING  ST_COLCODE  \\\n",
       "0      NaN       NaN            NaN  4315006.0      NaN         NaN   \n",
       "1      Dry  Daylight            NaN        NaN      NaN          28   \n",
       "\n",
       "                                          ST_COLDESC  SEGLANEKEY  \\\n",
       "0                                                NaN           0   \n",
       "1  From opposite direction - one left turn - one ...           0   \n",
       "\n",
       "   CROSSWALKKEY  HITPARKEDCAR  \n",
       "0             0             N  \n",
       "1             0             N  \n",
       "\n",
       "[2 rows x 40 columns]"
      ]
     },
     "execution_count": 11,
     "metadata": {},
     "output_type": "execute_result"
    }
   ],
   "source": [
    "collisions_df.head(2)"
   ]
  },
  {
   "cell_type": "markdown",
   "metadata": {},
   "source": [
    "## Clean Data"
   ]
  },
  {
   "cell_type": "code",
   "execution_count": 12,
   "metadata": {},
   "outputs": [
    {
     "name": "stdout",
     "output_type": "stream",
     "text": [
      "Loaded data dimensions (shape) (213674, 40)\n"
     ]
    },
    {
     "data": {
      "text/plain": [
       "X                  float64\n",
       "Y                  float64\n",
       "OBJECTID             int64\n",
       "INCKEY               int64\n",
       "COLDETKEY            int64\n",
       "REPORTNO            object\n",
       "STATUS              object\n",
       "ADDRTYPE            object\n",
       "INTKEY             float64\n",
       "LOCATION            object\n",
       "EXCEPTRSNCODE       object\n",
       "EXCEPTRSNDESC       object\n",
       "severity             int32\n",
       "SEVERITYDESC        object\n",
       "COLLISIONTYPE       object\n",
       "PERSONCOUNT          int64\n",
       "PEDCOUNT             int64\n",
       "PEDCYLCOUNT          int64\n",
       "VEHCOUNT             int64\n",
       "INJURIES             int64\n",
       "SERIOUSINJURIES      int64\n",
       "FATALITIES           int64\n",
       "INCDATE             object\n",
       "INCDTTM             object\n",
       "JUNCTIONTYPE        object\n",
       "SDOT_COLCODE       float64\n",
       "SDOT_COLDESC        object\n",
       "INATTENTIONIND      object\n",
       "UNDERINFL           object\n",
       "WEATHER             object\n",
       "ROADCOND            object\n",
       "LIGHTCOND           object\n",
       "PEDROWNOTGRNT       object\n",
       "SDOTCOLNUM         float64\n",
       "SPEEDING            object\n",
       "ST_COLCODE          object\n",
       "ST_COLDESC          object\n",
       "SEGLANEKEY           int64\n",
       "CROSSWALKKEY         int64\n",
       "HITPARKEDCAR        object\n",
       "dtype: object"
      ]
     },
     "execution_count": 12,
     "metadata": {},
     "output_type": "execute_result"
    }
   ],
   "source": [
    "print('Loaded data dimensions (shape)', collisions_df.shape)\n",
    "collisions_df.dtypes"
   ]
  },
  {
   "cell_type": "markdown",
   "metadata": {},
   "source": [
    "### Item: SEVERITYCODE\n",
    "This code corresponds to the severity of the collision. Only two codes are represented in the data ***(1=property damage and 2=injury)***. This code can be used as the target labels for the purpose of machine learning (ML). The redundundant SEVERITYCODE.1 should be dropped.\n",
    "<p/>\n",
    "\n",
    "### Item: X, Y\n",
    "These are coordinates, ***where X=longitude (magnitudes<180) and Y=latitude (magnitudes<90)*** - these can be renamed used instead of the **LOCATION**, which is a description of the general location of the collision. So LOCATION should be dropped.\n",
    "<p/>\n",
    "\n",
    "### Initial List of Reduncant Items: (***based on insights drawn from the metadata document***)\n",
    "OBJECTID, INCKEY, COLDETKEY, REPORTNO, INTKEY, EXCEPTRSNCODE, EXCEPTRSNDESC, SEVERITYDESC (***deferred***), INCDATE (***prefer INCDTTM***), SDOT_COLDESC, ST_COLDESC"
   ]
  },
  {
   "cell_type": "code",
   "execution_count": 13,
   "metadata": {},
   "outputs": [],
   "source": [
    "#colns_to_drop = ['Unnamed: 0', 'LOCATION', 'OBJECTID', 'INCKEY', 'COLDETKEY', 'REPORTNO', 'INTKEY', 'EXCEPTRSNCODE',\\\n",
    "#                 'EXCEPTRSNDESC', 'SEVERITYDESC', 'INCDATE', 'SDOT_COLDESC', 'ST_COLDESC']\n",
    "#collisions_df.drop(columns=colns_to_drop, inplace=True)"
   ]
  },
  {
   "cell_type": "code",
   "execution_count": 14,
   "metadata": {},
   "outputs": [
    {
     "data": {
      "text/html": [
       "<div>\n",
       "<style scoped>\n",
       "    .dataframe tbody tr th:only-of-type {\n",
       "        vertical-align: middle;\n",
       "    }\n",
       "\n",
       "    .dataframe tbody tr th {\n",
       "        vertical-align: top;\n",
       "    }\n",
       "\n",
       "    .dataframe thead th {\n",
       "        text-align: right;\n",
       "    }\n",
       "</style>\n",
       "<table border=\"1\" class=\"dataframe\">\n",
       "  <thead>\n",
       "    <tr style=\"text-align: right;\">\n",
       "      <th></th>\n",
       "      <th>longitude</th>\n",
       "      <th>latitude</th>\n",
       "      <th>OBJECTID</th>\n",
       "      <th>INCKEY</th>\n",
       "      <th>COLDETKEY</th>\n",
       "      <th>REPORTNO</th>\n",
       "      <th>STATUS</th>\n",
       "      <th>ADDRTYPE</th>\n",
       "      <th>INTKEY</th>\n",
       "      <th>LOCATION</th>\n",
       "      <th>...</th>\n",
       "      <th>ROADCOND</th>\n",
       "      <th>LIGHTCOND</th>\n",
       "      <th>PEDROWNOTGRNT</th>\n",
       "      <th>SDOTCOLNUM</th>\n",
       "      <th>SPEEDING</th>\n",
       "      <th>ST_COLCODE</th>\n",
       "      <th>ST_COLDESC</th>\n",
       "      <th>SEGLANEKEY</th>\n",
       "      <th>CROSSWALKKEY</th>\n",
       "      <th>HITPARKEDCAR</th>\n",
       "    </tr>\n",
       "  </thead>\n",
       "  <tbody>\n",
       "    <tr>\n",
       "      <th>0</th>\n",
       "      <td>1280915.029</td>\n",
       "      <td>197717.5345</td>\n",
       "      <td>1</td>\n",
       "      <td>29800</td>\n",
       "      <td>29800</td>\n",
       "      <td>1177964</td>\n",
       "      <td>Unmatched</td>\n",
       "      <td>Block</td>\n",
       "      <td>NaN</td>\n",
       "      <td>BEACON ER AVE S BETWEEN S PORTLAND ST AND S CH...</td>\n",
       "      <td>...</td>\n",
       "      <td>NaN</td>\n",
       "      <td>NaN</td>\n",
       "      <td>NaN</td>\n",
       "      <td>4315006.0</td>\n",
       "      <td>NaN</td>\n",
       "      <td>NaN</td>\n",
       "      <td>NaN</td>\n",
       "      <td>0</td>\n",
       "      <td>0</td>\n",
       "      <td>N</td>\n",
       "    </tr>\n",
       "  </tbody>\n",
       "</table>\n",
       "<p>1 rows × 40 columns</p>\n",
       "</div>"
      ],
      "text/plain": [
       "     longitude     latitude  OBJECTID  INCKEY  COLDETKEY REPORTNO     STATUS  \\\n",
       "0  1280915.029  197717.5345         1   29800      29800  1177964  Unmatched   \n",
       "\n",
       "  ADDRTYPE  INTKEY                                           LOCATION  ...  \\\n",
       "0    Block     NaN  BEACON ER AVE S BETWEEN S PORTLAND ST AND S CH...  ...   \n",
       "\n",
       "  ROADCOND LIGHTCOND  PEDROWNOTGRNT SDOTCOLNUM SPEEDING  ST_COLCODE  \\\n",
       "0      NaN       NaN            NaN  4315006.0      NaN         NaN   \n",
       "\n",
       "   ST_COLDESC  SEGLANEKEY  CROSSWALKKEY  HITPARKEDCAR  \n",
       "0         NaN           0             0             N  \n",
       "\n",
       "[1 rows x 40 columns]"
      ]
     },
     "execution_count": 14,
     "metadata": {},
     "output_type": "execute_result"
    }
   ],
   "source": [
    "collisions_df.rename(columns={'X': 'longitude', 'Y': 'latitude'}, inplace=True)\n",
    "collisions_df.head(1)"
   ]
  },
  {
   "cell_type": "markdown",
   "metadata": {},
   "source": [
    "# Business Understanding\n",
    "The objective is to leverage the accident data set provided to predict the different accidents' severity (the target label). The data set provides only two classes of severity (property damage=1, injury=2) as indicated by the SEVERITYCODE column. This is therefore, a binary classification problem.<p/>\n",
    "Clearly, there are implications for predicting the severity class of each collision (either injury or property damage). The assumption is that an injury from a collision will indicate that the any medical assistance team will need to come prepared to possibly safe lifes or at least improve the chances of survival. The emergency team must come prepared to improve survival rates - and they may need to ask preparatory questions in preparation as they approach the collision location, etc. Therefore, false negatives (for the injury class) could have major implications. A false positive simply means that the emergency team would come prepared for injury that in all likelihood does did not actually occur - the cost implications for this scenary presumably are much lower and can be considered manageable.<p/>\n",
    "On the other hand, the issue of property damage may not have such life-threatening implications compared to collision injury."
   ]
  },
  {
   "cell_type": "markdown",
   "metadata": {},
   "source": [
    "### Revisit the column data types"
   ]
  },
  {
   "cell_type": "code",
   "execution_count": 15,
   "metadata": {},
   "outputs": [
    {
     "data": {
      "text/plain": [
       "longitude          float64\n",
       "latitude           float64\n",
       "OBJECTID             int64\n",
       "INCKEY               int64\n",
       "COLDETKEY            int64\n",
       "REPORTNO            object\n",
       "STATUS              object\n",
       "ADDRTYPE            object\n",
       "INTKEY             float64\n",
       "LOCATION            object\n",
       "EXCEPTRSNCODE       object\n",
       "EXCEPTRSNDESC       object\n",
       "severity             int32\n",
       "SEVERITYDESC        object\n",
       "COLLISIONTYPE       object\n",
       "PERSONCOUNT          int64\n",
       "PEDCOUNT             int64\n",
       "PEDCYLCOUNT          int64\n",
       "VEHCOUNT             int64\n",
       "INJURIES             int64\n",
       "SERIOUSINJURIES      int64\n",
       "FATALITIES           int64\n",
       "INCDATE             object\n",
       "INCDTTM             object\n",
       "JUNCTIONTYPE        object\n",
       "SDOT_COLCODE       float64\n",
       "SDOT_COLDESC        object\n",
       "INATTENTIONIND      object\n",
       "UNDERINFL           object\n",
       "WEATHER             object\n",
       "ROADCOND            object\n",
       "LIGHTCOND           object\n",
       "PEDROWNOTGRNT       object\n",
       "SDOTCOLNUM         float64\n",
       "SPEEDING            object\n",
       "ST_COLCODE          object\n",
       "ST_COLDESC          object\n",
       "SEGLANEKEY           int64\n",
       "CROSSWALKKEY         int64\n",
       "HITPARKEDCAR        object\n",
       "dtype: object"
      ]
     },
     "execution_count": 15,
     "metadata": {},
     "output_type": "execute_result"
    }
   ],
   "source": [
    "collisions_df.dtypes"
   ]
  },
  {
   "cell_type": "markdown",
   "metadata": {},
   "source": [
    "<hr color= \"red\"/> "
   ]
  },
  {
   "cell_type": "markdown",
   "metadata": {},
   "source": [
    "### Data Visualization and Pre-processing\n",
    "Based on the target labels, let’s see how many of each class are in the data set (is it balanced or unbalanced)"
   ]
  },
  {
   "cell_type": "code",
   "execution_count": 16,
   "metadata": {},
   "outputs": [
    {
     "data": {
      "text/plain": [
       "0    152696\n",
       "1     60978\n",
       "Name: severity, dtype: int64"
      ]
     },
     "execution_count": 16,
     "metadata": {},
     "output_type": "execute_result"
    }
   ],
   "source": [
    "collisions_df['severity'].value_counts()"
   ]
  },
  {
   "cell_type": "markdown",
   "metadata": {},
   "source": [
    "**Summary:**<br/>\n",
    "    136485 collisions are property damage (1) and 58188 (injury) ==> the class distribution is unbalanced. ***The classifier performance will be better evaluated with the F1-Score metric instead of accuracy, as it is the harmonic mean of the recall and precision***.<p/>\n",
    "    According to the following article, <a href=\"https://medium.com/analytics-vidhya/accuracy-vs-f1-score-6258237beca2\">Accuracy vs. F1-Score</a> by Purva Huilgol, there are critical differences between accuracy and F1-Score:<br/>\n",
    "    -- Accuracy is used when the True Positives and True negatives are more important while F1-score is used when the False Negatives and False Positives are crucial<br/>\n",
    "    -- Accuracy can be used when the class distribution is similar while F1-score is a better metric when there are imbalanced classes as in the above case<br/>\n",
    "    -- In most real-life classification problems, imbalanced class distribution exists and thus F1-score is a better metric to evaluate our model on<br/>"
   ]
  },
  {
   "cell_type": "markdown",
   "metadata": {},
   "source": [
    "Plot some columns to get a better understanding of the data set:"
   ]
  },
  {
   "cell_type": "markdown",
   "metadata": {},
   "source": [
    "### Convert to date time object "
   ]
  },
  {
   "cell_type": "code",
   "execution_count": 17,
   "metadata": {},
   "outputs": [
    {
     "data": {
      "text/plain": [
       "0   2004-11-10 00:00:00\n",
       "1   2013-04-02 15:10:00\n",
       "2   2007-03-06 00:00:00\n",
       "3   2006-05-17 16:56:00\n",
       "4   2013-03-30 09:43:00\n",
       "Name: INCDTTM, dtype: datetime64[ns]"
      ]
     },
     "execution_count": 17,
     "metadata": {},
     "output_type": "execute_result"
    }
   ],
   "source": [
    "collisions_df['INCDTTM'] = pd.to_datetime(collisions_df['INCDTTM'])\n",
    "collisions_df['INCDTTM'].head()"
   ]
  },
  {
   "cell_type": "markdown",
   "metadata": {},
   "source": [
    "### Lets look at the hour of the day that collisions occur\n",
    "Will need to do some feature engineering to improve the predictability of the models."
   ]
  },
  {
   "cell_type": "code",
   "execution_count": 18,
   "metadata": {},
   "outputs": [
    {
     "data": {
      "image/png": "[encoded data removed]",
      "text/plain": [
       "<Figure size 432x216 with 2 Axes>"
      ]
     },
     "metadata": {
      "needs_background": "light"
     },
     "output_type": "display_data"
    }
   ],
   "source": [
    "collisions_df['hourofday'] = collisions_df['INCDTTM'].dt.hour\n",
    "bins = np.linspace(collisions_df.hourofday.min(), collisions_df.hourofday.max(), 24)\n",
    "g = sns.FacetGrid(collisions_df, col=\"STATUS\", hue=\"severity\", palette=\"Set1\", col_wrap=2)\n",
    "g.map(plt.hist, 'hourofday', bins=bins, ec=\"k\")\n",
    "g.axes[-1].legend()\n",
    "plt.show()"
   ]
  },
  {
   "cell_type": "markdown",
   "metadata": {},
   "source": [
    "It appears that there is an unusual volume of collisions in the first hour of the day. So we can use feature binarization to set a threshold value less than hour 12 or morning hours. But more generally, the collisions and injuries increase during the day through the afternoon - so it depends on the time of the day."
   ]
  },
  {
   "cell_type": "code",
   "execution_count": 19,
   "metadata": {},
   "outputs": [
    {
     "data": {
      "text/html": [
       "<div>\n",
       "<style scoped>\n",
       "    .dataframe tbody tr th:only-of-type {\n",
       "        vertical-align: middle;\n",
       "    }\n",
       "\n",
       "    .dataframe tbody tr th {\n",
       "        vertical-align: top;\n",
       "    }\n",
       "\n",
       "    .dataframe thead th {\n",
       "        text-align: right;\n",
       "    }\n",
       "</style>\n",
       "<table border=\"1\" class=\"dataframe\">\n",
       "  <thead>\n",
       "    <tr style=\"text-align: right;\">\n",
       "      <th></th>\n",
       "      <th>INCDTTM</th>\n",
       "      <th>hourofday</th>\n",
       "      <th>morning</th>\n",
       "    </tr>\n",
       "  </thead>\n",
       "  <tbody>\n",
       "    <tr>\n",
       "      <th>0</th>\n",
       "      <td>2004-11-10 00:00:00</td>\n",
       "      <td>0</td>\n",
       "      <td>0</td>\n",
       "    </tr>\n",
       "    <tr>\n",
       "      <th>1</th>\n",
       "      <td>2013-04-02 15:10:00</td>\n",
       "      <td>15</td>\n",
       "      <td>1</td>\n",
       "    </tr>\n",
       "    <tr>\n",
       "      <th>2</th>\n",
       "      <td>2007-03-06 00:00:00</td>\n",
       "      <td>0</td>\n",
       "      <td>0</td>\n",
       "    </tr>\n",
       "    <tr>\n",
       "      <th>3</th>\n",
       "      <td>2006-05-17 16:56:00</td>\n",
       "      <td>16</td>\n",
       "      <td>1</td>\n",
       "    </tr>\n",
       "    <tr>\n",
       "      <th>4</th>\n",
       "      <td>2013-03-30 09:43:00</td>\n",
       "      <td>9</td>\n",
       "      <td>0</td>\n",
       "    </tr>\n",
       "  </tbody>\n",
       "</table>\n",
       "</div>"
      ],
      "text/plain": [
       "              INCDTTM  hourofday  morning\n",
       "0 2004-11-10 00:00:00          0        0\n",
       "1 2013-04-02 15:10:00         15        1\n",
       "2 2007-03-06 00:00:00          0        0\n",
       "3 2006-05-17 16:56:00         16        1\n",
       "4 2013-03-30 09:43:00          9        0"
      ]
     },
     "execution_count": 19,
     "metadata": {},
     "output_type": "execute_result"
    }
   ],
   "source": [
    "morning_threshold = 12\n",
    "collisions_df['morning'] = collisions_df['hourofday'].apply(lambda x: 1 if (x>morning_threshold)  else 0)\n",
    "collisions_df[['INCDTTM', 'hourofday', 'morning']].head()"
   ]
  },
  {
   "cell_type": "markdown",
   "metadata": {},
   "source": [
    "<hr color= \"red\"/> "
   ]
  },
  {
   "cell_type": "markdown",
   "metadata": {},
   "source": [
    "### Lets look at collisions with injuries (*INJURIES*)"
   ]
  },
  {
   "cell_type": "code",
   "execution_count": 20,
   "metadata": {},
   "outputs": [
    {
     "name": "stdout",
     "output_type": "stream",
     "text": [
      "Bins:  [ 0.          8.66666667 17.33333333 26.         34.66666667 43.33333333\n",
      " 52.         60.66666667 69.33333333 78.        ]\n"
     ]
    },
    {
     "data": {
      "image/png": "[encoded data removed]",
      "text/plain": [
       "<Figure size 432x216 with 2 Axes>"
      ]
     },
     "metadata": {
      "needs_background": "light"
     },
     "output_type": "display_data"
    }
   ],
   "source": [
    "bins = np.linspace(collisions_df.INJURIES.min(), collisions_df.INJURIES.max(), 10)\n",
    "print('Bins: ', bins)\n",
    "g = sns.FacetGrid(collisions_df, col=\"STATUS\", hue=\"severity\", palette=\"Set1\", col_wrap=2)\n",
    "g.map(plt.hist, 'INJURIES', bins=bins, ec=\"k\")\n",
    "g.axes[-1].legend()\n",
    "plt.show()"
   ]
  },
  {
   "cell_type": "markdown",
   "metadata": {},
   "source": [
    "Injuries are largely below 10 (all above 10 are considered 10 or above)"
   ]
  },
  {
   "cell_type": "code",
   "execution_count": 21,
   "metadata": {},
   "outputs": [],
   "source": [
    "collisions_df['INJURIES'] = collisions_df['INJURIES'].apply(lambda x: x if (x<10) else 10)"
   ]
  },
  {
   "cell_type": "code",
   "execution_count": 22,
   "metadata": {},
   "outputs": [
    {
     "data": {
      "text/plain": [
       "0    1\n",
       "1    1\n",
       "2    1\n",
       "3    1\n",
       "4    1\n",
       "Name: INJURIES, dtype: int64"
      ]
     },
     "execution_count": 22,
     "metadata": {},
     "output_type": "execute_result"
    }
   ],
   "source": [
    "collisions_df['INJURIES'] = collisions_df['INJURIES'].apply(lambda x: np.digitize(x, bins))\n",
    "collisions_df['INJURIES'].head()"
   ]
  },
  {
   "cell_type": "markdown",
   "metadata": {},
   "source": [
    "### Lets look at collisions with serious injuries (*SERIOUSINJURIES*)"
   ]
  },
  {
   "cell_type": "code",
   "execution_count": 23,
   "metadata": {},
   "outputs": [
    {
     "name": "stdout",
     "output_type": "stream",
     "text": [
      "Bins:  [ 0.   10.25 20.5  30.75 41.  ]\n"
     ]
    },
    {
     "data": {
      "image/png": "[encoded data removed]",
      "text/plain": [
       "<Figure size 432x216 with 2 Axes>"
      ]
     },
     "metadata": {
      "needs_background": "light"
     },
     "output_type": "display_data"
    }
   ],
   "source": [
    "bins = np.linspace(collisions_df.SERIOUSINJURIES.min(), collisions_df.SERIOUSINJURIES.max(), 5)\n",
    "print('Bins: ', bins)\n",
    "g = sns.FacetGrid(collisions_df, col=\"STATUS\", hue=\"severity\", palette=\"Set1\", col_wrap=2)\n",
    "g.map(plt.hist, 'SERIOUSINJURIES', bins=bins, ec=\"k\")\n",
    "g.axes[-1].legend()\n",
    "plt.show()"
   ]
  },
  {
   "cell_type": "markdown",
   "metadata": {},
   "source": [
    "Serious injuries are largely below 5 (all above 5 are considered 5 or above)"
   ]
  },
  {
   "cell_type": "code",
   "execution_count": 24,
   "metadata": {},
   "outputs": [],
   "source": [
    "collisions_df['SERIOUSINJURIES'] = collisions_df['SERIOUSINJURIES'].apply(lambda x: x if (x<5) else 5)"
   ]
  },
  {
   "cell_type": "code",
   "execution_count": 25,
   "metadata": {},
   "outputs": [
    {
     "data": {
      "text/plain": [
       "0    1\n",
       "1    1\n",
       "2    1\n",
       "3    1\n",
       "4    1\n",
       "Name: SERIOUSINJURIES, dtype: int64"
      ]
     },
     "execution_count": 25,
     "metadata": {},
     "output_type": "execute_result"
    }
   ],
   "source": [
    "collisions_df['SERIOUSINJURIES'] = collisions_df['SERIOUSINJURIES'].apply(lambda x: np.digitize(x, bins))\n",
    "collisions_df['SERIOUSINJURIES'].head()"
   ]
  },
  {
   "cell_type": "markdown",
   "metadata": {},
   "source": [
    "### Lets look at collisions with fatalities (*FATALITIES*)"
   ]
  },
  {
   "cell_type": "code",
   "execution_count": 26,
   "metadata": {},
   "outputs": [
    {
     "name": "stdout",
     "output_type": "stream",
     "text": [
      "Bins:  [0.   1.25 2.5  3.75 5.  ]\n"
     ]
    },
    {
     "data": {
      "image/png": "[encoded data removed]",
      "text/plain": [
       "<Figure size 432x216 with 2 Axes>"
      ]
     },
     "metadata": {
      "needs_background": "light"
     },
     "output_type": "display_data"
    }
   ],
   "source": [
    "bins = np.linspace(collisions_df.FATALITIES.min(), collisions_df.FATALITIES.max(), 5)\n",
    "print('Bins: ', bins)\n",
    "g = sns.FacetGrid(collisions_df, col=\"STATUS\", hue=\"severity\", palette=\"Set1\", col_wrap=2)\n",
    "g.map(plt.hist, 'FATALITIES', bins=bins, ec=\"k\")\n",
    "g.axes[-1].legend()\n",
    "plt.show()"
   ]
  },
  {
   "cell_type": "markdown",
   "metadata": {},
   "source": [
    "Serious injuries are largely below 2 (all above 2 are considered 2 or above)"
   ]
  },
  {
   "cell_type": "code",
   "execution_count": 27,
   "metadata": {},
   "outputs": [],
   "source": [
    "collisions_df['FATALITIES'] = collisions_df['FATALITIES'].apply(lambda x: x if (x<2) else 2)"
   ]
  },
  {
   "cell_type": "code",
   "execution_count": 28,
   "metadata": {},
   "outputs": [
    {
     "data": {
      "text/plain": [
       "0    1\n",
       "1    1\n",
       "2    1\n",
       "3    1\n",
       "4    1\n",
       "Name: FATALITIES, dtype: int64"
      ]
     },
     "execution_count": 28,
     "metadata": {},
     "output_type": "execute_result"
    }
   ],
   "source": [
    "collisions_df['FATALITIES'] = collisions_df['FATALITIES'].apply(lambda x: np.digitize(x, bins))\n",
    "collisions_df['FATALITIES'].head()"
   ]
  },
  {
   "cell_type": "markdown",
   "metadata": {},
   "source": [
    "## Convert Categorical features to numerical values"
   ]
  },
  {
   "cell_type": "markdown",
   "metadata": {},
   "source": [
    "Lets look at collision status:\n",
    "*Matched possibly refers to matched pairs or collisions involving two vehicles, see this study in the <a href=\"https://academic.oup.com/aje/article/167/5/546/211795\">American Journal of Epidemiology</a>.*"
   ]
  },
  {
   "cell_type": "code",
   "execution_count": 29,
   "metadata": {},
   "outputs": [
    {
     "data": {
      "text/plain": [
       "STATUS     severity\n",
       "Matched    0           0.683555\n",
       "           1           0.316445\n",
       "Unmatched  0           0.958786\n",
       "           1           0.041214\n",
       "Name: severity, dtype: float64"
      ]
     },
     "execution_count": 29,
     "metadata": {},
     "output_type": "execute_result"
    }
   ],
   "source": [
    "collisions_df.groupby(['STATUS'])['severity'].value_counts(normalize=True)"
   ]
  },
  {
   "cell_type": "markdown",
   "metadata": {},
   "source": [
    "30% of matched collisions result in injury compared to 21% of unmatched collisions - not a huge difference but significant"
   ]
  },
  {
   "cell_type": "markdown",
   "metadata": {},
   "source": [
    "Lets convert matched to 0 and unmatched to 1:"
   ]
  },
  {
   "cell_type": "code",
   "execution_count": 30,
   "metadata": {},
   "outputs": [],
   "source": [
    "collisions_df['STATUS'].replace(to_replace=['Matched','Unmatched'], value=[0, 1],inplace=True)"
   ]
  },
  {
   "cell_type": "markdown",
   "metadata": {},
   "source": [
    "Lets look at inattention: *(reasonable default seems to be 'N')*"
   ]
  },
  {
   "cell_type": "code",
   "execution_count": 31,
   "metadata": {},
   "outputs": [],
   "source": [
    "# first replace all missing data with 'N' - seems a reasonable default\n",
    "collisions_df['INATTENTIONIND'].fillna('N', inplace=True)\n",
    "collisions_df['INATTENTIONIND'].replace(to_replace=['N','Y'], value=[0, 1],inplace=True)"
   ]
  },
  {
   "cell_type": "code",
   "execution_count": 32,
   "metadata": {},
   "outputs": [
    {
     "data": {
      "text/plain": [
       "INATTENTIONIND  severity\n",
       "0               0           0.726335\n",
       "                1           0.273665\n",
       "1               0           0.641636\n",
       "                1           0.358364\n",
       "Name: severity, dtype: float64"
      ]
     },
     "execution_count": 32,
     "metadata": {},
     "output_type": "execute_result"
    }
   ],
   "source": [
    "collisions_df.groupby(['INATTENTIONIND'])['severity'].value_counts(normalize=True)"
   ]
  },
  {
   "cell_type": "markdown",
   "metadata": {},
   "source": [
    "In 35% of collisions inattention = Y result in injury, compared to 29% where inattention = N.<br/>"
   ]
  },
  {
   "cell_type": "markdown",
   "metadata": {},
   "source": [
    "Lets look at under the influence: *(0=N, 1=Y)*"
   ]
  },
  {
   "cell_type": "code",
   "execution_count": 33,
   "metadata": {},
   "outputs": [],
   "source": [
    "# first replace all missing data with 'N' or 0 - seems a reasonable default\n",
    "collisions_df['UNDERINFL'].fillna('N', inplace=True)\n",
    "collisions_df['UNDERINFL'].replace(to_replace=['0', '1','N','Y'], value=[0, 1, 0, 1],inplace=True)\n",
    "collisions_df['UNDERINFL'] = collisions_df['UNDERINFL'].astype(int)"
   ]
  },
  {
   "cell_type": "code",
   "execution_count": 34,
   "metadata": {},
   "outputs": [
    {
     "data": {
      "text/plain": [
       "UNDERINFL  severity\n",
       "0          0           0.720981\n",
       "           1           0.279019\n",
       "1          0           0.576045\n",
       "           1           0.423955\n",
       "Name: severity, dtype: float64"
      ]
     },
     "execution_count": 34,
     "metadata": {},
     "output_type": "execute_result"
    }
   ],
   "source": [
    "collisions_df.groupby(['UNDERINFL'])['severity'].value_counts(normalize=True)"
   ]
  },
  {
   "cell_type": "markdown",
   "metadata": {},
   "source": [
    "In 39% of collisions with driver under the influence resulted in injury, compared to 29% with driver not under the influence.<br/>"
   ]
  },
  {
   "cell_type": "markdown",
   "metadata": {},
   "source": [
    "Lets look at speeding: *(0=N, 1=Y)*"
   ]
  },
  {
   "cell_type": "code",
   "execution_count": 35,
   "metadata": {},
   "outputs": [],
   "source": [
    "# first replace all missing data with 'N' or 0 - seems a reasonable default\n",
    "collisions_df['SPEEDING'].fillna('N', inplace=True)\n",
    "collisions_df['SPEEDING'].replace(to_replace=['N','Y'], value=[0, 1],inplace=True)\n",
    "collisions_df['SPEEDING'] = collisions_df['SPEEDING'].astype(int)"
   ]
  },
  {
   "cell_type": "code",
   "execution_count": 36,
   "metadata": {},
   "outputs": [
    {
     "data": {
      "text/plain": [
       "SPEEDING  severity\n",
       "0         0           0.720330\n",
       "          1           0.279670\n",
       "1         0           0.588926\n",
       "          1           0.411074\n",
       "Name: severity, dtype: float64"
      ]
     },
     "execution_count": 36,
     "metadata": {},
     "output_type": "execute_result"
    }
   ],
   "source": [
    "collisions_df.groupby(['SPEEDING'])['severity'].value_counts(normalize=True)"
   ]
  },
  {
   "cell_type": "markdown",
   "metadata": {},
   "source": [
    "In 38% of collisions with driver speeding resulted in injury, compared to 29% with driver not speeding.<br/>"
   ]
  },
  {
   "cell_type": "markdown",
   "metadata": {},
   "source": [
    "<hr color= \"red\"/> "
   ]
  },
  {
   "cell_type": "markdown",
   "metadata": {},
   "source": [
    "At this point, check the status of the dataframe:"
   ]
  },
  {
   "cell_type": "code",
   "execution_count": 37,
   "metadata": {},
   "outputs": [
    {
     "data": {
      "text/html": [
       "<div>\n",
       "<style scoped>\n",
       "    .dataframe tbody tr th:only-of-type {\n",
       "        vertical-align: middle;\n",
       "    }\n",
       "\n",
       "    .dataframe tbody tr th {\n",
       "        vertical-align: top;\n",
       "    }\n",
       "\n",
       "    .dataframe thead th {\n",
       "        text-align: right;\n",
       "    }\n",
       "</style>\n",
       "<table border=\"1\" class=\"dataframe\">\n",
       "  <thead>\n",
       "    <tr style=\"text-align: right;\">\n",
       "      <th></th>\n",
       "      <th>longitude</th>\n",
       "      <th>latitude</th>\n",
       "      <th>OBJECTID</th>\n",
       "      <th>INCKEY</th>\n",
       "      <th>COLDETKEY</th>\n",
       "      <th>REPORTNO</th>\n",
       "      <th>STATUS</th>\n",
       "      <th>ADDRTYPE</th>\n",
       "      <th>INTKEY</th>\n",
       "      <th>LOCATION</th>\n",
       "      <th>...</th>\n",
       "      <th>PEDROWNOTGRNT</th>\n",
       "      <th>SDOTCOLNUM</th>\n",
       "      <th>SPEEDING</th>\n",
       "      <th>ST_COLCODE</th>\n",
       "      <th>ST_COLDESC</th>\n",
       "      <th>SEGLANEKEY</th>\n",
       "      <th>CROSSWALKKEY</th>\n",
       "      <th>HITPARKEDCAR</th>\n",
       "      <th>hourofday</th>\n",
       "      <th>morning</th>\n",
       "    </tr>\n",
       "  </thead>\n",
       "  <tbody>\n",
       "    <tr>\n",
       "      <th>0</th>\n",
       "      <td>1280915.029</td>\n",
       "      <td>197717.5345</td>\n",
       "      <td>1</td>\n",
       "      <td>29800</td>\n",
       "      <td>29800</td>\n",
       "      <td>1177964</td>\n",
       "      <td>1</td>\n",
       "      <td>Block</td>\n",
       "      <td>NaN</td>\n",
       "      <td>BEACON ER AVE S BETWEEN S PORTLAND ST AND S CH...</td>\n",
       "      <td>...</td>\n",
       "      <td>NaN</td>\n",
       "      <td>4315006.0</td>\n",
       "      <td>0</td>\n",
       "      <td>NaN</td>\n",
       "      <td>NaN</td>\n",
       "      <td>0</td>\n",
       "      <td>0</td>\n",
       "      <td>N</td>\n",
       "      <td>0</td>\n",
       "      <td>0</td>\n",
       "    </tr>\n",
       "    <tr>\n",
       "      <th>1</th>\n",
       "      <td>1265803.499</td>\n",
       "      <td>269008.0502</td>\n",
       "      <td>3</td>\n",
       "      <td>1358</td>\n",
       "      <td>1358</td>\n",
       "      <td>3568600</td>\n",
       "      <td>0</td>\n",
       "      <td>Block</td>\n",
       "      <td>NaN</td>\n",
       "      <td>GREENWOOD AVE N BETWEEN N 134TH ST AND N 136TH ST</td>\n",
       "      <td>...</td>\n",
       "      <td>NaN</td>\n",
       "      <td>NaN</td>\n",
       "      <td>0</td>\n",
       "      <td>28</td>\n",
       "      <td>From opposite direction - one left turn - one ...</td>\n",
       "      <td>0</td>\n",
       "      <td>0</td>\n",
       "      <td>N</td>\n",
       "      <td>15</td>\n",
       "      <td>1</td>\n",
       "    </tr>\n",
       "    <tr>\n",
       "      <th>2</th>\n",
       "      <td>1274388.698</td>\n",
       "      <td>229235.9509</td>\n",
       "      <td>4</td>\n",
       "      <td>70700</td>\n",
       "      <td>70700</td>\n",
       "      <td>2806057</td>\n",
       "      <td>0</td>\n",
       "      <td>Block</td>\n",
       "      <td>NaN</td>\n",
       "      <td>E DENNY WAY BETWEEN 11TH AVE AND 12TH AVE</td>\n",
       "      <td>...</td>\n",
       "      <td>NaN</td>\n",
       "      <td>7065007.0</td>\n",
       "      <td>0</td>\n",
       "      <td>32</td>\n",
       "      <td>One parked--one moving</td>\n",
       "      <td>0</td>\n",
       "      <td>0</td>\n",
       "      <td>N</td>\n",
       "      <td>0</td>\n",
       "      <td>0</td>\n",
       "    </tr>\n",
       "    <tr>\n",
       "      <th>3</th>\n",
       "      <td>1263093.464</td>\n",
       "      <td>200192.5349</td>\n",
       "      <td>5</td>\n",
       "      <td>53600</td>\n",
       "      <td>53600</td>\n",
       "      <td>2127310</td>\n",
       "      <td>0</td>\n",
       "      <td>Block</td>\n",
       "      <td>NaN</td>\n",
       "      <td>DELRIDGE WAY SW BETWEEN SW MYRTLE ST AND SW OR...</td>\n",
       "      <td>...</td>\n",
       "      <td>NaN</td>\n",
       "      <td>6137017.0</td>\n",
       "      <td>0</td>\n",
       "      <td>14</td>\n",
       "      <td>From same direction - both going straight - on...</td>\n",
       "      <td>0</td>\n",
       "      <td>0</td>\n",
       "      <td>N</td>\n",
       "      <td>16</td>\n",
       "      <td>1</td>\n",
       "    </tr>\n",
       "    <tr>\n",
       "      <th>4</th>\n",
       "      <td>1256925.333</td>\n",
       "      <td>209863.6627</td>\n",
       "      <td>6</td>\n",
       "      <td>1197</td>\n",
       "      <td>1197</td>\n",
       "      <td>3553269</td>\n",
       "      <td>0</td>\n",
       "      <td>Intersection</td>\n",
       "      <td>31893.0</td>\n",
       "      <td>CALIFORNIA AVE SW AND SW GENESEE ST</td>\n",
       "      <td>...</td>\n",
       "      <td>NaN</td>\n",
       "      <td>NaN</td>\n",
       "      <td>0</td>\n",
       "      <td>10</td>\n",
       "      <td>Entering at angle</td>\n",
       "      <td>0</td>\n",
       "      <td>0</td>\n",
       "      <td>N</td>\n",
       "      <td>9</td>\n",
       "      <td>0</td>\n",
       "    </tr>\n",
       "  </tbody>\n",
       "</table>\n",
       "<p>5 rows × 42 columns</p>\n",
       "</div>"
      ],
      "text/plain": [
       "     longitude     latitude  OBJECTID  INCKEY  COLDETKEY REPORTNO  STATUS  \\\n",
       "0  1280915.029  197717.5345         1   29800      29800  1177964       1   \n",
       "1  1265803.499  269008.0502         3    1358       1358  3568600       0   \n",
       "2  1274388.698  229235.9509         4   70700      70700  2806057       0   \n",
       "3  1263093.464  200192.5349         5   53600      53600  2127310       0   \n",
       "4  1256925.333  209863.6627         6    1197       1197  3553269       0   \n",
       "\n",
       "       ADDRTYPE   INTKEY                                           LOCATION  \\\n",
       "0         Block      NaN  BEACON ER AVE S BETWEEN S PORTLAND ST AND S CH...   \n",
       "1         Block      NaN  GREENWOOD AVE N BETWEEN N 134TH ST AND N 136TH ST   \n",
       "2         Block      NaN          E DENNY WAY BETWEEN 11TH AVE AND 12TH AVE   \n",
       "3         Block      NaN  DELRIDGE WAY SW BETWEEN SW MYRTLE ST AND SW OR...   \n",
       "4  Intersection  31893.0                CALIFORNIA AVE SW AND SW GENESEE ST   \n",
       "\n",
       "   ... PEDROWNOTGRNT SDOTCOLNUM  SPEEDING ST_COLCODE  \\\n",
       "0  ...           NaN  4315006.0         0        NaN   \n",
       "1  ...           NaN        NaN         0         28   \n",
       "2  ...           NaN  7065007.0         0         32   \n",
       "3  ...           NaN  6137017.0         0         14   \n",
       "4  ...           NaN        NaN         0         10   \n",
       "\n",
       "                                          ST_COLDESC  SEGLANEKEY  \\\n",
       "0                                                NaN           0   \n",
       "1  From opposite direction - one left turn - one ...           0   \n",
       "2                             One parked--one moving           0   \n",
       "3  From same direction - both going straight - on...           0   \n",
       "4                                  Entering at angle           0   \n",
       "\n",
       "   CROSSWALKKEY  HITPARKEDCAR  hourofday  morning  \n",
       "0             0             N          0        0  \n",
       "1             0             N         15        1  \n",
       "2             0             N          0        0  \n",
       "3             0             N         16        1  \n",
       "4             0             N          9        0  \n",
       "\n",
       "[5 rows x 42 columns]"
      ]
     },
     "execution_count": 37,
     "metadata": {},
     "output_type": "execute_result"
    }
   ],
   "source": [
    "collisions_df.head()"
   ]
  },
  {
   "cell_type": "markdown",
   "metadata": {},
   "source": [
    "<hr color= \"red\"/> "
   ]
  },
  {
   "cell_type": "markdown",
   "metadata": {},
   "source": [
    "## One Hot Encoding  \n",
    "#### Lets start with collision type"
   ]
  },
  {
   "cell_type": "code",
   "execution_count": 38,
   "metadata": {},
   "outputs": [
    {
     "data": {
      "text/plain": [
       "array({'Pedestrian', 'Rear Ended', 'Parked Car', 'Left Turn', 'Angles', 'Sideswipe', 'Cycles', 'Other', 'Right Turn', 'Head On'},\n",
       "      dtype=object)"
      ]
     },
     "execution_count": 38,
     "metadata": {},
     "output_type": "execute_result"
    }
   ],
   "source": [
    "# make sure all NaN are converted to 'Other'\n",
    "collisions_df['COLLISIONTYPE'].fillna('Other', inplace=True)\n",
    "np.array(set(collisions_df['COLLISIONTYPE'].values))"
   ]
  },
  {
   "cell_type": "code",
   "execution_count": 39,
   "metadata": {},
   "outputs": [
    {
     "data": {
      "text/plain": [
       "COLLISIONTYPE  severity\n",
       "Angles         0           21068\n",
       "               1           14176\n",
       "Cycles         1            5197\n",
       "               0             672\n",
       "Head On        0            1152\n",
       "               1             994\n",
       "Left Turn      0            8296\n",
       "               1            5703\n",
       "Other          0           39827\n",
       "               1            7428\n",
       "Parked Car     0           44017\n",
       "               1            2824\n",
       "Pedestrian     1            6914\n",
       "               0             675\n",
       "Rear Ended     0           18920\n",
       "               1           14572\n",
       "Right Turn     0            2333\n",
       "               1             628\n",
       "Sideswipe      0           15736\n",
       "               1            2542\n",
       "Name: severity, dtype: int64"
      ]
     },
     "execution_count": 39,
     "metadata": {},
     "output_type": "execute_result"
    }
   ],
   "source": [
    "collisions_df.groupby(['COLLISIONTYPE'])['severity'].value_counts(normalize=False)\n",
    "#collisions_df.groupby(['COLLISIONTYPE'])['SEVERITYCODE'].value_counts(normalize=True)"
   ]
  },
  {
   "cell_type": "markdown",
   "metadata": {},
   "source": [
    "Lets look at the weather:"
   ]
  },
  {
   "cell_type": "code",
   "execution_count": 40,
   "metadata": {},
   "outputs": [
    {
     "data": {
      "text/plain": [
       "array({'Blowing Sand/Dirt', 'Clear', 'Severe Crosswind', 'Other', 'Sleet/Hail/Freezing Rain', 'Raining', 'Snowing', 'Fog/Smog/Smoke', 'Blowing Snow', 'Unknown', 'Partly Cloudy', 'Overcast'},\n",
       "      dtype=object)"
      ]
     },
     "execution_count": 40,
     "metadata": {},
     "output_type": "execute_result"
    }
   ],
   "source": [
    "# make sure all NaN are converted to 'Other'\n",
    "collisions_df['WEATHER'].fillna('Other', inplace=True)\n",
    "np.array(set(collisions_df['WEATHER'].values))"
   ]
  },
  {
   "cell_type": "code",
   "execution_count": 41,
   "metadata": {},
   "outputs": [
    {
     "data": {
      "text/plain": [
       "WEATHER                   severity\n",
       "Blowing Sand/Dirt         0              37\n",
       "                          1              13\n",
       "Blowing Snow              1               1\n",
       "Clear                     0           74280\n",
       "                          1           37835\n",
       "Fog/Smog/Smoke            0             370\n",
       "                          1             191\n",
       "Other                     0           23985\n",
       "                          1            1178\n",
       "Overcast                  0           18729\n",
       "                          1            9186\n",
       "Partly Cloudy             0               5\n",
       "                          1               4\n",
       "Raining                   0           21345\n",
       "                          1           11536\n",
       "Severe Crosswind          0              17\n",
       "                          1               8\n",
       "Sleet/Hail/Freezing Rain  0              85\n",
       "                          1              30\n",
       "Snowing                   0             728\n",
       "                          1             178\n",
       "Unknown                   0           13115\n",
       "                          1             818\n",
       "Name: severity, dtype: int64"
      ]
     },
     "execution_count": 41,
     "metadata": {},
     "output_type": "execute_result"
    }
   ],
   "source": [
    "collisions_df.groupby(['WEATHER'])['severity'].value_counts(normalize=False)"
   ]
  },
  {
   "cell_type": "markdown",
   "metadata": {},
   "source": [
    "Lets look at road conditions:"
   ]
  },
  {
   "cell_type": "code",
   "execution_count": 42,
   "metadata": {},
   "outputs": [
    {
     "data": {
      "text/plain": [
       "array({'Dry', 'Wet', 'Snow/Slush', 'Other', 'Unknown', 'Standing Water', 'Sand/Mud/Dirt', 'Oil', 'Ice'},\n",
       "      dtype=object)"
      ]
     },
     "execution_count": 42,
     "metadata": {},
     "output_type": "execute_result"
    }
   ],
   "source": [
    "# make sure all NaN are converted to 'Other'\n",
    "collisions_df['ROADCOND'].fillna('Other', inplace=True)\n",
    "np.array(set(collisions_df['ROADCOND'].values))"
   ]
  },
  {
   "cell_type": "code",
   "execution_count": 43,
   "metadata": {},
   "outputs": [
    {
     "data": {
      "text/plain": [
       "ROADCOND        severity\n",
       "Dry             0           83361\n",
       "                1           42299\n",
       "Ice             0             912\n",
       "                1             286\n",
       "Oil             0              33\n",
       "                1              20\n",
       "Other           0           23347\n",
       "                1            1067\n",
       "Sand/Mud/Dirt   0              44\n",
       "                1              22\n",
       "Snow/Slush      0             825\n",
       "                1             174\n",
       "Standing Water  0              77\n",
       "                1              29\n",
       "Unknown         0           13140\n",
       "                1             750\n",
       "Wet             0           30957\n",
       "                1           16331\n",
       "Name: severity, dtype: int64"
      ]
     },
     "execution_count": 43,
     "metadata": {},
     "output_type": "execute_result"
    }
   ],
   "source": [
    "collisions_df.groupby(['ROADCOND'])['severity'].value_counts(normalize=False)"
   ]
  },
  {
   "cell_type": "markdown",
   "metadata": {},
   "source": [
    "Lets look at light conditions:"
   ]
  },
  {
   "cell_type": "code",
   "execution_count": 44,
   "metadata": {},
   "outputs": [
    {
     "data": {
      "text/plain": [
       "array({'Dark - No Street Lights', 'Other', 'Daylight', 'Dark - Street Lights On', 'Dark - Street Lights Off', 'Unknown', 'Dusk', 'Dawn', 'Dark - Unknown Lighting'},\n",
       "      dtype=object)"
      ]
     },
     "execution_count": 44,
     "metadata": {},
     "output_type": "execute_result"
    }
   ],
   "source": [
    "# make sure all NaN are converted to 'Other'\n",
    "collisions_df['LIGHTCOND'].fillna('Other', inplace=True)\n",
    "np.array(set(collisions_df['LIGHTCOND'].values))"
   ]
  },
  {
   "cell_type": "code",
   "execution_count": 45,
   "metadata": {},
   "outputs": [
    {
     "data": {
      "text/plain": [
       "LIGHTCOND                 severity\n",
       "Dark - No Street Lights   0            1139\n",
       "                          1             348\n",
       "Dark - Street Lights Off  0             851\n",
       "                          1             338\n",
       "Dark - Street Lights On   0           33372\n",
       "                          1           15453\n",
       "Dark - Unknown Lighting   0              12\n",
       "                          1               8\n",
       "Dawn                      0            1632\n",
       "                          1             885\n",
       "Daylight                  0           76386\n",
       "                          1           40174\n",
       "Dusk                      0            3889\n",
       "                          1            2055\n",
       "Other                     0           23548\n",
       "                          1            1105\n",
       "Unknown                   0           11867\n",
       "                          1             612\n",
       "Name: severity, dtype: int64"
      ]
     },
     "execution_count": 45,
     "metadata": {},
     "output_type": "execute_result"
    }
   ],
   "source": [
    "collisions_df.groupby(['LIGHTCOND'])['severity'].value_counts(normalize=False)"
   ]
  },
  {
   "cell_type": "markdown",
   "metadata": {},
   "source": [
    "<hr color= \"red\"/> "
   ]
  },
  {
   "cell_type": "markdown",
   "metadata": {},
   "source": [
    "# Combining Latitude/Longitude\n",
    "Combining latitude/longitude position into single feature using the <a href=\"https://datascience.stackexchange.com/questions/49553/combining-latitude-longitude-position-into-single-feature\">Haversine formula</a>"
   ]
  },
  {
   "cell_type": "code",
   "execution_count": 46,
   "metadata": {},
   "outputs": [],
   "source": [
    "from math import radians, cos, sin, asin, sqrt\n",
    "\n",
    "def location(lat, lng, degrees=True):\n",
    "    \"\"\"\n",
    "    'Single-point' Haversine: Calculates the great circle distance\n",
    "    between a point on Earth and the (0, 0) lat-long coordinate\n",
    "    \"\"\"\n",
    "    r = 6371 # Earth's radius (km). Have r = 3956 if you want miles\n",
    "\n",
    "    # Convert decimal degrees to radians\n",
    "    if degrees:\n",
    "        lat, lng = map(radians, [lat, lng])\n",
    "\n",
    "    # 'Single-point' Haversine formula\n",
    "    a = sin(lat/2)**2 + cos(lat) * sin(lng/2)**2\n",
    "    d = 2 * r * asin(sqrt(a)) \n",
    "\n",
    "    return d"
   ]
  },
  {
   "cell_type": "markdown",
   "metadata": {},
   "source": [
    "Use the location function defined to calculate a single location for each pair of latitude/longitude:"
   ]
  },
  {
   "cell_type": "code",
   "execution_count": 47,
   "metadata": {},
   "outputs": [
    {
     "data": {
      "text/plain": [
       "0     8875.504599\n",
       "1     9850.288308\n",
       "2     9358.710501\n",
       "3    14977.209594\n",
       "4    17588.740409\n",
       "Name: location, dtype: float64"
      ]
     },
     "execution_count": 47,
     "metadata": {},
     "output_type": "execute_result"
    }
   ],
   "source": [
    "collisions_df['location'] = [location(x, y) for x, y in zip(collisions_df.latitude, collisions_df.longitude)]\n",
    "collisions_df['location'].head()"
   ]
  },
  {
   "cell_type": "markdown",
   "metadata": {},
   "source": [
    "Lets look at the locations that collisions occur:"
   ]
  },
  {
   "cell_type": "code",
   "execution_count": 48,
   "metadata": {},
   "outputs": [
    {
     "name": "stdout",
     "output_type": "stream",
     "text": [
      "Bins:  [   87.68812048  2292.11538218  4496.54264387  6700.96990556\n",
      "  8905.39716725 11109.82442894 13314.25169063 15518.67895232\n",
      " 17723.10621401 19927.5334757 ]\n"
     ]
    },
    {
     "data": {
      "image/png": "[encoded data removed]",
      "text/plain": [
       "<Figure size 432x216 with 2 Axes>"
      ]
     },
     "metadata": {
      "needs_background": "light"
     },
     "output_type": "display_data"
    }
   ],
   "source": [
    "bins = np.linspace(collisions_df.location.min(), collisions_df.location.max(), 10)\n",
    "print('Bins: ', bins)\n",
    "g = sns.FacetGrid(collisions_df, col=\"STATUS\", hue=\"severity\", palette=\"Set1\", col_wrap=2)\n",
    "g.map(plt.hist, 'location', bins=bins, ec=\"k\")\n",
    "g.axes[-1].legend()\n",
    "plt.show()"
   ]
  },
  {
   "cell_type": "markdown",
   "metadata": {},
   "source": [
    "**Summary:** It seems that most of the collisions occurred within approximately one standard deviation from a mean point (hot spot).<br/>\n",
    "We can use feature binarization to set a threshold value about one standard deviation from the hot spot (mean). The bins could be representative of location brackets or locality."
   ]
  },
  {
   "cell_type": "markdown",
   "metadata": {},
   "source": [
    "#### First, explore the location partitions or bins or localities:"
   ]
  },
  {
   "cell_type": "code",
   "execution_count": 49,
   "metadata": {},
   "outputs": [
    {
     "data": {
      "text/plain": [
       "0    4\n",
       "1    5\n",
       "2    5\n",
       "3    7\n",
       "4    8\n",
       "Name: locality, dtype: int64"
      ]
     },
     "execution_count": 49,
     "metadata": {},
     "output_type": "execute_result"
    }
   ],
   "source": [
    "collisions_df['locality'] = collisions_df['location'].apply(lambda x: np.digitize(x, bins))\n",
    "collisions_df['locality'].head()"
   ]
  },
  {
   "cell_type": "markdown",
   "metadata": {},
   "source": [
    "#### Then explore idea of the hot spot as well:"
   ]
  },
  {
   "cell_type": "code",
   "execution_count": 50,
   "metadata": {},
   "outputs": [
    {
     "name": "stdout",
     "output_type": "stream",
     "text": [
      "The hot spot is estimated at location [mean = 9940.566029365638 ,std = 3741.6002284049778 ]\n"
     ]
    }
   ],
   "source": [
    "hot_spot = collisions_df.location.mean()\n",
    "loc_std = collisions_df.location.std()\n",
    "print('The hot spot is estimated at location [mean =', hot_spot, ',std =', loc_std,']')"
   ]
  },
  {
   "cell_type": "code",
   "execution_count": 51,
   "metadata": {},
   "outputs": [],
   "source": [
    "# binarize location --> point is either within the standard deviation window or not\n",
    "thres_mult = 1 # i.e. thres_mult * standard deviations from the hot spot\n",
    "lower_bound = hot_spot - thres_mult*loc_std\n",
    "upper_bound = hot_spot + thres_mult*loc_std\n",
    "collisions_df['location'] = collisions_df['location'].apply(lambda x: 1 if (x>lower_bound and x<upper_bound) else 0)\n",
    "#collisions_df['location'].head()"
   ]
  },
  {
   "cell_type": "markdown",
   "metadata": {},
   "source": [
    "<hr color= \"red\"/> "
   ]
  },
  {
   "cell_type": "markdown",
   "metadata": {},
   "source": [
    "Lets look at the total number of people involved in collision (PERSONCOUNT):"
   ]
  },
  {
   "cell_type": "code",
   "execution_count": 52,
   "metadata": {},
   "outputs": [
    {
     "data": {
      "image/png": "[encoded data removed]",
      "text/plain": [
       "<Figure size 432x216 with 2 Axes>"
      ]
     },
     "metadata": {
      "needs_background": "light"
     },
     "output_type": "display_data"
    }
   ],
   "source": [
    "bins = np.linspace(collisions_df.PERSONCOUNT.min(), collisions_df.PERSONCOUNT.max(), 40)\n",
    "#print('Bins: ', bins)\n",
    "g = sns.FacetGrid(collisions_df, col=\"STATUS\", hue=\"severity\", palette=\"Set1\", col_wrap=2)\n",
    "g.map(plt.hist, 'PERSONCOUNT', bins=bins, ec=\"k\")\n",
    "g.axes[-1].legend()\n",
    "plt.show()"
   ]
  },
  {
   "cell_type": "markdown",
   "metadata": {},
   "source": [
    "**Summary:** It seems that most of the collisions involving <10 people are associated with most injuries occur.<br/>\n",
    "We can use feature binarization to set a threshold value of 10."
   ]
  },
  {
   "cell_type": "code",
   "execution_count": 53,
   "metadata": {},
   "outputs": [],
   "source": [
    "count_threshold = 10\n",
    "collisions_df['PERSONCOUNT'] = collisions_df['PERSONCOUNT'].astype(int)\n",
    "collisions_df['PERSONCOUNT'] = collisions_df['PERSONCOUNT'].apply(lambda x: x if (x<count_threshold)  else 0)\n",
    "#collisions_df[['PERSONCOUNT']].head()"
   ]
  },
  {
   "cell_type": "code",
   "execution_count": 54,
   "metadata": {},
   "outputs": [
    {
     "data": {
      "text/plain": [
       "PERSONCOUNT  severity\n",
       "0            0           21322\n",
       "             1            1977\n",
       "1            0            9435\n",
       "             1            3447\n",
       "2            0           86100\n",
       "             1           29444\n",
       "3            0           21852\n",
       "             1           14023\n",
       "4            0            8257\n",
       "             1            6506\n",
       "5            0            3586\n",
       "             1            3078\n",
       "6            1            1406\n",
       "             0            1337\n",
       "7            1             668\n",
       "             0             481\n",
       "8            1             292\n",
       "             0             245\n",
       "9            1             137\n",
       "             0              81\n",
       "Name: severity, dtype: int64"
      ]
     },
     "execution_count": 54,
     "metadata": {},
     "output_type": "execute_result"
    }
   ],
   "source": [
    "collisions_df.groupby(['PERSONCOUNT'])['severity'].value_counts(normalize=False)"
   ]
  },
  {
   "cell_type": "markdown",
   "metadata": {},
   "source": [
    "In 27% of collisions with <4 people resulted in injury, compared to 45% with 4 or more people.<br/>"
   ]
  },
  {
   "cell_type": "markdown",
   "metadata": {},
   "source": [
    "Lets look at the total number of pedestrians involved in collision (PEDCOUNT):"
   ]
  },
  {
   "cell_type": "code",
   "execution_count": 55,
   "metadata": {},
   "outputs": [
    {
     "data": {
      "image/png": "[encoded data removed]",
      "text/plain": [
       "<Figure size 432x216 with 2 Axes>"
      ]
     },
     "metadata": {
      "needs_background": "light"
     },
     "output_type": "display_data"
    }
   ],
   "source": [
    "bins = np.linspace(collisions_df.PEDCOUNT.min(), collisions_df.PEDCOUNT.max(), 6)\n",
    "#print('Bins: ', bins)\n",
    "g = sns.FacetGrid(collisions_df, col=\"STATUS\", hue=\"severity\", palette=\"Set1\", col_wrap=2)\n",
    "g.map(plt.hist, 'PEDCOUNT', bins=bins, ec=\"k\")\n",
    "g.axes[-1].legend()\n",
    "plt.show()"
   ]
  },
  {
   "cell_type": "markdown",
   "metadata": {},
   "source": [
    "**Summary:** It seems that most of the collisions with <2 pedestrians is where most injuries occur.<br/>\n",
    "We can use feature binarization to set a threshold value of 2. We must ignore all those with zero pedestrians."
   ]
  },
  {
   "cell_type": "code",
   "execution_count": 56,
   "metadata": {},
   "outputs": [],
   "source": [
    "count_threshold = 2\n",
    "# ignore all with zero pedestrians\n",
    "collisions_df['PEDCOUNT'] = collisions_df['PEDCOUNT'].apply(lambda x: 1 if (x<count_threshold and x>0)  else 0)\n",
    "#collisions_df[['PEDCOUNT']].tail(20)"
   ]
  },
  {
   "cell_type": "code",
   "execution_count": 57,
   "metadata": {},
   "outputs": [
    {
     "data": {
      "text/plain": [
       "PEDCOUNT  severity\n",
       "0         0           152014\n",
       "          1            53982\n",
       "1         1             6996\n",
       "          0              682\n",
       "Name: severity, dtype: int64"
      ]
     },
     "execution_count": 57,
     "metadata": {},
     "output_type": "execute_result"
    }
   ],
   "source": [
    "collisions_df.groupby(['PEDCOUNT'])['severity'].value_counts(normalize=False)"
   ]
  },
  {
   "cell_type": "markdown",
   "metadata": {},
   "source": [
    "In 10% of collisions involving pedestrians resulted in injury, compared to 27% without.<br/>"
   ]
  },
  {
   "cell_type": "markdown",
   "metadata": {},
   "source": [
    "Lets look at the total number of bicycles involved in collision (PEDCYLCOUNT):"
   ]
  },
  {
   "cell_type": "code",
   "execution_count": 58,
   "metadata": {},
   "outputs": [],
   "source": [
    "# either a bicycle was involved or not\n",
    "collisions_df['PEDCYLCOUNT'] = collisions_df['PEDCYLCOUNT'].apply(lambda x: 1 if (x>0)  else 0)"
   ]
  },
  {
   "cell_type": "markdown",
   "metadata": {},
   "source": [
    "Lets look at the total number of vehicles involved in collision (VEHCOUNT):"
   ]
  },
  {
   "cell_type": "code",
   "execution_count": 59,
   "metadata": {},
   "outputs": [
    {
     "data": {
      "image/png": "[encoded data removed]",
      "text/plain": [
       "<Figure size 432x216 with 2 Axes>"
      ]
     },
     "metadata": {
      "needs_background": "light"
     },
     "output_type": "display_data"
    }
   ],
   "source": [
    "bins = np.linspace(collisions_df.VEHCOUNT.min(), collisions_df.VEHCOUNT.max(), 12)\n",
    "#print('Bins: ', bins)\n",
    "g = sns.FacetGrid(collisions_df, col=\"STATUS\", hue=\"severity\", palette=\"Set1\", col_wrap=2)\n",
    "g.map(plt.hist, 'VEHCOUNT', bins=bins, ec=\"k\")\n",
    "g.axes[-1].legend()\n",
    "plt.show()"
   ]
  },
  {
   "cell_type": "code",
   "execution_count": 60,
   "metadata": {},
   "outputs": [],
   "source": [
    "# either two vehicles were involved or not\n",
    "collisions_df['VEHCOUNT'] = collisions_df['VEHCOUNT'].apply(lambda x: x if (x < 5)  else 0)"
   ]
  },
  {
   "cell_type": "code",
   "execution_count": 61,
   "metadata": {},
   "outputs": [
    {
     "data": {
      "text/plain": [
       "VEHCOUNT  severity\n",
       "0         0            23581\n",
       "          1             1619\n",
       "1         1            15693\n",
       "          0            10901\n",
       "2         0           109421\n",
       "          1            36930\n",
       "3         0             7456\n",
       "          1             5604\n",
       "4         0             1337\n",
       "          1             1132\n",
       "Name: severity, dtype: int64"
      ]
     },
     "execution_count": 61,
     "metadata": {},
     "output_type": "execute_result"
    }
   ],
   "source": [
    "collisions_df.groupby(['VEHCOUNT'])['severity'].value_counts(normalize=False)"
   ]
  },
  {
   "cell_type": "markdown",
   "metadata": {},
   "source": [
    "The vast majority of collisions involved two vehicles, with 24% of collisions involving 2 vehicles resulting in injury, compared to 47% otherwise.<br/>"
   ]
  },
  {
   "cell_type": "markdown",
   "metadata": {},
   "source": [
    "Lets look at the state collision code associated with the collision (SDOT_COLCODE):"
   ]
  },
  {
   "cell_type": "code",
   "execution_count": 62,
   "metadata": {},
   "outputs": [
    {
     "data": {
      "image/png": "[encoded data removed]",
      "text/plain": [
       "<Figure size 432x216 with 2 Axes>"
      ]
     },
     "metadata": {
      "needs_background": "light"
     },
     "output_type": "display_data"
    }
   ],
   "source": [
    "bins = np.linspace(collisions_df.SDOT_COLCODE.min(), collisions_df.SDOT_COLCODE.max(), 15)\n",
    "#print('Bins: ', bins)\n",
    "g = sns.FacetGrid(collisions_df, col=\"STATUS\", hue=\"severity\", palette=\"Set1\", col_wrap=2)\n",
    "g.map(plt.hist, 'SDOT_COLCODE', bins=bins, ec=\"k\")\n",
    "g.axes[-1].legend()\n",
    "plt.show()"
   ]
  },
  {
   "cell_type": "markdown",
   "metadata": {},
   "source": [
    "It appears that most collisions are associated with codes between 10 and 15 and most injuries match that range (entering at an angle etc.)."
   ]
  },
  {
   "cell_type": "code",
   "execution_count": 63,
   "metadata": {},
   "outputs": [],
   "source": [
    "# either two vehicles were involved or not\n",
    "collisions_df['SDOT_COLCODE'] = collisions_df['SDOT_COLCODE'].apply(lambda x: x if (x >= 10 and x<=30)  else 0)"
   ]
  },
  {
   "cell_type": "code",
   "execution_count": 64,
   "metadata": {},
   "outputs": [
    {
     "data": {
      "text/plain": [
       "SDOT_COLCODE  severity\n",
       "0.0           0           15124\n",
       "              1            2401\n",
       "11.0          0           65643\n",
       "              1           25494\n",
       "12.0          0            1707\n",
       "              1              27\n",
       "13.0          0            6559\n",
       "              1             212\n",
       "14.0          0           40152\n",
       "              1           17832\n",
       "15.0          0            1723\n",
       "              1              78\n",
       "16.0          0           10052\n",
       "              1             704\n",
       "18.0          1            2974\n",
       "              0             436\n",
       "21.0          1             161\n",
       "              0              44\n",
       "22.0          1              16\n",
       "              0               2\n",
       "23.0          1              95\n",
       "              0              32\n",
       "24.0          1            6826\n",
       "              0             824\n",
       "25.0          0              86\n",
       "              1              24\n",
       "26.0          0            3256\n",
       "              1            1136\n",
       "27.0          0             131\n",
       "              1              40\n",
       "28.0          0            6792\n",
       "              1            2551\n",
       "29.0          1             407\n",
       "              0             133\n",
       "Name: severity, dtype: int64"
      ]
     },
     "execution_count": 64,
     "metadata": {},
     "output_type": "execute_result"
    }
   ],
   "source": [
    "collisions_df.groupby(['SDOT_COLCODE'])['severity'].value_counts(normalize=False)"
   ]
  },
  {
   "cell_type": "markdown",
   "metadata": {},
   "source": [
    "*The other related code, SDOTCOLNUM, a number given to the collision by SDOT, appears to provide a reduncdant code and appears to be an over-specification of the same factors address by a variety of other factors already included. This code can reasonably be ignored.*"
   ]
  },
  {
   "cell_type": "markdown",
   "metadata": {},
   "source": [
    "<hr color= \"red\"/> "
   ]
  },
  {
   "cell_type": "markdown",
   "metadata": {},
   "source": [
    "### Summarize Collisions Data Set Columns"
   ]
  },
  {
   "cell_type": "code",
   "execution_count": 65,
   "metadata": {},
   "outputs": [
    {
     "data": {
      "text/plain": [
       "Index(['longitude', 'latitude', 'OBJECTID', 'INCKEY', 'COLDETKEY', 'REPORTNO',\n",
       "       'STATUS', 'ADDRTYPE', 'INTKEY', 'LOCATION', 'EXCEPTRSNCODE',\n",
       "       'EXCEPTRSNDESC', 'severity', 'SEVERITYDESC', 'COLLISIONTYPE',\n",
       "       'PERSONCOUNT', 'PEDCOUNT', 'PEDCYLCOUNT', 'VEHCOUNT', 'INJURIES',\n",
       "       'SERIOUSINJURIES', 'FATALITIES', 'INCDATE', 'INCDTTM', 'JUNCTIONTYPE',\n",
       "       'SDOT_COLCODE', 'SDOT_COLDESC', 'INATTENTIONIND', 'UNDERINFL',\n",
       "       'WEATHER', 'ROADCOND', 'LIGHTCOND', 'PEDROWNOTGRNT', 'SDOTCOLNUM',\n",
       "       'SPEEDING', 'ST_COLCODE', 'ST_COLDESC', 'SEGLANEKEY', 'CROSSWALKKEY',\n",
       "       'HITPARKEDCAR', 'hourofday', 'morning', 'location', 'locality'],\n",
       "      dtype='object')"
      ]
     },
     "execution_count": 65,
     "metadata": {},
     "output_type": "execute_result"
    }
   ],
   "source": [
    "collisions_df.columns"
   ]
  },
  {
   "cell_type": "markdown",
   "metadata": {},
   "source": [
    "## Create features set from the prepared data set"
   ]
  },
  {
   "cell_type": "code",
   "execution_count": 66,
   "metadata": {},
   "outputs": [
    {
     "data": {
      "text/html": [
       "<div>\n",
       "<style scoped>\n",
       "    .dataframe tbody tr th:only-of-type {\n",
       "        vertical-align: middle;\n",
       "    }\n",
       "\n",
       "    .dataframe tbody tr th {\n",
       "        vertical-align: top;\n",
       "    }\n",
       "\n",
       "    .dataframe thead th {\n",
       "        text-align: right;\n",
       "    }\n",
       "</style>\n",
       "<table border=\"1\" class=\"dataframe\">\n",
       "  <thead>\n",
       "    <tr style=\"text-align: right;\">\n",
       "      <th></th>\n",
       "      <th>longitude</th>\n",
       "      <th>latitude</th>\n",
       "      <th>STATUS</th>\n",
       "      <th>ADDRTYPE</th>\n",
       "      <th>INTKEY</th>\n",
       "      <th>severity</th>\n",
       "      <th>COLLISIONTYPE</th>\n",
       "      <th>PERSONCOUNT</th>\n",
       "      <th>PEDCOUNT</th>\n",
       "      <th>PEDCYLCOUNT</th>\n",
       "      <th>...</th>\n",
       "      <th>INATTENTIONIND</th>\n",
       "      <th>UNDERINFL</th>\n",
       "      <th>WEATHER</th>\n",
       "      <th>ROADCOND</th>\n",
       "      <th>LIGHTCOND</th>\n",
       "      <th>SPEEDING</th>\n",
       "      <th>hourofday</th>\n",
       "      <th>morning</th>\n",
       "      <th>location</th>\n",
       "      <th>locality</th>\n",
       "    </tr>\n",
       "  </thead>\n",
       "  <tbody>\n",
       "    <tr>\n",
       "      <th>0</th>\n",
       "      <td>1280915.029</td>\n",
       "      <td>197717.5345</td>\n",
       "      <td>1</td>\n",
       "      <td>Block</td>\n",
       "      <td>NaN</td>\n",
       "      <td>0</td>\n",
       "      <td>Other</td>\n",
       "      <td>0</td>\n",
       "      <td>0</td>\n",
       "      <td>0</td>\n",
       "      <td>...</td>\n",
       "      <td>0</td>\n",
       "      <td>0</td>\n",
       "      <td>Other</td>\n",
       "      <td>Other</td>\n",
       "      <td>Other</td>\n",
       "      <td>0</td>\n",
       "      <td>0</td>\n",
       "      <td>0</td>\n",
       "      <td>1</td>\n",
       "      <td>4</td>\n",
       "    </tr>\n",
       "    <tr>\n",
       "      <th>1</th>\n",
       "      <td>1265803.499</td>\n",
       "      <td>269008.0502</td>\n",
       "      <td>0</td>\n",
       "      <td>Block</td>\n",
       "      <td>NaN</td>\n",
       "      <td>0</td>\n",
       "      <td>Left Turn</td>\n",
       "      <td>2</td>\n",
       "      <td>0</td>\n",
       "      <td>0</td>\n",
       "      <td>...</td>\n",
       "      <td>0</td>\n",
       "      <td>0</td>\n",
       "      <td>Overcast</td>\n",
       "      <td>Dry</td>\n",
       "      <td>Daylight</td>\n",
       "      <td>0</td>\n",
       "      <td>15</td>\n",
       "      <td>1</td>\n",
       "      <td>1</td>\n",
       "      <td>5</td>\n",
       "    </tr>\n",
       "    <tr>\n",
       "      <th>2</th>\n",
       "      <td>1274388.698</td>\n",
       "      <td>229235.9509</td>\n",
       "      <td>0</td>\n",
       "      <td>Block</td>\n",
       "      <td>NaN</td>\n",
       "      <td>0</td>\n",
       "      <td>Parked Car</td>\n",
       "      <td>2</td>\n",
       "      <td>0</td>\n",
       "      <td>0</td>\n",
       "      <td>...</td>\n",
       "      <td>0</td>\n",
       "      <td>0</td>\n",
       "      <td>Clear</td>\n",
       "      <td>Dry</td>\n",
       "      <td>Other</td>\n",
       "      <td>0</td>\n",
       "      <td>0</td>\n",
       "      <td>0</td>\n",
       "      <td>1</td>\n",
       "      <td>5</td>\n",
       "    </tr>\n",
       "    <tr>\n",
       "      <th>3</th>\n",
       "      <td>1263093.464</td>\n",
       "      <td>200192.5349</td>\n",
       "      <td>0</td>\n",
       "      <td>Block</td>\n",
       "      <td>NaN</td>\n",
       "      <td>0</td>\n",
       "      <td>Rear Ended</td>\n",
       "      <td>2</td>\n",
       "      <td>0</td>\n",
       "      <td>0</td>\n",
       "      <td>...</td>\n",
       "      <td>1</td>\n",
       "      <td>0</td>\n",
       "      <td>Clear</td>\n",
       "      <td>Dry</td>\n",
       "      <td>Daylight</td>\n",
       "      <td>0</td>\n",
       "      <td>16</td>\n",
       "      <td>1</td>\n",
       "      <td>0</td>\n",
       "      <td>7</td>\n",
       "    </tr>\n",
       "    <tr>\n",
       "      <th>4</th>\n",
       "      <td>1256925.333</td>\n",
       "      <td>209863.6627</td>\n",
       "      <td>0</td>\n",
       "      <td>Intersection</td>\n",
       "      <td>31893.0</td>\n",
       "      <td>1</td>\n",
       "      <td>Angles</td>\n",
       "      <td>4</td>\n",
       "      <td>0</td>\n",
       "      <td>0</td>\n",
       "      <td>...</td>\n",
       "      <td>1</td>\n",
       "      <td>0</td>\n",
       "      <td>Clear</td>\n",
       "      <td>Dry</td>\n",
       "      <td>Daylight</td>\n",
       "      <td>0</td>\n",
       "      <td>9</td>\n",
       "      <td>0</td>\n",
       "      <td>0</td>\n",
       "      <td>8</td>\n",
       "    </tr>\n",
       "  </tbody>\n",
       "</table>\n",
       "<p>5 rows × 25 columns</p>\n",
       "</div>"
      ],
      "text/plain": [
       "     longitude     latitude  STATUS      ADDRTYPE   INTKEY  severity  \\\n",
       "0  1280915.029  197717.5345       1         Block      NaN         0   \n",
       "1  1265803.499  269008.0502       0         Block      NaN         0   \n",
       "2  1274388.698  229235.9509       0         Block      NaN         0   \n",
       "3  1263093.464  200192.5349       0         Block      NaN         0   \n",
       "4  1256925.333  209863.6627       0  Intersection  31893.0         1   \n",
       "\n",
       "  COLLISIONTYPE  PERSONCOUNT  PEDCOUNT  PEDCYLCOUNT  ...  INATTENTIONIND  \\\n",
       "0         Other            0         0            0  ...               0   \n",
       "1     Left Turn            2         0            0  ...               0   \n",
       "2    Parked Car            2         0            0  ...               0   \n",
       "3    Rear Ended            2         0            0  ...               1   \n",
       "4        Angles            4         0            0  ...               1   \n",
       "\n",
       "   UNDERINFL   WEATHER  ROADCOND  LIGHTCOND  SPEEDING  hourofday morning  \\\n",
       "0          0     Other     Other      Other         0          0       0   \n",
       "1          0  Overcast       Dry   Daylight         0         15       1   \n",
       "2          0     Clear       Dry      Other         0          0       0   \n",
       "3          0     Clear       Dry   Daylight         0         16       1   \n",
       "4          0     Clear       Dry   Daylight         0          9       0   \n",
       "\n",
       "  location locality  \n",
       "0        1        4  \n",
       "1        1        5  \n",
       "2        1        5  \n",
       "3        0        7  \n",
       "4        0        8  \n",
       "\n",
       "[5 rows x 25 columns]"
      ]
     },
     "execution_count": 66,
     "metadata": {},
     "output_type": "execute_result"
    }
   ],
   "source": [
    "Features = collisions_df[['longitude', 'latitude', 'STATUS', 'ADDRTYPE', 'INTKEY', 'severity', 'COLLISIONTYPE', 'PERSONCOUNT', \\\n",
    "                          'PEDCOUNT', 'PEDCYLCOUNT', 'VEHCOUNT', 'INJURIES', 'SERIOUSINJURIES', 'FATALITIES', 'SDOT_COLCODE', \\\n",
    "                          'INATTENTIONIND', 'UNDERINFL', 'WEATHER', 'ROADCOND', 'LIGHTCOND', 'SPEEDING', \\\n",
    "                          'hourofday', 'morning', 'location', 'locality']]\n",
    "Features.head()"
   ]
  },
  {
   "cell_type": "markdown",
   "metadata": {},
   "source": [
    "#### We use the one hot encoding technique to conver categorical varables, such as collision type, to binary variables and append them to the features Data Frame "
   ]
  },
  {
   "cell_type": "code",
   "execution_count": 67,
   "metadata": {},
   "outputs": [
    {
     "data": {
      "text/html": [
       "<div>\n",
       "<style scoped>\n",
       "    .dataframe tbody tr th:only-of-type {\n",
       "        vertical-align: middle;\n",
       "    }\n",
       "\n",
       "    .dataframe tbody tr th {\n",
       "        vertical-align: top;\n",
       "    }\n",
       "\n",
       "    .dataframe thead th {\n",
       "        text-align: right;\n",
       "    }\n",
       "</style>\n",
       "<table border=\"1\" class=\"dataframe\">\n",
       "  <thead>\n",
       "    <tr style=\"text-align: right;\">\n",
       "      <th></th>\n",
       "      <th>longitude</th>\n",
       "      <th>latitude</th>\n",
       "      <th>STATUS</th>\n",
       "      <th>severity</th>\n",
       "      <th>PERSONCOUNT</th>\n",
       "      <th>PEDCOUNT</th>\n",
       "      <th>PEDCYLCOUNT</th>\n",
       "      <th>VEHCOUNT</th>\n",
       "      <th>INJURIES</th>\n",
       "      <th>SERIOUSINJURIES</th>\n",
       "      <th>...</th>\n",
       "      <th>ROADCOND_Wet</th>\n",
       "      <th>LIGHTCOND_Dark - No Street Lights</th>\n",
       "      <th>LIGHTCOND_Dark - Street Lights Off</th>\n",
       "      <th>LIGHTCOND_Dark - Street Lights On</th>\n",
       "      <th>LIGHTCOND_Dark - Unknown Lighting</th>\n",
       "      <th>LIGHTCOND_Dawn</th>\n",
       "      <th>LIGHTCOND_Daylight</th>\n",
       "      <th>LIGHTCOND_Dusk</th>\n",
       "      <th>LIGHTCOND_Other</th>\n",
       "      <th>LIGHTCOND_Unknown</th>\n",
       "    </tr>\n",
       "  </thead>\n",
       "  <tbody>\n",
       "    <tr>\n",
       "      <th>0</th>\n",
       "      <td>1280915.029</td>\n",
       "      <td>197717.5345</td>\n",
       "      <td>1</td>\n",
       "      <td>0</td>\n",
       "      <td>0</td>\n",
       "      <td>0</td>\n",
       "      <td>0</td>\n",
       "      <td>0</td>\n",
       "      <td>1</td>\n",
       "      <td>1</td>\n",
       "      <td>...</td>\n",
       "      <td>0</td>\n",
       "      <td>0</td>\n",
       "      <td>0</td>\n",
       "      <td>0</td>\n",
       "      <td>0</td>\n",
       "      <td>0</td>\n",
       "      <td>0</td>\n",
       "      <td>0</td>\n",
       "      <td>1</td>\n",
       "      <td>0</td>\n",
       "    </tr>\n",
       "    <tr>\n",
       "      <th>1</th>\n",
       "      <td>1265803.499</td>\n",
       "      <td>269008.0502</td>\n",
       "      <td>0</td>\n",
       "      <td>0</td>\n",
       "      <td>2</td>\n",
       "      <td>0</td>\n",
       "      <td>0</td>\n",
       "      <td>2</td>\n",
       "      <td>1</td>\n",
       "      <td>1</td>\n",
       "      <td>...</td>\n",
       "      <td>0</td>\n",
       "      <td>0</td>\n",
       "      <td>0</td>\n",
       "      <td>0</td>\n",
       "      <td>0</td>\n",
       "      <td>0</td>\n",
       "      <td>1</td>\n",
       "      <td>0</td>\n",
       "      <td>0</td>\n",
       "      <td>0</td>\n",
       "    </tr>\n",
       "    <tr>\n",
       "      <th>2</th>\n",
       "      <td>1274388.698</td>\n",
       "      <td>229235.9509</td>\n",
       "      <td>0</td>\n",
       "      <td>0</td>\n",
       "      <td>2</td>\n",
       "      <td>0</td>\n",
       "      <td>0</td>\n",
       "      <td>2</td>\n",
       "      <td>1</td>\n",
       "      <td>1</td>\n",
       "      <td>...</td>\n",
       "      <td>0</td>\n",
       "      <td>0</td>\n",
       "      <td>0</td>\n",
       "      <td>0</td>\n",
       "      <td>0</td>\n",
       "      <td>0</td>\n",
       "      <td>0</td>\n",
       "      <td>0</td>\n",
       "      <td>1</td>\n",
       "      <td>0</td>\n",
       "    </tr>\n",
       "    <tr>\n",
       "      <th>3</th>\n",
       "      <td>1263093.464</td>\n",
       "      <td>200192.5349</td>\n",
       "      <td>0</td>\n",
       "      <td>0</td>\n",
       "      <td>2</td>\n",
       "      <td>0</td>\n",
       "      <td>0</td>\n",
       "      <td>2</td>\n",
       "      <td>1</td>\n",
       "      <td>1</td>\n",
       "      <td>...</td>\n",
       "      <td>0</td>\n",
       "      <td>0</td>\n",
       "      <td>0</td>\n",
       "      <td>0</td>\n",
       "      <td>0</td>\n",
       "      <td>0</td>\n",
       "      <td>1</td>\n",
       "      <td>0</td>\n",
       "      <td>0</td>\n",
       "      <td>0</td>\n",
       "    </tr>\n",
       "    <tr>\n",
       "      <th>4</th>\n",
       "      <td>1256925.333</td>\n",
       "      <td>209863.6627</td>\n",
       "      <td>0</td>\n",
       "      <td>1</td>\n",
       "      <td>4</td>\n",
       "      <td>0</td>\n",
       "      <td>0</td>\n",
       "      <td>2</td>\n",
       "      <td>1</td>\n",
       "      <td>1</td>\n",
       "      <td>...</td>\n",
       "      <td>0</td>\n",
       "      <td>0</td>\n",
       "      <td>0</td>\n",
       "      <td>0</td>\n",
       "      <td>0</td>\n",
       "      <td>0</td>\n",
       "      <td>1</td>\n",
       "      <td>0</td>\n",
       "      <td>0</td>\n",
       "      <td>0</td>\n",
       "    </tr>\n",
       "  </tbody>\n",
       "</table>\n",
       "<p>5 rows × 59 columns</p>\n",
       "</div>"
      ],
      "text/plain": [
       "     longitude     latitude  STATUS  severity  PERSONCOUNT  PEDCOUNT  \\\n",
       "0  1280915.029  197717.5345       1         0            0         0   \n",
       "1  1265803.499  269008.0502       0         0            2         0   \n",
       "2  1274388.698  229235.9509       0         0            2         0   \n",
       "3  1263093.464  200192.5349       0         0            2         0   \n",
       "4  1256925.333  209863.6627       0         1            4         0   \n",
       "\n",
       "   PEDCYLCOUNT  VEHCOUNT  INJURIES  SERIOUSINJURIES  ...  ROADCOND_Wet  \\\n",
       "0            0         0         1                1  ...             0   \n",
       "1            0         2         1                1  ...             0   \n",
       "2            0         2         1                1  ...             0   \n",
       "3            0         2         1                1  ...             0   \n",
       "4            0         2         1                1  ...             0   \n",
       "\n",
       "   LIGHTCOND_Dark - No Street Lights  LIGHTCOND_Dark - Street Lights Off  \\\n",
       "0                                  0                                   0   \n",
       "1                                  0                                   0   \n",
       "2                                  0                                   0   \n",
       "3                                  0                                   0   \n",
       "4                                  0                                   0   \n",
       "\n",
       "   LIGHTCOND_Dark - Street Lights On  LIGHTCOND_Dark - Unknown Lighting  \\\n",
       "0                                  0                                  0   \n",
       "1                                  0                                  0   \n",
       "2                                  0                                  0   \n",
       "3                                  0                                  0   \n",
       "4                                  0                                  0   \n",
       "\n",
       "   LIGHTCOND_Dawn  LIGHTCOND_Daylight  LIGHTCOND_Dusk  LIGHTCOND_Other  \\\n",
       "0               0                   0               0                1   \n",
       "1               0                   1               0                0   \n",
       "2               0                   0               0                1   \n",
       "3               0                   1               0                0   \n",
       "4               0                   1               0                0   \n",
       "\n",
       "   LIGHTCOND_Unknown  \n",
       "0                  0  \n",
       "1                  0  \n",
       "2                  0  \n",
       "3                  0  \n",
       "4                  0  \n",
       "\n",
       "[5 rows x 59 columns]"
      ]
     },
     "execution_count": 67,
     "metadata": {},
     "output_type": "execute_result"
    }
   ],
   "source": [
    "Features = pd.concat([Features, pd.get_dummies(collisions_df[['COLLISIONTYPE', 'WEATHER', 'ROADCOND', 'LIGHTCOND']])], axis=1)\n",
    "Features.drop(['COLLISIONTYPE', 'WEATHER', 'ROADCOND', 'LIGHTCOND', 'ADDRTYPE', 'INTKEY'], axis = 1, inplace=True)\n",
    "Features.head()"
   ]
  },
  {
   "cell_type": "code",
   "execution_count": 68,
   "metadata": {},
   "outputs": [
    {
     "data": {
      "text/plain": [
       "Index(['longitude', 'latitude', 'STATUS', 'severity', 'PERSONCOUNT',\n",
       "       'PEDCOUNT', 'PEDCYLCOUNT', 'VEHCOUNT', 'INJURIES', 'SERIOUSINJURIES',\n",
       "       'FATALITIES', 'SDOT_COLCODE', 'INATTENTIONIND', 'UNDERINFL', 'SPEEDING',\n",
       "       'hourofday', 'morning', 'location', 'locality', 'COLLISIONTYPE_Angles',\n",
       "       'COLLISIONTYPE_Cycles', 'COLLISIONTYPE_Head On',\n",
       "       'COLLISIONTYPE_Left Turn', 'COLLISIONTYPE_Other',\n",
       "       'COLLISIONTYPE_Parked Car', 'COLLISIONTYPE_Pedestrian',\n",
       "       'COLLISIONTYPE_Rear Ended', 'COLLISIONTYPE_Right Turn',\n",
       "       'COLLISIONTYPE_Sideswipe', 'WEATHER_Blowing Sand/Dirt',\n",
       "       'WEATHER_Blowing Snow', 'WEATHER_Clear', 'WEATHER_Fog/Smog/Smoke',\n",
       "       'WEATHER_Other', 'WEATHER_Overcast', 'WEATHER_Partly Cloudy',\n",
       "       'WEATHER_Raining', 'WEATHER_Severe Crosswind',\n",
       "       'WEATHER_Sleet/Hail/Freezing Rain', 'WEATHER_Snowing',\n",
       "       'WEATHER_Unknown', 'ROADCOND_Dry', 'ROADCOND_Ice', 'ROADCOND_Oil',\n",
       "       'ROADCOND_Other', 'ROADCOND_Sand/Mud/Dirt', 'ROADCOND_Snow/Slush',\n",
       "       'ROADCOND_Standing Water', 'ROADCOND_Unknown', 'ROADCOND_Wet',\n",
       "       'LIGHTCOND_Dark - No Street Lights',\n",
       "       'LIGHTCOND_Dark - Street Lights Off',\n",
       "       'LIGHTCOND_Dark - Street Lights On',\n",
       "       'LIGHTCOND_Dark - Unknown Lighting', 'LIGHTCOND_Dawn',\n",
       "       'LIGHTCOND_Daylight', 'LIGHTCOND_Dusk', 'LIGHTCOND_Other',\n",
       "       'LIGHTCOND_Unknown'],\n",
       "      dtype='object')"
      ]
     },
     "execution_count": 68,
     "metadata": {},
     "output_type": "execute_result"
    }
   ],
   "source": [
    "Features.columns"
   ]
  },
  {
   "cell_type": "code",
   "execution_count": 69,
   "metadata": {},
   "outputs": [
    {
     "data": {
      "text/plain": [
       "(213674, 59)"
      ]
     },
     "execution_count": 69,
     "metadata": {},
     "output_type": "execute_result"
    }
   ],
   "source": [
    "Features.shape"
   ]
  },
  {
   "cell_type": "markdown",
   "metadata": {},
   "source": [
    "<hr color= \"red\"/> "
   ]
  },
  {
   "cell_type": "markdown",
   "metadata": {},
   "source": [
    "### Classification Features selection"
   ]
  },
  {
   "cell_type": "markdown",
   "metadata": {},
   "source": [
    "Now, we define the classification feature sets, X:"
   ]
  },
  {
   "cell_type": "code",
   "execution_count": 70,
   "metadata": {},
   "outputs": [],
   "source": [
    "# remove all the unknown or other conditions as they add very little interpretational or meaningful value\n",
    "# further refinement based on the earlier analysis done above\n",
    "full_short_listed = ['longitude', 'latitude', 'STATUS', 'PERSONCOUNT',\n",
    "       'PEDCOUNT', 'PEDCYLCOUNT', 'VEHCOUNT', 'INJURIES', 'SERIOUSINJURIES',\n",
    "       'FATALITIES', 'SDOT_COLCODE', 'INATTENTIONIND', 'UNDERINFL', 'SPEEDING',\n",
    "       'hourofday', 'morning', 'location', 'locality', 'COLLISIONTYPE_Angles',\n",
    "       'COLLISIONTYPE_Cycles', 'COLLISIONTYPE_Head On',\n",
    "       'COLLISIONTYPE_Left Turn', 'COLLISIONTYPE_Other',\n",
    "       'COLLISIONTYPE_Parked Car', 'COLLISIONTYPE_Pedestrian',\n",
    "       'COLLISIONTYPE_Rear Ended', 'COLLISIONTYPE_Right Turn',\n",
    "       'COLLISIONTYPE_Sideswipe', 'WEATHER_Blowing Sand/Dirt',\n",
    "       'WEATHER_Blowing Snow', 'WEATHER_Clear', 'WEATHER_Fog/Smog/Smoke',\n",
    "       'WEATHER_Other', 'WEATHER_Overcast', 'WEATHER_Partly Cloudy',\n",
    "       'WEATHER_Raining', 'WEATHER_Severe Crosswind',\n",
    "       'WEATHER_Sleet/Hail/Freezing Rain', 'WEATHER_Snowing',\n",
    "       'WEATHER_Unknown', 'ROADCOND_Dry', 'ROADCOND_Ice', 'ROADCOND_Oil',\n",
    "       'ROADCOND_Other', 'ROADCOND_Sand/Mud/Dirt', 'ROADCOND_Snow/Slush',\n",
    "       'ROADCOND_Standing Water', 'ROADCOND_Unknown', 'ROADCOND_Wet',\n",
    "       'LIGHTCOND_Dark - No Street Lights',\n",
    "       'LIGHTCOND_Dark - Street Lights Off',\n",
    "       'LIGHTCOND_Dark - Street Lights On',\n",
    "       'LIGHTCOND_Dark - Unknown Lighting', 'LIGHTCOND_Dawn',\n",
    "       'LIGHTCOND_Daylight', 'LIGHTCOND_Dusk', 'LIGHTCOND_Other',\n",
    "       'LIGHTCOND_Unknown']\n"
   ]
  },
  {
   "cell_type": "code",
   "execution_count": 87,
   "metadata": {},
   "outputs": [],
   "source": [
    "short_listed = ['STATUS', 'PERSONCOUNT',\n",
    "       'PEDCOUNT', 'PEDCYLCOUNT', 'VEHCOUNT', 'INJURIES', 'SERIOUSINJURIES',\n",
    "       'FATALITIES', 'SDOT_COLCODE', 'INATTENTIONIND', 'UNDERINFL', 'SPEEDING',\n",
    "       'hourofday', 'morning', 'location', 'locality', 'COLLISIONTYPE_Angles',\n",
    "       'COLLISIONTYPE_Cycles', 'COLLISIONTYPE_Head On',\n",
    "       'COLLISIONTYPE_Left Turn',\n",
    "       'COLLISIONTYPE_Parked Car', 'COLLISIONTYPE_Pedestrian',\n",
    "       'COLLISIONTYPE_Rear Ended', 'COLLISIONTYPE_Right Turn',\n",
    "       'COLLISIONTYPE_Sideswipe', 'WEATHER_Blowing Sand/Dirt',\n",
    "       'WEATHER_Blowing Snow', 'WEATHER_Clear', 'WEATHER_Fog/Smog/Smoke',\n",
    "       'WEATHER_Overcast', 'WEATHER_Partly Cloudy',\n",
    "       'WEATHER_Raining', 'WEATHER_Severe Crosswind',\n",
    "       'WEATHER_Sleet/Hail/Freezing Rain', 'WEATHER_Snowing',\n",
    "       'ROADCOND_Dry', 'ROADCOND_Ice', 'ROADCOND_Oil',\n",
    "       'ROADCOND_Sand/Mud/Dirt', 'ROADCOND_Snow/Slush',\n",
    "       'ROADCOND_Standing Water', 'ROADCOND_Wet',\n",
    "       'LIGHTCOND_Dark - No Street Lights',\n",
    "       'LIGHTCOND_Dark - Street Lights Off',\n",
    "       'LIGHTCOND_Dark - Street Lights On', 'LIGHTCOND_Dawn',\n",
    "       'LIGHTCOND_Daylight', 'LIGHTCOND_Dusk']"
   ]
  },
  {
   "cell_type": "code",
   "execution_count": 88,
   "metadata": {},
   "outputs": [],
   "source": [
    "short_listed_opt = ['UNDERINFL', 'SPEEDING', 'morning', 'WEATHER_Snowing'] # KNN = 0.6959460847767572 accuracy\n",
    "# make sure to update the following with the correct short_listed features\n",
    "short_listed_opt = short_listed # stores the optimal short list of features (<=50)"
   ]
  },
  {
   "cell_type": "markdown",
   "metadata": {},
   "source": [
    "### Prepare Complete Dataset:\n",
    "Hold the entire dataset as a whole but it will be broken into training & evaluation set and a testing set that is only used at the end"
   ]
  },
  {
   "cell_type": "code",
   "execution_count": 90,
   "metadata": {},
   "outputs": [
    {
     "data": {
      "text/plain": [
       "(213674, 48)"
      ]
     },
     "execution_count": 90,
     "metadata": {},
     "output_type": "execute_result"
    }
   ],
   "source": [
    "X_whole = Features[short_listed_opt]\n",
    "X_whole.shape"
   ]
  },
  {
   "cell_type": "markdown",
   "metadata": {},
   "source": [
    "**Observation:** The initial subset has 41 features. This is a very high number of features and it is expected that further rationalization will have to be made after the first run to reduce the number of features."
   ]
  },
  {
   "cell_type": "markdown",
   "metadata": {},
   "source": [
    "Lets prepare the target labels:<br/>\n",
    "*We are keen to correctly predict if a collision will result in injury (with greater implications) --> so, to simplify, we binarize the severity since the data set only contains data for 1=property damage or 2=injury*"
   ]
  },
  {
   "cell_type": "code",
   "execution_count": 91,
   "metadata": {},
   "outputs": [
    {
     "data": {
      "text/plain": [
       "(213674,)"
      ]
     },
     "execution_count": 91,
     "metadata": {},
     "output_type": "execute_result"
    }
   ],
   "source": [
    "y_whole = collisions_df['severity'].values\n",
    "y_whole.shape"
   ]
  },
  {
   "cell_type": "markdown",
   "metadata": {},
   "source": [
    "<hr color= \"red\"/> "
   ]
  },
  {
   "cell_type": "markdown",
   "metadata": {},
   "source": [
    "## Balance the Complete Dataset\n",
    "Evaluate either upsampling the minority class or downsampling the majority class approaches and then pick the better of the two. Refer to <a href=\"https://elitedatascience.com/imbalanced-classes\">How to Handle Imbalanced Classes in Machine LearningHow to Handle Imbalanced Classes in Machine Learning</a>"
   ]
  },
  {
   "cell_type": "code",
   "execution_count": 92,
   "metadata": {},
   "outputs": [
    {
     "name": "stdout",
     "output_type": "stream",
     "text": [
      "Unbalance class counts: 152696 , 60978\n",
      "Majority class shape: (152696, 49)\n",
      "Minority class shape: (60978, 49)\n",
      "Balanced class counts: 60978 , 60978\n"
     ]
    }
   ],
   "source": [
    "from sklearn.utils import resample\n",
    "\n",
    "#select 1=upsampling or 2=downsampling\n",
    "approach = 2\n",
    "unbalanced_df = X_whole.copy()\n",
    "unbalanced_df['severity'] = pd.Series(y_whole)\n",
    "# First, we'll separate observations from each class into different DataFrames\n",
    "print('Unbalance class counts:', unbalanced_df.severity.value_counts()[0], ',', unbalanced_df.severity.value_counts()[1])\n",
    "df_majority = unbalanced_df[unbalanced_df.severity == 0]\n",
    "df_minority = unbalanced_df[unbalanced_df.severity == 1]\n",
    "print('Majority class shape:', df_majority.shape)\n",
    "print('Minority class shape:', df_minority.shape)\n",
    "# Upsample minority class\n",
    "if (approach == 1):\n",
    "    df_minority_upsampled = resample(df_minority, replace=True, n_samples=len(df_majority), random_state=0)\n",
    "    # Combine majority class with upsampled minority class\n",
    "    balanced_df = pd.concat([df_majority, df_minority_upsampled])\n",
    "elif (approach == 2):\n",
    "    # Downsample majority class\n",
    "    df_majority_downsampled = resample(df_majority, replace=False, n_samples=len(df_minority), random_state=0)\n",
    "    # Combine majority class with upsampled minority class\n",
    "    balanced_df = pd.concat([df_minority, df_majority_downsampled])\n",
    "\n",
    "# Display new class counts\n",
    "print('Balanced class counts:', balanced_df.severity.value_counts()[0], ',', balanced_df.severity.value_counts()[1])"
   ]
  },
  {
   "cell_type": "markdown",
   "metadata": {},
   "source": [
    "#### Reconstitute the datasets:"
   ]
  },
  {
   "cell_type": "code",
   "execution_count": 93,
   "metadata": {},
   "outputs": [
    {
     "name": "stdout",
     "output_type": "stream",
     "text": [
      "X shape: (121956, 48)\n",
      "y shape: (121956,)\n"
     ]
    }
   ],
   "source": [
    "y_whole = balanced_df['severity']\n",
    "X_whole = balanced_df.drop(columns=['severity'])\n",
    "print('X shape:', X_whole.shape)\n",
    "print('y shape:', y_whole.shape)"
   ]
  },
  {
   "cell_type": "code",
   "execution_count": 94,
   "metadata": {},
   "outputs": [
    {
     "data": {
      "text/html": [
       "<div>\n",
       "<style scoped>\n",
       "    .dataframe tbody tr th:only-of-type {\n",
       "        vertical-align: middle;\n",
       "    }\n",
       "\n",
       "    .dataframe tbody tr th {\n",
       "        vertical-align: top;\n",
       "    }\n",
       "\n",
       "    .dataframe thead th {\n",
       "        text-align: right;\n",
       "    }\n",
       "</style>\n",
       "<table border=\"1\" class=\"dataframe\">\n",
       "  <thead>\n",
       "    <tr style=\"text-align: right;\">\n",
       "      <th></th>\n",
       "      <th>STATUS</th>\n",
       "      <th>PERSONCOUNT</th>\n",
       "      <th>PEDCOUNT</th>\n",
       "      <th>PEDCYLCOUNT</th>\n",
       "      <th>VEHCOUNT</th>\n",
       "      <th>INJURIES</th>\n",
       "      <th>SERIOUSINJURIES</th>\n",
       "      <th>FATALITIES</th>\n",
       "      <th>SDOT_COLCODE</th>\n",
       "      <th>INATTENTIONIND</th>\n",
       "      <th>...</th>\n",
       "      <th>ROADCOND_Sand/Mud/Dirt</th>\n",
       "      <th>ROADCOND_Snow/Slush</th>\n",
       "      <th>ROADCOND_Standing Water</th>\n",
       "      <th>ROADCOND_Wet</th>\n",
       "      <th>LIGHTCOND_Dark - No Street Lights</th>\n",
       "      <th>LIGHTCOND_Dark - Street Lights Off</th>\n",
       "      <th>LIGHTCOND_Dark - Street Lights On</th>\n",
       "      <th>LIGHTCOND_Dawn</th>\n",
       "      <th>LIGHTCOND_Daylight</th>\n",
       "      <th>LIGHTCOND_Dusk</th>\n",
       "    </tr>\n",
       "  </thead>\n",
       "  <tbody>\n",
       "    <tr>\n",
       "      <th>4</th>\n",
       "      <td>0</td>\n",
       "      <td>4</td>\n",
       "      <td>0</td>\n",
       "      <td>0</td>\n",
       "      <td>2</td>\n",
       "      <td>1</td>\n",
       "      <td>1</td>\n",
       "      <td>1</td>\n",
       "      <td>11.0</td>\n",
       "      <td>1</td>\n",
       "      <td>...</td>\n",
       "      <td>0</td>\n",
       "      <td>0</td>\n",
       "      <td>0</td>\n",
       "      <td>0</td>\n",
       "      <td>0</td>\n",
       "      <td>0</td>\n",
       "      <td>0</td>\n",
       "      <td>0</td>\n",
       "      <td>1</td>\n",
       "      <td>0</td>\n",
       "    </tr>\n",
       "    <tr>\n",
       "      <th>10</th>\n",
       "      <td>0</td>\n",
       "      <td>1</td>\n",
       "      <td>0</td>\n",
       "      <td>0</td>\n",
       "      <td>1</td>\n",
       "      <td>1</td>\n",
       "      <td>1</td>\n",
       "      <td>1</td>\n",
       "      <td>28.0</td>\n",
       "      <td>0</td>\n",
       "      <td>...</td>\n",
       "      <td>0</td>\n",
       "      <td>0</td>\n",
       "      <td>0</td>\n",
       "      <td>1</td>\n",
       "      <td>0</td>\n",
       "      <td>0</td>\n",
       "      <td>0</td>\n",
       "      <td>0</td>\n",
       "      <td>1</td>\n",
       "      <td>0</td>\n",
       "    </tr>\n",
       "  </tbody>\n",
       "</table>\n",
       "<p>2 rows × 48 columns</p>\n",
       "</div>"
      ],
      "text/plain": [
       "    STATUS  PERSONCOUNT  PEDCOUNT  PEDCYLCOUNT  VEHCOUNT  INJURIES  \\\n",
       "4        0            4         0            0         2         1   \n",
       "10       0            1         0            0         1         1   \n",
       "\n",
       "    SERIOUSINJURIES  FATALITIES  SDOT_COLCODE  INATTENTIONIND  ...  \\\n",
       "4                 1           1          11.0               1  ...   \n",
       "10                1           1          28.0               0  ...   \n",
       "\n",
       "    ROADCOND_Sand/Mud/Dirt  ROADCOND_Snow/Slush  ROADCOND_Standing Water  \\\n",
       "4                        0                    0                        0   \n",
       "10                       0                    0                        0   \n",
       "\n",
       "    ROADCOND_Wet  LIGHTCOND_Dark - No Street Lights  \\\n",
       "4              0                                  0   \n",
       "10             1                                  0   \n",
       "\n",
       "    LIGHTCOND_Dark - Street Lights Off  LIGHTCOND_Dark - Street Lights On  \\\n",
       "4                                    0                                  0   \n",
       "10                                   0                                  0   \n",
       "\n",
       "    LIGHTCOND_Dawn  LIGHTCOND_Daylight  LIGHTCOND_Dusk  \n",
       "4                0                   1               0  \n",
       "10               0                   1               0  \n",
       "\n",
       "[2 rows x 48 columns]"
      ]
     },
     "execution_count": 94,
     "metadata": {},
     "output_type": "execute_result"
    }
   ],
   "source": [
    "X_whole.head(2)"
   ]
  },
  {
   "cell_type": "markdown",
   "metadata": {},
   "source": [
    "<hr color= \"red\"/> "
   ]
  },
  {
   "cell_type": "markdown",
   "metadata": {},
   "source": [
    "## Data Normalization\n",
    "Normalize the features - in this case, scale is not a huge problem but we do it for completeness."
   ]
  },
  {
   "cell_type": "code",
   "execution_count": 95,
   "metadata": {},
   "outputs": [
    {
     "data": {
      "text/plain": [
       "array([[-0.30346519,  1.25307887, -0.25194033, -0.21829099,  0.32446484,\n",
       "        -0.01402965,  0.        , -0.01145478, -0.40292364,  2.39345083,\n",
       "        -0.22977589, -0.22597332, -0.21944937, -0.94945378, -1.43166421,\n",
       "         1.76923695,  2.10290146, -0.21682334, -0.10911755, -0.28284647,\n",
       "        -0.44750399, -0.25033525, -0.4700942 , -0.11515303, -0.28011514,\n",
       "        -0.015154  , -0.00286352,  0.89816592, -0.0526398 , -0.39750683,\n",
       "        -0.00640313, -0.44250558, -0.01032508, -0.02513512, -0.06159866,\n",
       "         0.78289117, -0.07217473, -0.01694317, -0.01833848, -0.06486652,\n",
       "        -0.0221861 , -0.55318932, -0.08084921, -0.0761977 , -0.55500948,\n",
       "        -0.11290237,  0.85253189, -0.17380393]])"
      ]
     },
     "execution_count": 95,
     "metadata": {},
     "output_type": "execute_result"
    }
   ],
   "source": [
    "from sklearn.preprocessing import StandardScaler\n",
    "X_whole_scaled = StandardScaler().fit_transform(X_whole)\n",
    "X_whole_scaled[0:1]"
   ]
  },
  {
   "cell_type": "markdown",
   "metadata": {},
   "source": [
    "## Split Complete Normalized Balanced Dataset \n",
    "The complete data can then be split into 1) Training & Evaluation 2) Testing:"
   ]
  },
  {
   "cell_type": "code",
   "execution_count": 96,
   "metadata": {},
   "outputs": [
    {
     "name": "stdout",
     "output_type": "stream",
     "text": [
      "Train set (Training & Evaluation): (109760, 48) (109760,)\n",
      "Test set (Final Testing): (12196, 48) (12196,)\n"
     ]
    }
   ],
   "source": [
    "from sklearn.model_selection import train_test_split\n",
    "test_prop = 0.10 # retain proportion of the data for the final testing phase\n",
    "X_whole_train, X_whole_test, y_whole_train, y_whole_test = train_test_split(X_whole_scaled, y_whole, test_size=test_prop, random_state=0)\n",
    "print ('Train set (Training & Evaluation):', X_whole_train.shape,  y_whole_train.shape)\n",
    "print ('Test set (Final Testing):', X_whole_test.shape,  y_whole_test.shape)"
   ]
  },
  {
   "cell_type": "markdown",
   "metadata": {},
   "source": [
    "***Note the portion specifically for training and evaluation going forward:***"
   ]
  },
  {
   "cell_type": "code",
   "execution_count": 97,
   "metadata": {},
   "outputs": [],
   "source": [
    "X = X_whole_train\n",
    "y = y_whole_train"
   ]
  },
  {
   "cell_type": "markdown",
   "metadata": {},
   "source": [
    "### Training & Evaluation Dataset:\n",
    "Now split the Training & Evaluation dataset for training and evaluation as usual."
   ]
  },
  {
   "cell_type": "code",
   "execution_count": 98,
   "metadata": {},
   "outputs": [
    {
     "name": "stdout",
     "output_type": "stream",
     "text": [
      "Train set: (87808, 48) (87808,)\n",
      "Test set: (21952, 48) (21952,)\n"
     ]
    }
   ],
   "source": [
    "test_prop = 0.20 # retain proportion of the data for the evaluation after training\n",
    "X_train, X_test, y_train, y_test = train_test_split(X, y, test_size=test_prop, random_state=0)\n",
    "print ('Train set:', X_train.shape,  y_train.shape)\n",
    "print ('Test set:', X_test.shape,  y_test.shape)"
   ]
  },
  {
   "cell_type": "markdown",
   "metadata": {},
   "source": [
    "## Feature Selection & Dimensionality Reduction\n",
    "Determine the most important or impactful features using Decision Tree Classifier:Determine the most important or impactful features using Decision Tree Classifier. The feature selection is done using a DecisionTree algorithm and dimensionality reduction is done with <a href=\"https://web.stanford.edu/~hastie/Papers/spc_jcgs.pdf\">SparsePCA</a>.\n"
   ]
  },
  {
   "cell_type": "code",
   "execution_count": 100,
   "metadata": {},
   "outputs": [
    {
     "name": "stdout",
     "output_type": "stream",
     "text": [
      "Feature selection model accuracy(f1):  0.6787413099158434\n",
      "Feature importances: [9.81495634e-02 8.83969073e-02 4.33945956e-02 2.78329877e-02\n",
      " 1.41242722e-02 1.95725200e-04 0.00000000e+00 5.89659609e-05\n",
      " 4.43734143e-02 2.33765898e-02 1.37706894e-02 9.44921122e-03\n",
      " 1.66006989e-01 6.64152287e-03 2.51684293e-02 1.25973775e-01\n",
      " 3.89345327e-03 2.11422844e-04 2.72055047e-03 3.96820354e-03\n",
      " 1.18411576e-01 1.28545375e-03 6.04839099e-03 3.03920819e-03\n",
      " 3.30644349e-02 1.54730007e-04 4.13182645e-05 1.96529435e-02\n",
      " 1.92061917e-03 1.96040181e-02 0.00000000e+00 1.42697436e-02\n",
      " 1.91930979e-04 3.88196194e-04 1.86888665e-03 1.81088378e-02\n",
      " 2.51348786e-03 3.33448123e-04 1.28735101e-04 1.51023065e-03\n",
      " 2.81800860e-04 1.58666933e-02 2.59225835e-03 3.02705521e-03\n",
      " 1.32762448e-02 4.05287903e-03 1.33543117e-02 7.30529863e-03]\n"
     ]
    }
   ],
   "source": [
    "tree_depths = 40 # relatively high to explore as many conttributing features in the decision as possible\n",
    "# Train and predict with a feature selection model\n",
    "selection_model = DecisionTreeClassifier(criterion=\"entropy\", max_depth = tree_depths).fit(X_train, y_train)\n",
    "selection_yhat = selection_model.predict(X_test)\n",
    "selection_accuracy = f1_score(y_test, selection_yhat) # indicative accuracy score only using preferred metric (F1-Score)\n",
    "print('Feature selection model accuracy(f1): ', selection_accuracy)\n",
    "print('Feature importances:', selection_model.feature_importances_)"
   ]
  },
  {
   "cell_type": "code",
   "execution_count": 101,
   "metadata": {},
   "outputs": [
    {
     "name": "stdout",
     "output_type": "stream",
     "text": [
      "Top feature hourofday is at index 12\n"
     ]
    },
    {
     "data": {
      "text/plain": [
       "array(['hourofday', 'locality', 'COLLISIONTYPE_Parked Car', 'STATUS',\n",
       "       'PERSONCOUNT', 'SDOT_COLCODE', 'PEDCOUNT',\n",
       "       'COLLISIONTYPE_Sideswipe', 'PEDCYLCOUNT', 'location',\n",
       "       'INATTENTIONIND', 'WEATHER_Clear', 'WEATHER_Overcast',\n",
       "       'ROADCOND_Dry', 'ROADCOND_Wet', 'WEATHER_Raining', 'VEHCOUNT',\n",
       "       'UNDERINFL', 'LIGHTCOND_Daylight',\n",
       "       'LIGHTCOND_Dark - Street Lights On', 'SPEEDING', 'LIGHTCOND_Dusk',\n",
       "       'morning', 'COLLISIONTYPE_Rear Ended', 'LIGHTCOND_Dawn',\n",
       "       'COLLISIONTYPE_Left Turn', 'COLLISIONTYPE_Angles',\n",
       "       'COLLISIONTYPE_Right Turn', 'LIGHTCOND_Dark - Street Lights Off',\n",
       "       'COLLISIONTYPE_Head On', 'LIGHTCOND_Dark - No Street Lights',\n",
       "       'ROADCOND_Ice', 'WEATHER_Fog/Smog/Smoke', 'WEATHER_Snowing',\n",
       "       'ROADCOND_Snow/Slush', 'COLLISIONTYPE_Pedestrian',\n",
       "       'WEATHER_Sleet/Hail/Freezing Rain', 'ROADCOND_Oil',\n",
       "       'ROADCOND_Standing Water', 'COLLISIONTYPE_Cycles', 'INJURIES',\n",
       "       'WEATHER_Severe Crosswind', 'WEATHER_Blowing Sand/Dirt',\n",
       "       'ROADCOND_Sand/Mud/Dirt', 'FATALITIES', 'WEATHER_Blowing Snow',\n",
       "       'SERIOUSINJURIES', 'WEATHER_Partly Cloudy'], dtype='<U34')"
      ]
     },
     "execution_count": 101,
     "metadata": {},
     "output_type": "execute_result"
    }
   ],
   "source": [
    "feature_importances = selection_model.feature_importances_\n",
    "top_feature_index = np.argmax(feature_importances)\n",
    "print('Top feature', short_listed_opt[top_feature_index], 'is at index', top_feature_index)\n",
    "indices = np.argsort(feature_importances)[::-1] # in descending order\n",
    "# prepare sorted features\n",
    "sorted_features = np.array([short_listed_opt[feat] for feat in indices])\n",
    "sorted_features"
   ]
  },
  {
   "cell_type": "markdown",
   "metadata": {},
   "source": [
    "#### Plot the feature importances:"
   ]
  },
  {
   "cell_type": "code",
   "execution_count": 102,
   "metadata": {},
   "outputs": [],
   "source": [
    "def plot_feature_importances(sorted_importances, feature_names):\n",
    "    c_features = len(feature_names)\n",
    "    plt.barh(range(c_features), sorted_importances)\n",
    "    plt.xlabel(\"Feature importance\")\n",
    "    plt.ylabel(\"Feature name\")\n",
    "    plt.yticks(np.arange(c_features), feature_names)"
   ]
  },
  {
   "cell_type": "code",
   "execution_count": 103,
   "metadata": {},
   "outputs": [
    {
     "name": "stdout",
     "output_type": "stream",
     "text": [
      "Features.size: 48\n"
     ]
    },
    {
     "data": {
      "image/png": "[encoded data removed]",
      "text/plain": [
       "<Figure size 640x960 with 1 Axes>"
      ]
     },
     "metadata": {
      "needs_background": "light"
     },
     "output_type": "display_data"
    }
   ],
   "source": [
    "print('Features.size:', len(short_listed_opt))\n",
    "plt.figure(figsize=(8, 12), dpi=80)\n",
    "plot_feature_importances(feature_importances[indices], sorted_features)\n",
    "plt.show()"
   ]
  },
  {
   "cell_type": "markdown",
   "metadata": {},
   "source": [
    "#### List the sorted features according to their importances:"
   ]
  },
  {
   "cell_type": "code",
   "execution_count": 106,
   "metadata": {},
   "outputs": [],
   "source": [
    "importances_df = pd.DataFrame(data=feature_importances[indices], index=sorted_features, columns=['Importance'])\n",
    "#print('Feature importances: {}'.format(feature_importances[indices]))\n",
    "\n",
    "num_features_selected = 36 # based on the importances plotted\n",
    "#importances_df.iloc[:num_features_selected]"
   ]
  },
  {
   "cell_type": "markdown",
   "metadata": {},
   "source": [
    "#### Note the number of features selected:"
   ]
  },
  {
   "cell_type": "code",
   "execution_count": 107,
   "metadata": {},
   "outputs": [
    {
     "data": {
      "text/plain": [
       "Index(['hourofday', 'locality', 'COLLISIONTYPE_Parked Car', 'STATUS',\n",
       "       'PERSONCOUNT', 'SDOT_COLCODE', 'PEDCOUNT', 'COLLISIONTYPE_Sideswipe',\n",
       "       'PEDCYLCOUNT', 'location', 'INATTENTIONIND', 'WEATHER_Clear',\n",
       "       'WEATHER_Overcast', 'ROADCOND_Dry', 'ROADCOND_Wet', 'WEATHER_Raining',\n",
       "       'VEHCOUNT', 'UNDERINFL', 'LIGHTCOND_Daylight',\n",
       "       'LIGHTCOND_Dark - Street Lights On', 'SPEEDING', 'LIGHTCOND_Dusk',\n",
       "       'morning', 'COLLISIONTYPE_Rear Ended', 'LIGHTCOND_Dawn',\n",
       "       'COLLISIONTYPE_Left Turn', 'COLLISIONTYPE_Angles',\n",
       "       'COLLISIONTYPE_Right Turn', 'LIGHTCOND_Dark - Street Lights Off',\n",
       "       'COLLISIONTYPE_Head On', 'LIGHTCOND_Dark - No Street Lights',\n",
       "       'ROADCOND_Ice', 'WEATHER_Fog/Smog/Smoke', 'WEATHER_Snowing',\n",
       "       'ROADCOND_Snow/Slush', 'COLLISIONTYPE_Pedestrian'],\n",
       "      dtype='object')"
      ]
     },
     "execution_count": 107,
     "metadata": {},
     "output_type": "execute_result"
    }
   ],
   "source": [
    "selected_features = importances_df.iloc[:num_features_selected]\n",
    "selected_features.index"
   ]
  },
  {
   "cell_type": "markdown",
   "metadata": {},
   "source": [
    "### Attempt dimentionality reduction using PCA:"
   ]
  },
  {
   "cell_type": "code",
   "execution_count": 108,
   "metadata": {},
   "outputs": [
    {
     "data": {
      "text/plain": [
       "array([[-1.13966774, -0.22167903],\n",
       "       [ 1.18498638,  1.24991583],\n",
       "       [ 0.3860888 , -3.04991983],\n",
       "       [ 0.18917796,  0.32271799],\n",
       "       [-0.0257875 ,  1.57437212]])"
      ]
     },
     "execution_count": 108,
     "metadata": {},
     "output_type": "execute_result"
    }
   ],
   "source": [
    "n_components = 2 # keep numbers of features low or lower\n",
    "pca = SparsePCA(n_components=n_components)\n",
    "X_pca = pca.fit_transform(X)\n",
    "X = X_pca # may comment this out if ...\n",
    "X[0:5]"
   ]
  },
  {
   "cell_type": "markdown",
   "metadata": {},
   "source": [
    "#### Plot the outcome of dimensionality reduction"
   ]
  },
  {
   "cell_type": "code",
   "execution_count": 109,
   "metadata": {},
   "outputs": [
    {
     "data": {
      "image/png": "[encoded data removed]",
      "text/plain": [
       "<Figure size 432x432 with 1 Axes>"
      ]
     },
     "metadata": {
      "needs_background": "light"
     },
     "output_type": "display_data"
    }
   ],
   "source": [
    "colors = ['lime', 'purple']\n",
    "target_names = ['injury', 'property damage']\n",
    "plt.figure(figsize=(6, 6))\n",
    "#plot the top two latent features\n",
    "for color, i, target_name in zip(colors, [0, 1], target_names):\n",
    "    plt.scatter(X_pca[y == i, 0], X_pca[y == i, 1], color=color, lw=2, label=target_name)\n",
    "\n",
    "plt.title('PCA - Collisions')\n",
    "plt.legend(loc='best', shadow=False, scatterpoints=1)\n",
    "plt.axis([-1, 2, -1.6, 1.6])\n",
    "plt.show()"
   ]
  },
  {
   "cell_type": "markdown",
   "metadata": {},
   "source": [
    "# Model Development and Classification"
   ]
  },
  {
   "cell_type": "markdown",
   "metadata": {},
   "source": [
    "A training set is used to build a accurate model, based on a set of classifiers. A test set is used to evaluate the accuracy of classifiers. Thereafter, the best classifier model is selected.\n",
    "\n",
    "The following candidate classifier algorithms are evaluated:\n",
    "- K Nearest Neighbor(KNN) (*typically, simple and expected to do a good jobs*)\n",
    "- Decision Tree (DT)\n",
    "- Gradient Boosted Decision Trees (GBDT) (*using an ensemble of classifiers*)"
   ]
  },
  {
   "cell_type": "markdown",
   "metadata": {},
   "source": [
    "### Prepare the Training and Test Sets"
   ]
  },
  {
   "cell_type": "code",
   "execution_count": 110,
   "metadata": {},
   "outputs": [
    {
     "name": "stdout",
     "output_type": "stream",
     "text": [
      "Train set (training models): (82320, 2) (82320,)\n",
      "Test set (evaluating models): (27440, 2) (27440,)\n"
     ]
    }
   ],
   "source": [
    "test_prop = 0.25 # proportion of data set reserved for evaluation or testing\n",
    "X_train, X_test, y_train, y_test = train_test_split(X, y, test_size=test_prop, random_state=0)\n",
    "print ('Train set (training models):', X_train.shape,  y_train.shape)\n",
    "print ('Test set (evaluating models):', X_test.shape,  y_test.shape)"
   ]
  },
  {
   "cell_type": "markdown",
   "metadata": {},
   "source": [
    "### Set up how the models will be evaluated (using cross-validation):"
   ]
  },
  {
   "cell_type": "markdown",
   "metadata": {},
   "source": [
    "For Evaluating the Models:<br/>\n",
    "*First, review the list of possible evaluation scorers*"
   ]
  },
  {
   "cell_type": "code",
   "execution_count": 111,
   "metadata": {},
   "outputs": [
    {
     "data": {
      "text/plain": [
       "dict_keys(['explained_variance', 'r2', 'max_error', 'neg_median_absolute_error', 'neg_mean_absolute_error', 'neg_mean_squared_error', 'neg_mean_squared_log_error', 'neg_root_mean_squared_error', 'neg_mean_poisson_deviance', 'neg_mean_gamma_deviance', 'accuracy', 'roc_auc', 'roc_auc_ovr', 'roc_auc_ovo', 'roc_auc_ovr_weighted', 'roc_auc_ovo_weighted', 'balanced_accuracy', 'average_precision', 'neg_log_loss', 'neg_brier_score', 'adjusted_rand_score', 'homogeneity_score', 'completeness_score', 'v_measure_score', 'mutual_info_score', 'adjusted_mutual_info_score', 'normalized_mutual_info_score', 'fowlkes_mallows_score', 'precision', 'precision_macro', 'precision_micro', 'precision_samples', 'precision_weighted', 'recall', 'recall_macro', 'recall_micro', 'recall_samples', 'recall_weighted', 'f1', 'f1_macro', 'f1_micro', 'f1_samples', 'f1_weighted', 'jaccard', 'jaccard_macro', 'jaccard_micro', 'jaccard_samples', 'jaccard_weighted'])"
      ]
     },
     "execution_count": 111,
     "metadata": {},
     "output_type": "execute_result"
    }
   ],
   "source": [
    "SCORERS.keys()"
   ]
  },
  {
   "cell_type": "markdown",
   "metadata": {},
   "source": [
    "# K Nearest Neighbor (KNN)"
   ]
  },
  {
   "cell_type": "code",
   "execution_count": 112,
   "metadata": {},
   "outputs": [
    {
     "name": "stdout",
     "output_type": "stream",
     "text": [
      "The best accuracy was 0.6736516034985423 with k= 11\n"
     ]
    },
    {
     "data": {
      "image/png": "[encoded data removed]",
      "text/plain": [
       "<Figure size 432x288 with 1 Axes>"
      ]
     },
     "metadata": {
      "needs_background": "light"
     },
     "output_type": "display_data"
    }
   ],
   "source": [
    "# Calculate the accuracy of KNN for different Ks\n",
    "Ks = 13\n",
    "mean_acc = np.zeros((Ks-1))\n",
    "std_acc = np.zeros((Ks-1))\n",
    "for n in range(1,Ks):\n",
    "    #Train Model and Predict  \n",
    "    neigh = KNeighborsClassifier(n_neighbors = n).fit(X_train,y_train)\n",
    "    yhat=neigh.predict(X_test)\n",
    "    mean_acc[n-1] = np.mean(y_test == yhat)\n",
    "    std_acc[n-1]=np.std(yhat==y_test)/np.sqrt(yhat.shape[0])\n",
    "print( \"The best accuracy was\", mean_acc.max(), \"with k=\", mean_acc.argmax()+1) \n",
    "# Plot model accuracy for different number of Neighbors\n",
    "plt.plot(range(1,Ks),mean_acc,'g')\n",
    "plt.fill_between(range(1,Ks),mean_acc - 1 * std_acc,mean_acc + 1 * std_acc, alpha=0.10)\n",
    "plt.legend(('Accuracy ', '+/- 3xstd'))\n",
    "plt.ylabel('Accuracy ')\n",
    "plt.xlabel('Number of Nabors (K)')\n",
    "plt.tight_layout()\n",
    "plt.show()"
   ]
  },
  {
   "cell_type": "code",
   "execution_count": 113,
   "metadata": {},
   "outputs": [
    {
     "data": {
      "text/plain": [
       "KNeighborsClassifier(n_neighbors=11)"
      ]
     },
     "execution_count": 113,
     "metadata": {},
     "output_type": "execute_result"
    }
   ],
   "source": [
    "# Finally, train Model using the best k\n",
    "k = 11 # optimal k from above\n",
    "knn_model = KNeighborsClassifier(n_neighbors = k)\n",
    "knn_model"
   ]
  },
  {
   "cell_type": "code",
   "execution_count": 114,
   "metadata": {},
   "outputs": [
    {
     "name": "stdout",
     "output_type": "stream",
     "text": [
      "Cross-validation (accuracy) 0.6740160349854227\n",
      "Cross-validation (AUC) 0.749807457800076\n",
      "Cross-validation (recall) 0.7134080758362957\n",
      "Cross-validation (precision) 0.6751177377873919\n",
      "Cross-validation (f1) 0.6862724618709828\n"
     ]
    }
   ],
   "source": [
    "# Evaluate model: accuracy is the default scoring metric\n",
    "print('Cross-validation (accuracy)', np.average(cross_val_score(knn_model, X, y, cv=5)))\n",
    "# use AUC as scoring metric\n",
    "print('Cross-validation (AUC)', np.average(cross_val_score(knn_model, X, y, cv=5, scoring = 'roc_auc')))\n",
    "# use recall as scoring metric\n",
    "print('Cross-validation (recall)', np.average(cross_val_score(knn_model, X, y, cv=5, scoring = 'recall')))\n",
    "# use precision as scoring metric\n",
    "print('Cross-validation (precision)', np.average(cross_val_score(knn_model, X, y, cv=5, scoring = 'precision_macro')))\n",
    "# use f1 as scoring metric\n",
    "print('Cross-validation (f1)', np.average(cross_val_score(knn_model, X, y, cv=5, scoring = 'f1')))"
   ]
  },
  {
   "cell_type": "markdown",
   "metadata": {},
   "source": [
    "# Decision Tree (DT)"
   ]
  },
  {
   "cell_type": "code",
   "execution_count": 115,
   "metadata": {},
   "outputs": [
    {
     "name": "stdout",
     "output_type": "stream",
     "text": [
      "The best accuracy was 0.6669460641399417 with max_depth = 18\n"
     ]
    },
    {
     "data": {
      "image/png": "[encoded data removed]",
      "text/plain": [
       "<Figure size 432x288 with 1 Axes>"
      ]
     },
     "metadata": {
      "needs_background": "light"
     },
     "output_type": "display_data"
    }
   ],
   "source": [
    "# Calculate the accuracy of tree classifier for different depths\n",
    "tree_depths = 20\n",
    "mean_acc = np.zeros((tree_depths-1))\n",
    "std_acc = np.zeros((tree_depths-1))\n",
    "for n in range(1,tree_depths):\n",
    "    #Train Model and Predict\n",
    "    tree_classifier = DecisionTreeClassifier(criterion=\"entropy\", max_depth = n)\n",
    "    tree_classifier.fit(X_train,y_train)\n",
    "    yhat=tree_classifier.predict(X_test)\n",
    "    mean_acc[n-1] = np.mean(y_test == yhat)\n",
    "    std_acc[n-1]=np.std(yhat==y_test)/np.sqrt(yhat.shape[0])\n",
    "print( \"The best accuracy was\", mean_acc.max(), \"with max_depth =\", mean_acc.argmax()+1) \n",
    "# Plot model accuracy for different tree depths\n",
    "plt.plot(range(1,tree_depths),mean_acc,'g')\n",
    "plt.fill_between(range(1,tree_depths),mean_acc - 1 * std_acc,mean_acc + 1 * std_acc, alpha=0.10)\n",
    "plt.legend(('Accuracy ', '+/- 3xstd'))\n",
    "plt.ylabel('Accuracy ')\n",
    "plt.xlabel('Tree depth (max_depth)')\n",
    "plt.tight_layout()\n",
    "plt.show()"
   ]
  },
  {
   "cell_type": "code",
   "execution_count": 118,
   "metadata": {},
   "outputs": [
    {
     "data": {
      "text/plain": [
       "DecisionTreeClassifier(criterion='entropy', max_depth=18)"
      ]
     },
     "execution_count": 118,
     "metadata": {},
     "output_type": "execute_result"
    }
   ],
   "source": [
    "# Train Model and Predict\n",
    "tree_depths = 18 # optimal depth from above\n",
    "tree_model = DecisionTreeClassifier(criterion=\"entropy\", max_depth = tree_depths)\n",
    "tree_model"
   ]
  },
  {
   "cell_type": "code",
   "execution_count": 119,
   "metadata": {},
   "outputs": [
    {
     "name": "stdout",
     "output_type": "stream",
     "text": [
      "Cross-validation (accuracy) 0.6657343294460641\n",
      "Cross-validation (AUC) 0.7295660760101278\n",
      "Cross-validation (recall) 0.7231246012214019\n",
      "Cross-validation (precision) 0.6682730617397976\n",
      "Cross-validation (f1) 0.683714879901336\n"
     ]
    }
   ],
   "source": [
    "# Evaluate model: accuracy is the default scoring metric\n",
    "print('Cross-validation (accuracy)', np.average(cross_val_score(tree_model, X, y, cv=5)))\n",
    "# use AUC as scoring metric\n",
    "print('Cross-validation (AUC)', np.average(cross_val_score(tree_model, X, y, cv=5, scoring = 'roc_auc')))\n",
    "# use recall as scoring metric\n",
    "print('Cross-validation (recall)', np.average(cross_val_score(tree_model, X, y, cv=5, scoring = 'recall')))\n",
    "# use precision as scoring metric\n",
    "print('Cross-validation (precision)', np.average(cross_val_score(tree_model, X, y, cv=5, scoring = 'precision_macro')))\n",
    "# use f1 as scoring metric\n",
    "print('Cross-validation (f1)', np.average(cross_val_score(tree_model, X, y, cv=5, scoring = 'f1')))"
   ]
  },
  {
   "cell_type": "markdown",
   "metadata": {},
   "source": [
    "# Gradient Boosted Decision Trees (GBDT)"
   ]
  },
  {
   "cell_type": "code",
   "execution_count": 123,
   "metadata": {},
   "outputs": [
    {
     "name": "stdout",
     "output_type": "stream",
     "text": [
      "The best accuracy was 0.6666909620991254 with n_estimators = 300\n"
     ]
    },
    {
     "data": {
      "image/png": "[encoded data removed]",
      "text/plain": [
       "<Figure size 432x288 with 1 Axes>"
      ]
     },
     "metadata": {
      "needs_background": "light"
     },
     "output_type": "display_data"
    }
   ],
   "source": [
    "# Calculate the accuracy of SVM for different C, and degree, and gamma\n",
    "start = 100\n",
    "stop = 401\n",
    "step = 50 # based on the setup above\n",
    "n_estimators = range(start, stop, step) # e.g. [25, 50, 75, 100]\n",
    "max_depth = 5 # leveraging from DT analysis above\n",
    "learning_rate = 0.1\n",
    "random_state = 0 # ensure repeatable\n",
    "mean_acc = np.zeros(len(n_estimators))\n",
    "std_acc = np.zeros(len(n_estimators))\n",
    "for c, this_estimators in enumerate(n_estimators):\n",
    "    gb_classifier = GradientBoostingClassifier(n_estimators=this_estimators, max_depth=max_depth, \\\n",
    "                                                 learning_rate=learning_rate, random_state=random_state)\n",
    "    gb_classifier.fit(X_train, y_train)\n",
    "    yhat = gb_classifier.predict(X_test)\n",
    "    mean_acc[c] = np.mean(y_test == yhat)\n",
    "    std_acc[c] = np.std(yhat==y_test)/np.sqrt(yhat.shape[0])\n",
    "\n",
    "print( \"The best accuracy was\", mean_acc.max(), \"with n_estimators =\", n_estimators[mean_acc.argmax()]) \n",
    "# Plot model accuracy for different n_estimators\n",
    "plt.plot(range(start, stop, step), mean_acc,'g')\n",
    "plt.fill_between(range(start, stop, step), mean_acc - 1 * std_acc,mean_acc + 1 * std_acc, alpha=0.10)\n",
    "plt.legend(('Accuracy ', '+/- 3xstd'))\n",
    "plt.ylabel('Accuracy ')\n",
    "plt.xlabel('#Estimators (n_estimators)')\n",
    "plt.tight_layout()\n",
    "plt.show()"
   ]
  },
  {
   "cell_type": "code",
   "execution_count": 125,
   "metadata": {},
   "outputs": [
    {
     "data": {
      "text/plain": [
       "GradientBoostingClassifier(max_depth=5, n_estimators=300, random_state=0)"
      ]
     },
     "execution_count": 125,
     "metadata": {},
     "output_type": "execute_result"
    }
   ],
   "source": [
    "# Finally, train Model using the best parameters\n",
    "n_estimators = 300\n",
    "max_depth = 5 # leveraging from DT analysis above\n",
    "learning_rate = 0.1\n",
    "random_state = 0 # ensure repeatable\n",
    "gbdt_model = GradientBoostingClassifier(n_estimators=n_estimators, max_depth=max_depth, \\\n",
    "                                                 learning_rate=learning_rate, random_state=random_state)\n",
    "gbdt_model"
   ]
  },
  {
   "cell_type": "code",
   "execution_count": 126,
   "metadata": {},
   "outputs": [
    {
     "name": "stdout",
     "output_type": "stream",
     "text": [
      "Cross-validation (accuracy) 0.6626731049562682\n",
      "Cross-validation (AUC) 0.7384899864101081\n",
      "Cross-validation (recall) 0.7238537756761171\n",
      "Cross-validation (precision) 0.6651658449045884\n",
      "Cross-validation (f1) 0.6820220398612824\n"
     ]
    }
   ],
   "source": [
    "# Evaluate model: accuracy is the default scoring metric\n",
    "print('Cross-validation (accuracy)', np.average(cross_val_score(gbdt_model, X, y, cv=2)))\n",
    "# use AUC as scoring metric\n",
    "print('Cross-validation (AUC)', np.average(cross_val_score(gbdt_model, X, y, cv=2, scoring = 'roc_auc')))\n",
    "# use recall as scoring metric\n",
    "print('Cross-validation (recall)', np.average(cross_val_score(gbdt_model, X, y, cv=2, scoring = 'recall')))\n",
    "# use precision as scoring metric\n",
    "print('Cross-validation (precision)', np.average(cross_val_score(gbdt_model, X, y, cv=2, scoring = 'precision_macro')))\n",
    "# use f1 as scoring metric\n",
    "print('Cross-validation (f1)', np.average(cross_val_score(gbdt_model, X, y, cv=2, scoring = 'f1')))"
   ]
  },
  {
   "cell_type": "markdown",
   "metadata": {},
   "source": [
    "# Final Model Testing\n",
    "Test the classifiers using the final data set set aside earlier."
   ]
  },
  {
   "cell_type": "code",
   "execution_count": 143,
   "metadata": {},
   "outputs": [
    {
     "data": {
      "text/plain": [
       "array([[-1.13966774, -0.22167903],\n",
       "       [ 1.18498638,  1.24991583],\n",
       "       [ 0.3860888 , -3.04991983],\n",
       "       [ 0.18917796,  0.32271799],\n",
       "       [-0.0257875 ,  1.57437212]])"
      ]
     },
     "execution_count": 143,
     "metadata": {},
     "output_type": "execute_result"
    }
   ],
   "source": [
    "n_components = 2 # keep numbers of features low or lower\n",
    "pca = SparsePCA(n_components=n_components)\n",
    "X_pca_train = pca.fit_transform(X_whole_train)\n",
    "X_final_train = X_pca_train # may comment this out if ...\n",
    "X_final_train[0:5]"
   ]
  },
  {
   "cell_type": "code",
   "execution_count": 144,
   "metadata": {},
   "outputs": [
    {
     "data": {
      "text/plain": [
       "array([[ 0.03568072, -2.05303736],\n",
       "       [ 0.0373015 , -1.50255448],\n",
       "       [ 0.00666786, -0.84921887],\n",
       "       [ 0.00303666,  1.43212847],\n",
       "       [ 0.03594926, -0.69787801]])"
      ]
     },
     "execution_count": 144,
     "metadata": {},
     "output_type": "execute_result"
    }
   ],
   "source": [
    "n_components = 2 # keep numbers of features low or lower\n",
    "pca = SparsePCA(n_components=n_components)\n",
    "X_pca_test = pca.fit_transform(X_whole_test)\n",
    "X_final_test = X_pca_test # may comment this out if ...\n",
    "X_final_test[0:5]"
   ]
  },
  {
   "cell_type": "code",
   "execution_count": 145,
   "metadata": {},
   "outputs": [
    {
     "name": "stdout",
     "output_type": "stream",
     "text": [
      "Cross-validation (accuracy) 0.6233183446588564\n",
      "Cross-validation (AUC) 0.676622752925099\n",
      "Cross-validation (recall) 0.6637224223022542\n",
      "Cross-validation (precision) 0.6241782613429127\n",
      "Cross-validation (f1) 0.6387160967821542\n"
     ]
    }
   ],
   "source": [
    "# Evaluate model: accuracy is the default scoring metric\n",
    "print('Cross-validation (accuracy)', np.average(cross_val_score(knn_model, X_final_test, y_whole_test, cv=5)))\n",
    "# use AUC as scoring metric\n",
    "print('Cross-validation (AUC)', np.average(cross_val_score(knn_model, X_final_test, y_whole_test, cv=5, scoring = 'roc_auc')))\n",
    "# use recall as scoring metric\n",
    "print('Cross-validation (recall)', np.average(cross_val_score(knn_model, X_final_test, y_whole_test, cv=5, scoring = 'recall')))\n",
    "# use precision as scoring metric\n",
    "print('Cross-validation (precision)', np.average(cross_val_score(knn_model, X_final_test, y_whole_test, cv=5, scoring = 'precision_macro')))\n",
    "# use f1 as scoring metric\n",
    "print('Cross-validation (f1)', np.average(cross_val_score(knn_model, X_final_test, y_whole_test, cv=5, scoring = 'f1')))"
   ]
  },
  {
   "cell_type": "code",
   "execution_count": 150,
   "metadata": {},
   "outputs": [
    {
     "data": {
      "image/png": "[encoded data removed]",
      "text/plain": [
       "<Figure size 432x288 with 2 Axes>"
      ]
     },
     "metadata": {
      "needs_background": "light"
     },
     "output_type": "display_data"
    }
   ],
   "source": [
    "plot_confusion_matrix(knn_model.fit(X_final_train, y_whole_train), X_final_test, y_whole_test)\n",
    "plt.show()"
   ]
  },
  {
   "cell_type": "code",
   "execution_count": 140,
   "metadata": {},
   "outputs": [
    {
     "name": "stdout",
     "output_type": "stream",
     "text": [
      "Cross-validation (accuracy) 0.6277468594358074\n",
      "Cross-validation (AUC) 0.6616425975085596\n",
      "Cross-validation (recall) 0.7074940642923836\n",
      "Cross-validation (precision) 0.6305548168558481\n",
      "Cross-validation (f1) 0.6556764322368331\n"
     ]
    }
   ],
   "source": [
    "# Evaluate model: accuracy is the default scoring metric\n",
    "print('Cross-validation (accuracy)', np.average(cross_val_score(tree_model, X_final_test, y_whole_test, cv=5)))\n",
    "# use AUC as scoring metric\n",
    "print('Cross-validation (AUC)', np.average(cross_val_score(tree_model, X_final_test, y_whole_test, cv=5, scoring = 'roc_auc')))\n",
    "# use recall as scoring metric\n",
    "print('Cross-validation (recall)', np.average(cross_val_score(tree_model, X_final_test, y_whole_test, cv=5, scoring = 'recall')))\n",
    "# use precision as scoring metric\n",
    "print('Cross-validation (precision)', np.average(cross_val_score(tree_model, X_final_test, y_whole_test, cv=5, scoring = 'precision_macro')))\n",
    "# use f1 as scoring metric\n",
    "print('Cross-validation (f1)', np.average(cross_val_score(tree_model, X_final_test, y_whole_test, cv=5, scoring = 'f1')))"
   ]
  },
  {
   "cell_type": "code",
   "execution_count": 133,
   "metadata": {},
   "outputs": [
    {
     "data": {
      "image/png": "[encoded data removed]",
      "text/plain": [
       "<Figure size 432x288 with 2 Axes>"
      ]
     },
     "metadata": {
      "needs_background": "light"
     },
     "output_type": "display_data"
    }
   ],
   "source": [
    "plot_confusion_matrix(tree_model.fit(X_final_train, y_whole_train), X_whole_test, y_whole_test)\n",
    "plt.show()"
   ]
  },
  {
   "cell_type": "code",
   "execution_count": 141,
   "metadata": {},
   "outputs": [
    {
     "name": "stdout",
     "output_type": "stream",
     "text": [
      "Cross-validation (accuracy) 0.6365195692940536\n",
      "Cross-validation (AUC) 0.689938442355652\n",
      "Cross-validation (recall) 0.7066776043750834\n",
      "Cross-validation (precision) 0.6390369987596495\n",
      "Cross-validation (f1) 0.6612644743281638\n"
     ]
    }
   ],
   "source": [
    "# Evaluate model: accuracy is the default scoring metric\n",
    "print('Cross-validation (accuracy)', np.average(cross_val_score(gbdt_model, X_final_test, y_whole_test, cv=5)))\n",
    "# use AUC as scoring metric\n",
    "print('Cross-validation (AUC)', np.average(cross_val_score(gbdt_model, X_final_test, y_whole_test, cv=5, scoring = 'roc_auc')))\n",
    "# use recall as scoring metric\n",
    "print('Cross-validation (recall)', np.average(cross_val_score(gbdt_model, X_final_test, y_whole_test, cv=5, scoring = 'recall')))\n",
    "# use precision as scoring metric\n",
    "print('Cross-validation (precision)', np.average(cross_val_score(gbdt_model, X_final_test, y_whole_test, cv=5, scoring = 'precision_macro')))\n",
    "# use f1 as scoring metric\n",
    "print('Cross-validation (f1)', np.average(cross_val_score(gbdt_model, X_final_test, y_whole_test, cv=5, scoring = 'f1')))"
   ]
  },
  {
   "cell_type": "code",
   "execution_count": 131,
   "metadata": {},
   "outputs": [
    {
     "data": {
      "text/plain": [
       "<sklearn.metrics._plot.confusion_matrix.ConfusionMatrixDisplay at 0x1ed869c6b48>"
      ]
     },
     "execution_count": 131,
     "metadata": {},
     "output_type": "execute_result"
    },
    {
     "data": {
      "image/png": "[encoded data removed]",
      "text/plain": [
       "<Figure size 432x288 with 2 Axes>"
      ]
     },
     "metadata": {
      "needs_background": "light"
     },
     "output_type": "display_data"
    }
   ],
   "source": [
    "plot_confusion_matrix(gbdt_model.fit(X_final_train, y_whole_train), X_whole_test, y_whole_test)\n",
    "plt.show()"
   ]
  },
  {
   "cell_type": "code",
   "execution_count": 132,
   "metadata": {},
   "outputs": [],
   "source": []
  },
  {
   "cell_type": "code",
   "execution_count": null,
   "metadata": {},
   "outputs": [],
   "source": []
  }
 ],
 "metadata": {
  "kernelspec": {
   "display_name": "Python 3",
   "language": "python",
   "name": "python3"
  },
  "language_info": {
   "codemirror_mode": {
    "name": "ipython",
    "version": 3
   },
   "file_extension": ".py",
   "mimetype": "text/x-python",
   "name": "python",
   "nbconvert_exporter": "python",
   "pygments_lexer": "ipython3",
   "version": "3.7.4"
  }
 },
 "nbformat": 4,
 "nbformat_minor": 4
}
